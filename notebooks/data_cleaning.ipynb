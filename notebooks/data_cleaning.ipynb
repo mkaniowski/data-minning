{
 "cells": [
  {
   "cell_type": "code",
   "id": "initial_id",
   "metadata": {
    "collapsed": true,
    "ExecuteTime": {
     "end_time": "2024-11-05T23:11:02.198946Z",
     "start_time": "2024-11-05T23:11:01.711447Z"
    }
   },
   "source": "import pandas as pd",
   "outputs": [],
   "execution_count": 1
  },
  {
   "metadata": {
    "ExecuteTime": {
     "end_time": "2024-11-05T23:11:16.113969Z",
     "start_time": "2024-11-05T23:11:16.013970Z"
    }
   },
   "cell_type": "code",
   "source": "df = pd.read_csv('../data/selected_data.csv')",
   "id": "fcd3b5035ef4fc30",
   "outputs": [],
   "execution_count": 2
  },
  {
   "metadata": {
    "ExecuteTime": {
     "end_time": "2024-11-05T23:11:30.450943Z",
     "start_time": "2024-11-05T23:11:29.963950Z"
    }
   },
   "cell_type": "code",
   "source": [
    "from src.data_processing.data_cleaning import clean_data\n",
    "\n",
    "df = clean_data(df)"
   ],
   "id": "366f036e7a74f344",
   "outputs": [],
   "execution_count": 3
  },
  {
   "metadata": {
    "ExecuteTime": {
     "end_time": "2024-11-05T23:11:35.591446Z",
     "start_time": "2024-11-05T23:11:35.578445Z"
    }
   },
   "cell_type": "code",
   "source": "df",
   "id": "dd29e043250c1526",
   "outputs": [
    {
     "data": {
      "text/plain": [
       "                                               headline             category  \\\n",
       "0     hanna gronkiewiczwaltz objela mandat europoselski                prawo   \n",
       "1     kary dla hindusa i dunki zlamali prawo na lotn...                prawo   \n",
       "2     powodzianie szykuja pozew zbiorowy ma udowodni...           gospodarka   \n",
       "3       tak rosja szpiegowala gruzje sa nowe informacje           gospodarka   \n",
       "4     sledztwo w nitrochemie przedluzone kolejne oso...                prawo   \n",
       "...                                                 ...                  ...   \n",
       "3034     beda zmiany w prawie dotyczacym recyklingu aut                prawo   \n",
       "3035  wybory samorzadowe  proc polakow dobrze ocenia...  wybory samorzadowe    \n",
       "3036  polskie obozy koncentracyjne wpadka wloskiej g...           wiadomosci   \n",
       "3037   publikacja politico kreml to niestworzone bzdury     wojna w ukrainie   \n",
       "3038  karta duzej rodziny zobacz gdzie i do czego up...                prawo   \n",
       "\n",
       "                                                content  \\\n",
       "0     parlament europejski w poniedzialek przyjal do...   \n",
       "1     funkcjonariusze strazy granicznej interweniowa...   \n",
       "2     w lewinie brzeskim trwa zbiorka podpisow pod p...   \n",
       "3     rosja przez kilka lat prowadzila szeroko zakro...   \n",
       "4     sa zarzuty dla kolejnych osob w postepowaniu d...   \n",
       "...                                                 ...   \n",
       "3034                                  content not found   \n",
       "3035  na miesiac przed wyborami prace samorzadowcow ...   \n",
       "3036  to kolejny taki blad we wloskich mediach mimo ...   \n",
       "3037   przede wszystkim slabo znamy tworczosc tego p...   \n",
       "3038                                  content not found   \n",
       "\n",
       "                                                    url  \n",
       "0     https://www.money.pl/gospodarka/hanna-gronkiew...  \n",
       "1     https://www.money.pl/gospodarka/kary-dla-hindu...  \n",
       "2     https://www.money.pl/gospodarka/powodzianie-sz...  \n",
       "3     https://www.money.pl/gospodarka/tak-rosja-szpi...  \n",
       "4     https://www.money.pl/gospodarka/sledztwo-w-nit...  \n",
       "...                                                 ...  \n",
       "3034  http://e-prawnik.pl/wiadomosci/informacje/beda...  \n",
       "3035  https://prawo.money.pl/aktualnosci/wiadomosci/...  \n",
       "3036  https://prawo.money.pl/aktualnosci/wiadomosci/...  \n",
       "3037  https://prawo.money.pl/aktualnosci/wiadomosci/...  \n",
       "3038  http://e-prawnik.pl/wiadomosci/informacje/kart...  \n",
       "\n",
       "[3039 rows x 4 columns]"
      ],
      "text/html": [
       "<div>\n",
       "<style scoped>\n",
       "    .dataframe tbody tr th:only-of-type {\n",
       "        vertical-align: middle;\n",
       "    }\n",
       "\n",
       "    .dataframe tbody tr th {\n",
       "        vertical-align: top;\n",
       "    }\n",
       "\n",
       "    .dataframe thead th {\n",
       "        text-align: right;\n",
       "    }\n",
       "</style>\n",
       "<table border=\"1\" class=\"dataframe\">\n",
       "  <thead>\n",
       "    <tr style=\"text-align: right;\">\n",
       "      <th></th>\n",
       "      <th>headline</th>\n",
       "      <th>category</th>\n",
       "      <th>content</th>\n",
       "      <th>url</th>\n",
       "    </tr>\n",
       "  </thead>\n",
       "  <tbody>\n",
       "    <tr>\n",
       "      <th>0</th>\n",
       "      <td>hanna gronkiewiczwaltz objela mandat europoselski</td>\n",
       "      <td>prawo</td>\n",
       "      <td>parlament europejski w poniedzialek przyjal do...</td>\n",
       "      <td>https://www.money.pl/gospodarka/hanna-gronkiew...</td>\n",
       "    </tr>\n",
       "    <tr>\n",
       "      <th>1</th>\n",
       "      <td>kary dla hindusa i dunki zlamali prawo na lotn...</td>\n",
       "      <td>prawo</td>\n",
       "      <td>funkcjonariusze strazy granicznej interweniowa...</td>\n",
       "      <td>https://www.money.pl/gospodarka/kary-dla-hindu...</td>\n",
       "    </tr>\n",
       "    <tr>\n",
       "      <th>2</th>\n",
       "      <td>powodzianie szykuja pozew zbiorowy ma udowodni...</td>\n",
       "      <td>gospodarka</td>\n",
       "      <td>w lewinie brzeskim trwa zbiorka podpisow pod p...</td>\n",
       "      <td>https://www.money.pl/gospodarka/powodzianie-sz...</td>\n",
       "    </tr>\n",
       "    <tr>\n",
       "      <th>3</th>\n",
       "      <td>tak rosja szpiegowala gruzje sa nowe informacje</td>\n",
       "      <td>gospodarka</td>\n",
       "      <td>rosja przez kilka lat prowadzila szeroko zakro...</td>\n",
       "      <td>https://www.money.pl/gospodarka/tak-rosja-szpi...</td>\n",
       "    </tr>\n",
       "    <tr>\n",
       "      <th>4</th>\n",
       "      <td>sledztwo w nitrochemie przedluzone kolejne oso...</td>\n",
       "      <td>prawo</td>\n",
       "      <td>sa zarzuty dla kolejnych osob w postepowaniu d...</td>\n",
       "      <td>https://www.money.pl/gospodarka/sledztwo-w-nit...</td>\n",
       "    </tr>\n",
       "    <tr>\n",
       "      <th>...</th>\n",
       "      <td>...</td>\n",
       "      <td>...</td>\n",
       "      <td>...</td>\n",
       "      <td>...</td>\n",
       "    </tr>\n",
       "    <tr>\n",
       "      <th>3034</th>\n",
       "      <td>beda zmiany w prawie dotyczacym recyklingu aut</td>\n",
       "      <td>prawo</td>\n",
       "      <td>content not found</td>\n",
       "      <td>http://e-prawnik.pl/wiadomosci/informacje/beda...</td>\n",
       "    </tr>\n",
       "    <tr>\n",
       "      <th>3035</th>\n",
       "      <td>wybory samorzadowe  proc polakow dobrze ocenia...</td>\n",
       "      <td>wybory samorzadowe</td>\n",
       "      <td>na miesiac przed wyborami prace samorzadowcow ...</td>\n",
       "      <td>https://prawo.money.pl/aktualnosci/wiadomosci/...</td>\n",
       "    </tr>\n",
       "    <tr>\n",
       "      <th>3036</th>\n",
       "      <td>polskie obozy koncentracyjne wpadka wloskiej g...</td>\n",
       "      <td>wiadomosci</td>\n",
       "      <td>to kolejny taki blad we wloskich mediach mimo ...</td>\n",
       "      <td>https://prawo.money.pl/aktualnosci/wiadomosci/...</td>\n",
       "    </tr>\n",
       "    <tr>\n",
       "      <th>3037</th>\n",
       "      <td>publikacja politico kreml to niestworzone bzdury</td>\n",
       "      <td>wojna w ukrainie</td>\n",
       "      <td>przede wszystkim slabo znamy tworczosc tego p...</td>\n",
       "      <td>https://prawo.money.pl/aktualnosci/wiadomosci/...</td>\n",
       "    </tr>\n",
       "    <tr>\n",
       "      <th>3038</th>\n",
       "      <td>karta duzej rodziny zobacz gdzie i do czego up...</td>\n",
       "      <td>prawo</td>\n",
       "      <td>content not found</td>\n",
       "      <td>http://e-prawnik.pl/wiadomosci/informacje/kart...</td>\n",
       "    </tr>\n",
       "  </tbody>\n",
       "</table>\n",
       "<p>3039 rows × 4 columns</p>\n",
       "</div>"
      ]
     },
     "execution_count": 4,
     "metadata": {},
     "output_type": "execute_result"
    }
   ],
   "execution_count": 4
  },
  {
   "metadata": {
    "ExecuteTime": {
     "end_time": "2024-11-05T23:59:49.256463Z",
     "start_time": "2024-11-05T23:59:49.120457Z"
    }
   },
   "cell_type": "code",
   "source": "df.to_csv('../data/cleaned_data.csv', index=False)",
   "id": "176cdf1bf4179d08",
   "outputs": [],
   "execution_count": 5
  }
 ],
 "metadata": {
  "kernelspec": {
   "display_name": "Python 3",
   "language": "python",
   "name": "python3"
  },
  "language_info": {
   "codemirror_mode": {
    "name": "ipython",
    "version": 2
   },
   "file_extension": ".py",
   "mimetype": "text/x-python",
   "name": "python",
   "nbconvert_exporter": "python",
   "pygments_lexer": "ipython2",
   "version": "2.7.6"
  }
 },
 "nbformat": 4,
 "nbformat_minor": 5
}
