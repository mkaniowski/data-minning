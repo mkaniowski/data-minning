{
 "cells": [
  {
   "cell_type": "code",
   "id": "initial_id",
   "metadata": {
    "collapsed": true,
    "ExecuteTime": {
     "end_time": "2024-12-11T00:19:15.303553Z",
     "start_time": "2024-12-11T00:19:14.638555Z"
    }
   },
   "source": "import pandas as pd",
   "outputs": [],
   "execution_count": 1
  },
  {
   "metadata": {
    "ExecuteTime": {
     "end_time": "2024-12-11T00:19:15.877282Z",
     "start_time": "2024-12-11T00:19:15.578554Z"
    }
   },
   "cell_type": "code",
   "source": "df = pd.read_csv('../data/reduced_categories_data.csv')",
   "id": "fcd3b5035ef4fc30",
   "outputs": [],
   "execution_count": 2
  },
  {
   "metadata": {
    "ExecuteTime": {
     "end_time": "2024-12-11T00:19:29.537782Z",
     "start_time": "2024-12-11T00:19:15.888284Z"
    }
   },
   "cell_type": "code",
   "source": [
    "from src.data_processing.data_cleaning import clean_data\n",
    "\n",
    "df = clean_data(df)"
   ],
   "id": "366f036e7a74f344",
   "outputs": [
    {
     "name": "stderr",
     "output_type": "stream",
     "text": [
      "[nltk_data] Downloading package wordnet to\n",
      "[nltk_data]     C:\\Users\\kanio\\AppData\\Roaming\\nltk_data...\n",
      "[nltk_data]   Package wordnet is already up-to-date!\n"
     ]
    },
    {
     "name": "stdout",
     "output_type": "stream",
     "text": [
      "{'przez', 'one', 'twoi', 'ją', 'dobrze', 'jeśli', 'mu', 'nim', 'jakby', 'jedna', 'aj', 'ty', 'wam', 'niej', 'tam', 'ku', 'sie', 'na', 'po pod', 'dlatego', 'ich', 'kierunku', 'nasza', 'ciebie', 'dwa', 'dwoje', 'że', 'tak', 'nas', 'skąd', 'twoja', 'wasz', 'go', 'nasi', 'daleko', 'dwaj', 'może', 'tu', 'już', 'i', 'jaki', 'bardzo', 'tobie', 'twój', 'nasz', 'jak', 'wszystko', 'jej', 'we', 'wtedy', 'ile', 'się', 'nią', 'nie', 'mnie', 'ach', 'oni', 'twoje', 'tobą', 'je', 'albo', 'czy', 'jemu', 'od', 'moi', 'gdyby', 'być', 'inny', 'on', 'tutaj', 'każdy', 'sam', 'nigdy', 'jest', 'ona', 'dziś', 'ono', 'o', 'to', 'im', 'nic', 'nimi', 'dzisiaj', 'przed', 'cię', 'a', 'owszem', 'jedno', 'nami', 'wasza', 'ma', 'nich', 'lub', 'bez', 'niż', 'wasi', 'mi', 'was', 'niemu', 'bo', 'my', 'ponieważ', 'moje', 'kiedy', 'obok', 'taki', 'niego', 'z', 'ze', 'zawsze', 'natychmiast', 'gdzie', 'jeden', 'wy', 'wami', 'ci', 'mają', 'mam', 'ten', 'więc', 'jego', 'nam', 'dlaczego', 'jestem', 'jeżeli', 'dużo', 'wasze', 'kto', 'dla', 'moja', 'co', 'dwie', 'dokąd', 'są', 'sama', 'mną', 'nasze', 'za', 'mój', 'przedtem', 'żaden', 'dość', 'około', 'w', 'ja', 'do'}\n"
     ]
    }
   ],
   "execution_count": 3
  },
  {
   "metadata": {
    "ExecuteTime": {
     "end_time": "2024-12-11T00:19:29.581783Z",
     "start_time": "2024-12-11T00:19:29.560782Z"
    }
   },
   "cell_type": "code",
   "source": "df",
   "id": "dd29e043250c1526",
   "outputs": [
    {
     "data": {
      "text/plain": [
       "                                               headline  \\\n",
       "0     mandat na raty rpo chce zmian ws wygaszania pu...   \n",
       "1     domki dla powodzian od buddy zamieszanie wokol...   \n",
       "2     hanna gronkiewiczwaltz objela mandat europoselski   \n",
       "3     kary dla hindusa i dunki zlamali prawo na lotn...   \n",
       "4     powodzianie szykuja pozew zbiorowy ma udowodni...   \n",
       "...                                                 ...   \n",
       "9466   publikacja politico kreml to niestworzone bzdury   \n",
       "9467    rehabilitacji lecznicza nik coraz gorszy dostep   \n",
       "9468  karta duzej rodziny zobacz gdzie i do czego up...   \n",
       "9469  referendum ws likwidacji strazy miejskiej nie ...   \n",
       "9470     zwolennicy monarchii rosna w sile w portugalii   \n",
       "\n",
       "                                     category  \\\n",
       "0                        gospodarka i finanse   \n",
       "1                        srodowisko i energia   \n",
       "2                            polityka i prawo   \n",
       "3                            polityka i prawo   \n",
       "4                        gospodarka i finanse   \n",
       "...                                       ...   \n",
       "9466  relacje miedzynarodowe i bezpieczenstwo   \n",
       "9467          spoleczenstwo i sprawy socjalne   \n",
       "9468                         polityka i prawo   \n",
       "9469                         polityka i prawo   \n",
       "9470  relacje miedzynarodowe i bezpieczenstwo   \n",
       "\n",
       "                                                content  \\\n",
       "0     [kierowcy, ktorzy, splacaja, mandat, raty, dlu...   \n",
       "1     [poszkodowana, powodz, pani, ilona, okolic, la...   \n",
       "2     [parlament, europejski, poniedzialek, przyjal,...   \n",
       "3     [funkcjonariusze, strazy, granicznej, interwen...   \n",
       "4     [lewinie, brzeskim, trwa, zbiorka, podpisow, p...   \n",
       "...                                                 ...   \n",
       "9466  [przede, wszystkim, slabo, znamy, tworczosc, t...   \n",
       "9467  [zabiegi, czeka, coraz, wiecej, osob, kurczy, ...   \n",
       "9468                              [content, not, found]   \n",
       "9469  [wniosek, zawieral, bledy, stwierdzila, komisj...   \n",
       "9470  [poszerzaniu, grona, towarzyszy, tworzenie, or...   \n",
       "\n",
       "                                                    url  \n",
       "0     https://www.money.pl/gospodarka/mandat-na-raty...  \n",
       "1     https://www.money.pl/gospodarka/domki-dla-powo...  \n",
       "2     https://www.money.pl/gospodarka/hanna-gronkiew...  \n",
       "3     https://www.money.pl/gospodarka/kary-dla-hindu...  \n",
       "4     https://www.money.pl/gospodarka/powodzianie-sz...  \n",
       "...                                                 ...  \n",
       "9466  https://prawo.money.pl/aktualnosci/wiadomosci/...  \n",
       "9467  https://prawo.money.pl/aktualnosci/wiadomosci/...  \n",
       "9468  http://e-prawnik.pl/wiadomosci/informacje/kart...  \n",
       "9469  https://prawo.money.pl/aktualnosci/wiadomosci/...  \n",
       "9470  https://prawo.money.pl/aktualnosci/wiadomosci/...  \n",
       "\n",
       "[9471 rows x 4 columns]"
      ],
      "text/html": [
       "<div>\n",
       "<style scoped>\n",
       "    .dataframe tbody tr th:only-of-type {\n",
       "        vertical-align: middle;\n",
       "    }\n",
       "\n",
       "    .dataframe tbody tr th {\n",
       "        vertical-align: top;\n",
       "    }\n",
       "\n",
       "    .dataframe thead th {\n",
       "        text-align: right;\n",
       "    }\n",
       "</style>\n",
       "<table border=\"1\" class=\"dataframe\">\n",
       "  <thead>\n",
       "    <tr style=\"text-align: right;\">\n",
       "      <th></th>\n",
       "      <th>headline</th>\n",
       "      <th>category</th>\n",
       "      <th>content</th>\n",
       "      <th>url</th>\n",
       "    </tr>\n",
       "  </thead>\n",
       "  <tbody>\n",
       "    <tr>\n",
       "      <th>0</th>\n",
       "      <td>mandat na raty rpo chce zmian ws wygaszania pu...</td>\n",
       "      <td>gospodarka i finanse</td>\n",
       "      <td>[kierowcy, ktorzy, splacaja, mandat, raty, dlu...</td>\n",
       "      <td>https://www.money.pl/gospodarka/mandat-na-raty...</td>\n",
       "    </tr>\n",
       "    <tr>\n",
       "      <th>1</th>\n",
       "      <td>domki dla powodzian od buddy zamieszanie wokol...</td>\n",
       "      <td>srodowisko i energia</td>\n",
       "      <td>[poszkodowana, powodz, pani, ilona, okolic, la...</td>\n",
       "      <td>https://www.money.pl/gospodarka/domki-dla-powo...</td>\n",
       "    </tr>\n",
       "    <tr>\n",
       "      <th>2</th>\n",
       "      <td>hanna gronkiewiczwaltz objela mandat europoselski</td>\n",
       "      <td>polityka i prawo</td>\n",
       "      <td>[parlament, europejski, poniedzialek, przyjal,...</td>\n",
       "      <td>https://www.money.pl/gospodarka/hanna-gronkiew...</td>\n",
       "    </tr>\n",
       "    <tr>\n",
       "      <th>3</th>\n",
       "      <td>kary dla hindusa i dunki zlamali prawo na lotn...</td>\n",
       "      <td>polityka i prawo</td>\n",
       "      <td>[funkcjonariusze, strazy, granicznej, interwen...</td>\n",
       "      <td>https://www.money.pl/gospodarka/kary-dla-hindu...</td>\n",
       "    </tr>\n",
       "    <tr>\n",
       "      <th>4</th>\n",
       "      <td>powodzianie szykuja pozew zbiorowy ma udowodni...</td>\n",
       "      <td>gospodarka i finanse</td>\n",
       "      <td>[lewinie, brzeskim, trwa, zbiorka, podpisow, p...</td>\n",
       "      <td>https://www.money.pl/gospodarka/powodzianie-sz...</td>\n",
       "    </tr>\n",
       "    <tr>\n",
       "      <th>...</th>\n",
       "      <td>...</td>\n",
       "      <td>...</td>\n",
       "      <td>...</td>\n",
       "      <td>...</td>\n",
       "    </tr>\n",
       "    <tr>\n",
       "      <th>9466</th>\n",
       "      <td>publikacja politico kreml to niestworzone bzdury</td>\n",
       "      <td>relacje miedzynarodowe i bezpieczenstwo</td>\n",
       "      <td>[przede, wszystkim, slabo, znamy, tworczosc, t...</td>\n",
       "      <td>https://prawo.money.pl/aktualnosci/wiadomosci/...</td>\n",
       "    </tr>\n",
       "    <tr>\n",
       "      <th>9467</th>\n",
       "      <td>rehabilitacji lecznicza nik coraz gorszy dostep</td>\n",
       "      <td>spoleczenstwo i sprawy socjalne</td>\n",
       "      <td>[zabiegi, czeka, coraz, wiecej, osob, kurczy, ...</td>\n",
       "      <td>https://prawo.money.pl/aktualnosci/wiadomosci/...</td>\n",
       "    </tr>\n",
       "    <tr>\n",
       "      <th>9468</th>\n",
       "      <td>karta duzej rodziny zobacz gdzie i do czego up...</td>\n",
       "      <td>polityka i prawo</td>\n",
       "      <td>[content, not, found]</td>\n",
       "      <td>http://e-prawnik.pl/wiadomosci/informacje/kart...</td>\n",
       "    </tr>\n",
       "    <tr>\n",
       "      <th>9469</th>\n",
       "      <td>referendum ws likwidacji strazy miejskiej nie ...</td>\n",
       "      <td>polityka i prawo</td>\n",
       "      <td>[wniosek, zawieral, bledy, stwierdzila, komisj...</td>\n",
       "      <td>https://prawo.money.pl/aktualnosci/wiadomosci/...</td>\n",
       "    </tr>\n",
       "    <tr>\n",
       "      <th>9470</th>\n",
       "      <td>zwolennicy monarchii rosna w sile w portugalii</td>\n",
       "      <td>relacje miedzynarodowe i bezpieczenstwo</td>\n",
       "      <td>[poszerzaniu, grona, towarzyszy, tworzenie, or...</td>\n",
       "      <td>https://prawo.money.pl/aktualnosci/wiadomosci/...</td>\n",
       "    </tr>\n",
       "  </tbody>\n",
       "</table>\n",
       "<p>9471 rows × 4 columns</p>\n",
       "</div>"
      ]
     },
     "execution_count": 4,
     "metadata": {},
     "output_type": "execute_result"
    }
   ],
   "execution_count": 4
  },
  {
   "metadata": {
    "ExecuteTime": {
     "end_time": "2024-12-11T00:19:29.788284Z",
     "start_time": "2024-12-11T00:19:29.781783Z"
    }
   },
   "cell_type": "code",
   "source": "df['category'].value_counts()",
   "id": "84215c728150afdd",
   "outputs": [
    {
     "data": {
      "text/plain": [
       "category\n",
       "polityka i prawo                           3834\n",
       "relacje miedzynarodowe i bezpieczenstwo    1826\n",
       "gospodarka i finanse                       1567\n",
       "spoleczenstwo i sprawy socjalne             855\n",
       "kultura media i komunikacja spoleczna       820\n",
       "inne                                        197\n",
       "srodowisko i energia                        158\n",
       "technologia i innowacje                      93\n",
       "Name: count, dtype: int64"
      ]
     },
     "execution_count": 5,
     "metadata": {},
     "output_type": "execute_result"
    }
   ],
   "execution_count": 5
  },
  {
   "metadata": {
    "ExecuteTime": {
     "end_time": "2024-12-11T00:19:29.862783Z",
     "start_time": "2024-12-11T00:19:29.853286Z"
    }
   },
   "cell_type": "code",
   "source": "df = df.groupby('category').filter(lambda x: len(x) > 1000)",
   "id": "d116e98b50c588fe",
   "outputs": [],
   "execution_count": 6
  },
  {
   "metadata": {
    "ExecuteTime": {
     "end_time": "2024-12-11T00:19:30.040283Z",
     "start_time": "2024-12-11T00:19:30.034282Z"
    }
   },
   "cell_type": "code",
   "source": "df['category'].value_counts()",
   "id": "d92f326f00900ffc",
   "outputs": [
    {
     "data": {
      "text/plain": [
       "category\n",
       "polityka i prawo                           3834\n",
       "relacje miedzynarodowe i bezpieczenstwo    1826\n",
       "gospodarka i finanse                       1567\n",
       "Name: count, dtype: int64"
      ]
     },
     "execution_count": 7,
     "metadata": {},
     "output_type": "execute_result"
    }
   ],
   "execution_count": 7
  },
  {
   "metadata": {
    "ExecuteTime": {
     "end_time": "2024-12-11T00:19:30.120851Z",
     "start_time": "2024-12-11T00:19:30.117785Z"
    }
   },
   "cell_type": "code",
   "source": "# df = df.drop(df[df['category'] == 'polityka i prawo'].sample(2000).index)",
   "id": "872097557a9ef84f",
   "outputs": [],
   "execution_count": 8
  },
  {
   "metadata": {
    "ExecuteTime": {
     "end_time": "2024-12-11T00:19:30.254784Z",
     "start_time": "2024-12-11T00:19:30.251785Z"
    }
   },
   "cell_type": "code",
   "source": "# df['category'].value_counts()",
   "id": "30740d82ebdebd08",
   "outputs": [],
   "execution_count": 9
  },
  {
   "metadata": {
    "ExecuteTime": {
     "end_time": "2024-12-11T00:19:30.827783Z",
     "start_time": "2024-12-11T00:19:30.334282Z"
    }
   },
   "cell_type": "code",
   "source": "df.to_csv('../data/cleaned_data.csv', index=False)",
   "id": "176cdf1bf4179d08",
   "outputs": [],
   "execution_count": 10
  },
  {
   "metadata": {
    "ExecuteTime": {
     "end_time": "2024-12-11T00:19:33.748783Z",
     "start_time": "2024-12-11T00:19:30.832783Z"
    }
   },
   "cell_type": "code",
   "source": [
    "import ast\n",
    "df = pd.read_csv('../data/cleaned_data.csv')\n",
    "df['content'] = df['content'].apply(lambda x: ast.literal_eval(x) if isinstance(x, str) else x)\n",
    "df['content'][0]"
   ],
   "id": "501be2339ab4af13",
   "outputs": [
    {
     "data": {
      "text/plain": [
       "['kierowcy',\n",
       " 'ktorzy',\n",
       " 'splacaja',\n",
       " 'mandat',\n",
       " 'raty',\n",
       " 'dluzej',\n",
       " 'musza',\n",
       " 'czekac',\n",
       " 'wykreslenie',\n",
       " 'punktow',\n",
       " 'karnych',\n",
       " 'ewidencji',\n",
       " 'sa',\n",
       " 'gorszej',\n",
       " 'sytuacji',\n",
       " 'tych',\n",
       " 'ktorych',\n",
       " 'stac',\n",
       " 'zaplate',\n",
       " 'razu',\n",
       " 'wskazal',\n",
       " 'rpo',\n",
       " 'marcin',\n",
       " 'wiacek',\n",
       " 'zwrocil',\n",
       " 'mswia',\n",
       " 'oraz',\n",
       " 'parlamentarnych',\n",
       " 'komisji',\n",
       " 'ustawodawczych',\n",
       " 'zmiane',\n",
       " 'przepisow',\n",
       " 'konieczne',\n",
       " 'ujednolicenie',\n",
       " 'zrownanie',\n",
       " 'momentu',\n",
       " 'rozpoczecia',\n",
       " 'biegu',\n",
       " 'terminu',\n",
       " 'wygaszania',\n",
       " 'punktow',\n",
       " 'karnych',\n",
       " 'osob',\n",
       " 'ktore',\n",
       " 'wzgledu',\n",
       " 'gorsza',\n",
       " 'sytuacje',\n",
       " 'majatkowa',\n",
       " 'dobrowolnie',\n",
       " 'podjely',\n",
       " 'splaty',\n",
       " 'grzywny',\n",
       " 'ratach',\n",
       " 'tych',\n",
       " 'ktore',\n",
       " 'wzgledu',\n",
       " 'lepsza',\n",
       " 'sytuacje',\n",
       " 'majatkowa',\n",
       " 'mogly',\n",
       " 'uiscic',\n",
       " 'zobowiazanie',\n",
       " 'razu',\n",
       " 'terminie',\n",
       " 'wskazanym',\n",
       " 'mandacie',\n",
       " 'kredytowanym',\n",
       " 'ocenil',\n",
       " 'rpo',\n",
       " 'pismie',\n",
       " 'ktore',\n",
       " 'zamieszczono',\n",
       " 'stronie',\n",
       " 'biura',\n",
       " 'rzecznika',\n",
       " 'wystapienie',\n",
       " 'rpo',\n",
       " 'wywolane',\n",
       " 'zostalo',\n",
       " 'wnioskami',\n",
       " 'kierowanymi',\n",
       " 'biura',\n",
       " 'rpo',\n",
       " 'kierowcow',\n",
       " 'ukaranych',\n",
       " 'mandatami',\n",
       " 'doliczonymi',\n",
       " 'punktami',\n",
       " 'karnymi',\n",
       " 'ktorzy',\n",
       " 'wzgledu',\n",
       " 'sytuacje',\n",
       " 'materialna',\n",
       " 'wnioskuja',\n",
       " 'rozlozenie',\n",
       " 'naleznosci',\n",
       " 'raty',\n",
       " 'dalsza',\n",
       " 'czesc',\n",
       " 'artykulu',\n",
       " 'pod',\n",
       " 'materialem',\n",
       " 'wideo',\n",
       " 'takie',\n",
       " 'niekorzystne',\n",
       " 'zroznicowanie',\n",
       " 'polegac',\n",
       " 'tym',\n",
       " 'sprawcom',\n",
       " 'wykroczen',\n",
       " 'dysponujacym',\n",
       " 'pieniedzmi',\n",
       " 'grzywne',\n",
       " 'punkty',\n",
       " 'karne',\n",
       " 'sa',\n",
       " 'wykreslane',\n",
       " 'ewidencji',\n",
       " 'po',\n",
       " 'roku',\n",
       " 'zaplaty',\n",
       " 'stosunku',\n",
       " 'zas',\n",
       " 'sprawcow',\n",
       " 'ktorym',\n",
       " 'mandat',\n",
       " 'rozlozono',\n",
       " 'raty',\n",
       " 'nastapi',\n",
       " 'po',\n",
       " 'roku',\n",
       " 'zaplaty',\n",
       " 'ostatniej',\n",
       " 'raty',\n",
       " 'przypomnial',\n",
       " 'wiacek',\n",
       " 'wskazal',\n",
       " 'rpo',\n",
       " 'wystapieniu',\n",
       " 'przedluzanie',\n",
       " 'okresu',\n",
       " 'posiadania',\n",
       " 'punktow',\n",
       " 'karnych',\n",
       " 'poprzez',\n",
       " 'oddalanie']"
      ]
     },
     "execution_count": 11,
     "metadata": {},
     "output_type": "execute_result"
    }
   ],
   "execution_count": 11
  }
 ],
 "metadata": {
  "kernelspec": {
   "display_name": "Python 3",
   "language": "python",
   "name": "python3"
  },
  "language_info": {
   "codemirror_mode": {
    "name": "ipython",
    "version": 2
   },
   "file_extension": ".py",
   "mimetype": "text/x-python",
   "name": "python",
   "nbconvert_exporter": "python",
   "pygments_lexer": "ipython2",
   "version": "2.7.6"
  }
 },
 "nbformat": 4,
 "nbformat_minor": 5
}
