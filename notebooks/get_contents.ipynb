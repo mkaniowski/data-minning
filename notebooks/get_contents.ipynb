{
 "cells": [
  {
   "cell_type": "code",
   "id": "initial_id",
   "metadata": {
    "collapsed": true,
    "ExecuteTime": {
     "end_time": "2024-12-29T15:17:52.340691Z",
     "start_time": "2024-12-29T15:17:52.332691Z"
    }
   },
   "source": [
    "import os\n",
    "current_path = os.getcwd()"
   ],
   "outputs": [],
   "execution_count": 1
  },
  {
   "metadata": {
    "ExecuteTime": {
     "end_time": "2024-12-29T15:17:52.881190Z",
     "start_time": "2024-12-29T15:17:52.353193Z"
    }
   },
   "cell_type": "code",
   "source": [
    "from selenium import webdriver\n",
    "from selenium.webdriver.chrome.options import Options\n",
    "from selenium.webdriver.chrome.service import Service\n",
    "from webdriver_manager.chrome import ChromeDriverManager"
   ],
   "id": "4fd1086de984e10",
   "outputs": [],
   "execution_count": 2
  },
  {
   "metadata": {
    "ExecuteTime": {
     "end_time": "2024-12-29T15:17:53.178191Z",
     "start_time": "2024-12-29T15:17:53.174193Z"
    }
   },
   "cell_type": "code",
   "source": [
    "chrome_options = Options()\n",
    "chrome_options.add_argument(\"--no-sandbox\")\n",
    "chrome_options.add_argument(\"--disable-dev-shm-usage\")\n",
    "chrome_options.add_argument(\"load-extension=C:/Users/kanio/AppData/Local/Google/Chrome/User Data/Default/Extensions/cjpalhdlnbpafiamejdnhcphjbkeiagm/1.61.2_0\")"
   ],
   "id": "937113841546538d",
   "outputs": [],
   "execution_count": 3
  },
  {
   "metadata": {
    "ExecuteTime": {
     "end_time": "2024-12-29T15:17:55.734526Z",
     "start_time": "2024-12-29T15:17:53.188193Z"
    }
   },
   "cell_type": "code",
   "source": "driver = webdriver.Chrome(service=Service(ChromeDriverManager().install()), options=chrome_options)",
   "id": "772fe8de18339557",
   "outputs": [],
   "execution_count": 4
  },
  {
   "metadata": {
    "ExecuteTime": {
     "end_time": "2024-12-29T15:17:55.762525Z",
     "start_time": "2024-12-29T15:17:55.746025Z"
    }
   },
   "cell_type": "code",
   "source": [
    "from src.utils.process_urls import process_urls\n",
    "from src.webscrape.get_content_gazetapl import get_content"
   ],
   "id": "12de0461ec95edef",
   "outputs": [],
   "execution_count": 5
  },
  {
   "metadata": {
    "ExecuteTime": {
     "end_time": "2024-12-17T19:43:40.629187Z",
     "start_time": "2024-12-17T18:23:47.389258Z"
    }
   },
   "cell_type": "code",
   "outputs": [
    {
     "name": "stderr",
     "output_type": "stream",
     "text": [
      "5018it [1:19:53,  1.05it/s]\n"
     ]
    }
   ],
   "execution_count": 5,
   "source": [
    "input_path = f\"{current_path}/../data/yapping_urls.csv\"\n",
    "output_path = f\"{current_path}/../data/yapping_content.csv\"\n",
    "\n",
    "process_urls(input_path, output_path, get_content, driver)"
   ],
   "id": "32fc1830a16c2dca"
  },
  {
   "metadata": {
    "ExecuteTime": {
     "end_time": "2024-12-17T21:12:31.024102Z",
     "start_time": "2024-12-17T19:43:40.718186Z"
    }
   },
   "cell_type": "code",
   "source": [
    "input_path = f\"{current_path}/../data/wiadomosci_urls.csv\"\n",
    "output_path = f\"{current_path}/../data/wiadomnosci_content.csv\"\n",
    "\n",
    "process_urls(input_path, output_path, get_content, driver)"
   ],
   "id": "2254f4cb2c59cc3c",
   "outputs": [
    {
     "name": "stderr",
     "output_type": "stream",
     "text": [
      "5577it [1:28:50,  1.05it/s]\n"
     ]
    }
   ],
   "execution_count": 6
  },
  {
   "metadata": {
    "ExecuteTime": {
     "end_time": "2024-12-29T16:59:02.209044Z",
     "start_time": "2024-12-29T15:17:58.180353Z"
    }
   },
   "cell_type": "code",
   "source": [
    "input_path = f\"{current_path}/../data/sport_urls_1.csv\"\n",
    "output_path = f\"{current_path}/../data/sport_content_2.csv\"\n",
    "\n",
    "process_urls(input_path, output_path, get_content, driver)"
   ],
   "id": "216a333a955400d9",
   "outputs": [
    {
     "name": "stderr",
     "output_type": "stream",
     "text": [
      "5455it [1:41:03,  1.11s/it]\n"
     ]
    },
    {
     "ename": "KeyboardInterrupt",
     "evalue": "",
     "output_type": "error",
     "traceback": [
      "\u001B[1;31m---------------------------------------------------------------------------\u001B[0m",
      "\u001B[1;31mKeyboardInterrupt\u001B[0m                         Traceback (most recent call last)",
      "Cell \u001B[1;32mIn[6], line 4\u001B[0m\n\u001B[0;32m      1\u001B[0m input_path \u001B[38;5;241m=\u001B[39m \u001B[38;5;124mf\u001B[39m\u001B[38;5;124m\"\u001B[39m\u001B[38;5;132;01m{\u001B[39;00mcurrent_path\u001B[38;5;132;01m}\u001B[39;00m\u001B[38;5;124m/../data/sport_urls_1.csv\u001B[39m\u001B[38;5;124m\"\u001B[39m\n\u001B[0;32m      2\u001B[0m output_path \u001B[38;5;241m=\u001B[39m \u001B[38;5;124mf\u001B[39m\u001B[38;5;124m\"\u001B[39m\u001B[38;5;132;01m{\u001B[39;00mcurrent_path\u001B[38;5;132;01m}\u001B[39;00m\u001B[38;5;124m/../data/sport_content_2.csv\u001B[39m\u001B[38;5;124m\"\u001B[39m\n\u001B[1;32m----> 4\u001B[0m \u001B[43mprocess_urls\u001B[49m\u001B[43m(\u001B[49m\u001B[43minput_path\u001B[49m\u001B[43m,\u001B[49m\u001B[43m \u001B[49m\u001B[43moutput_path\u001B[49m\u001B[43m,\u001B[49m\u001B[43m \u001B[49m\u001B[43mget_content\u001B[49m\u001B[43m,\u001B[49m\u001B[43m \u001B[49m\u001B[43mdriver\u001B[49m\u001B[43m)\u001B[49m\n",
      "File \u001B[1;32mE:\\Michal\\Dokumenty\\Studia\\DM\\data-minning\\src\\utils\\process_urls.py:28\u001B[0m, in \u001B[0;36mprocess_urls\u001B[1;34m(input_file, output_file, processor, driver)\u001B[0m\n\u001B[0;32m     25\u001B[0m category \u001B[38;5;241m=\u001B[39m row[\u001B[38;5;124m\"\u001B[39m\u001B[38;5;124mcategory\u001B[39m\u001B[38;5;124m\"\u001B[39m]\n\u001B[0;32m     26\u001B[0m url \u001B[38;5;241m=\u001B[39m row[\u001B[38;5;124m\"\u001B[39m\u001B[38;5;124murl\u001B[39m\u001B[38;5;124m\"\u001B[39m]\n\u001B[1;32m---> 28\u001B[0m content \u001B[38;5;241m=\u001B[39m \u001B[43mprocessor\u001B[49m\u001B[43m(\u001B[49m\u001B[43murl\u001B[49m\u001B[43m,\u001B[49m\u001B[43m \u001B[49m\u001B[43mdriver\u001B[49m\u001B[43m)\u001B[49m\n\u001B[0;32m     30\u001B[0m \u001B[38;5;28;01mif\u001B[39;00m content \u001B[38;5;129;01mis\u001B[39;00m \u001B[38;5;28;01mNone\u001B[39;00m:\n\u001B[0;32m     31\u001B[0m     \u001B[38;5;28;01mcontinue\u001B[39;00m\n",
      "File \u001B[1;32mE:\\Michal\\Dokumenty\\Studia\\DM\\data-minning\\src\\webscrape\\get_content_gazetapl.py:11\u001B[0m, in \u001B[0;36mget_content\u001B[1;34m(url, driver)\u001B[0m\n\u001B[0;32m      9\u001B[0m content \u001B[38;5;241m=\u001B[39m \u001B[38;5;124m\"\u001B[39m\u001B[38;5;124m\"\u001B[39m\n\u001B[0;32m     10\u001B[0m driver\u001B[38;5;241m.\u001B[39mget(url)\n\u001B[1;32m---> 11\u001B[0m time\u001B[38;5;241m.\u001B[39msleep(\u001B[38;5;28mfloat\u001B[39m(os\u001B[38;5;241m.\u001B[39mgetenv(\u001B[38;5;124m\"\u001B[39m\u001B[38;5;124mTIME_FOR_PAGE_LOAD\u001B[39m\u001B[38;5;124m\"\u001B[39m)))\n\u001B[0;32m     13\u001B[0m article_body \u001B[38;5;241m=\u001B[39m driver\u001B[38;5;241m.\u001B[39mfind_element(By\u001B[38;5;241m.\u001B[39mID, \u001B[38;5;124m\"\u001B[39m\u001B[38;5;124mgazeta_article_body\u001B[39m\u001B[38;5;124m\"\u001B[39m)\n\u001B[0;32m     15\u001B[0m \u001B[38;5;28;01mfor\u001B[39;00m paragraph \u001B[38;5;129;01min\u001B[39;00m article_body\u001B[38;5;241m.\u001B[39mfind_elements(By\u001B[38;5;241m.\u001B[39mTAG_NAME, \u001B[38;5;124m\"\u001B[39m\u001B[38;5;124mp\u001B[39m\u001B[38;5;124m\"\u001B[39m):\n",
      "\u001B[1;31mKeyboardInterrupt\u001B[0m: "
     ]
    }
   ],
   "execution_count": 6
  }
 ],
 "metadata": {
  "kernelspec": {
   "display_name": "Python 3",
   "language": "python",
   "name": "python3"
  },
  "language_info": {
   "codemirror_mode": {
    "name": "ipython",
    "version": 2
   },
   "file_extension": ".py",
   "mimetype": "text/x-python",
   "name": "python",
   "nbconvert_exporter": "python",
   "pygments_lexer": "ipython2",
   "version": "2.7.6"
  }
 },
 "nbformat": 4,
 "nbformat_minor": 5
}
