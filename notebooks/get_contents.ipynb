{
 "cells": [
  {
   "cell_type": "code",
   "id": "initial_id",
   "metadata": {
    "collapsed": true,
    "ExecuteTime": {
     "end_time": "2024-12-17T18:23:44.091196Z",
     "start_time": "2024-12-17T18:23:44.083698Z"
    }
   },
   "source": [
    "import os\n",
    "current_path = os.getcwd()"
   ],
   "outputs": [],
   "execution_count": 1
  },
  {
   "metadata": {
    "ExecuteTime": {
     "end_time": "2024-12-17T18:23:44.609196Z",
     "start_time": "2024-12-17T18:23:44.095198Z"
    }
   },
   "cell_type": "code",
   "source": [
    "from selenium import webdriver\n",
    "from selenium.webdriver.chrome.options import Options\n",
    "from selenium.webdriver.chrome.service import Service\n",
    "from webdriver_manager.chrome import ChromeDriverManager"
   ],
   "id": "4fd1086de984e10",
   "outputs": [],
   "execution_count": 2
  },
  {
   "metadata": {
    "ExecuteTime": {
     "end_time": "2024-12-17T18:23:44.876696Z",
     "start_time": "2024-12-17T18:23:44.873196Z"
    }
   },
   "cell_type": "code",
   "source": [
    "chrome_options = Options()\n",
    "chrome_options.add_argument(\"--no-sandbox\")\n",
    "chrome_options.add_argument(\"--disable-dev-shm-usage\")\n",
    "chrome_options.add_argument(\"load-extension=C:/Users/kanio/AppData/Local/Google/Chrome/User Data/Default/Extensions/cjpalhdlnbpafiamejdnhcphjbkeiagm/1.61.2_0\")"
   ],
   "id": "937113841546538d",
   "outputs": [],
   "execution_count": 3
  },
  {
   "metadata": {
    "ExecuteTime": {
     "end_time": "2024-12-17T18:23:47.376760Z",
     "start_time": "2024-12-17T18:23:44.885697Z"
    }
   },
   "cell_type": "code",
   "source": "driver = webdriver.Chrome(service=Service(ChromeDriverManager().install()), options=chrome_options)",
   "id": "772fe8de18339557",
   "outputs": [],
   "execution_count": 4
  },
  {
   "metadata": {
    "ExecuteTime": {
     "end_time": "2024-12-17T19:43:40.629187Z",
     "start_time": "2024-12-17T18:23:47.389258Z"
    }
   },
   "cell_type": "code",
   "source": [
    "from src.utils.process_urls import process_urls\n",
    "from src.webscrape.get_content_gazetapl import get_content\n",
    "\n",
    "input_path = f\"{current_path}/../data/yapping_urls.csv\"\n",
    "output_path = f\"{current_path}/../data/yapping_content.csv\"\n",
    "\n",
    "process_urls(input_path, output_path, get_content, driver)"
   ],
   "id": "32fc1830a16c2dca",
   "outputs": [
    {
     "name": "stderr",
     "output_type": "stream",
     "text": [
      "5018it [1:19:53,  1.05it/s]\n"
     ]
    }
   ],
   "execution_count": 5
  },
  {
   "metadata": {
    "ExecuteTime": {
     "end_time": "2024-12-17T21:12:31.024102Z",
     "start_time": "2024-12-17T19:43:40.718186Z"
    }
   },
   "cell_type": "code",
   "source": [
    "input_path = f\"{current_path}/../data/wiadomosci_urls.csv\"\n",
    "output_path = f\"{current_path}/../data/wiadomnosci_content.csv\"\n",
    "\n",
    "process_urls(input_path, output_path, get_content, driver)"
   ],
   "id": "2254f4cb2c59cc3c",
   "outputs": [
    {
     "name": "stderr",
     "output_type": "stream",
     "text": [
      "5577it [1:28:50,  1.05it/s]\n"
     ]
    }
   ],
   "execution_count": 6
  },
  {
   "metadata": {
    "ExecuteTime": {
     "end_time": "2024-12-17T23:51:41.963334Z",
     "start_time": "2024-12-17T21:12:31.056105Z"
    }
   },
   "cell_type": "code",
   "source": [
    "input_path = f\"{current_path}/../data/sport_urls_1.csv\"\n",
    "output_path = f\"{current_path}/../data/sport_content_1.csv\"\n",
    "\n",
    "process_urls(input_path, output_path, get_content, driver)"
   ],
   "id": "216a333a955400d9",
   "outputs": [
    {
     "name": "stderr",
     "output_type": "stream",
     "text": [
      "7615it [2:39:10,  1.25s/it]\n"
     ]
    }
   ],
   "execution_count": 7
  }
 ],
 "metadata": {
  "kernelspec": {
   "display_name": "Python 3",
   "language": "python",
   "name": "python3"
  },
  "language_info": {
   "codemirror_mode": {
    "name": "ipython",
    "version": 2
   },
   "file_extension": ".py",
   "mimetype": "text/x-python",
   "name": "python",
   "nbconvert_exporter": "python",
   "pygments_lexer": "ipython2",
   "version": "2.7.6"
  }
 },
 "nbformat": 4,
 "nbformat_minor": 5
}
