{
 "cells": [
  {
   "metadata": {},
   "cell_type": "markdown",
   "source": "### Setting up env for webscraping",
   "id": "5d72ac56b579912e"
  },
  {
   "metadata": {
    "ExecuteTime": {
     "end_time": "2024-10-26T02:22:43.168137Z",
     "start_time": "2024-10-26T02:22:42.892136Z"
    }
   },
   "cell_type": "code",
   "source": [
    "import os\n",
    "\n",
    "from src.webscrape.moneypl.get_content import get_content\n",
    "\n",
    "current_path = os.getcwd()"
   ],
   "id": "dadfad3770822d18",
   "outputs": [],
   "execution_count": 1
  },
  {
   "metadata": {
    "ExecuteTime": {
     "end_time": "2024-10-26T02:22:43.546635Z",
     "start_time": "2024-10-26T02:22:43.172137Z"
    }
   },
   "cell_type": "code",
   "source": [
    "from selenium import webdriver\n",
    "from selenium.webdriver.chrome.options import Options\n",
    "from selenium.webdriver.chrome.service import Service\n",
    "from webdriver_manager.chrome import ChromeDriverManager"
   ],
   "id": "f83a95ab9afc9e4b",
   "outputs": [],
   "execution_count": 2
  },
  {
   "metadata": {
    "ExecuteTime": {
     "end_time": "2024-10-26T02:22:43.784635Z",
     "start_time": "2024-10-26T02:22:43.781137Z"
    }
   },
   "cell_type": "code",
   "source": [
    "chrome_options = Options()\n",
    "chrome_options.add_argument(\"--headless\")\n",
    "chrome_options.add_argument(\"--no-sandbox\")\n",
    "chrome_options.add_argument(\"--disable-dev-shm-usage\")"
   ],
   "id": "45f6a7ad36fab42e",
   "outputs": [],
   "execution_count": 3
  },
  {
   "metadata": {
    "ExecuteTime": {
     "end_time": "2024-10-26T02:22:46.051613Z",
     "start_time": "2024-10-26T02:22:43.793137Z"
    }
   },
   "cell_type": "code",
   "source": "driver = webdriver.Chrome(service=Service(ChromeDriverManager().install()), options=chrome_options)",
   "id": "d732c54f2e2c3fbf",
   "outputs": [],
   "execution_count": 4
  },
  {
   "metadata": {
    "ExecuteTime": {
     "end_time": "2024-10-26T02:22:46.064112Z",
     "start_time": "2024-10-26T02:22:46.060613Z"
    }
   },
   "cell_type": "code",
   "source": "urls_path = f\"{current_path}/../data/moneypl_urls.csv\"",
   "id": "c5afc4b6d245552c",
   "outputs": [],
   "execution_count": 5
  },
  {
   "metadata": {},
   "cell_type": "markdown",
   "source": "### Scraping urls and categories",
   "id": "5b489b86a3b371fc"
  },
  {
   "cell_type": "code",
   "id": "initial_id",
   "metadata": {
    "collapsed": true
   },
   "source": [
    "from src.webscrape.moneypl.get_urls import get_urls\n",
    "\n",
    "get_urls(urls_path, driver, None)"
   ],
   "outputs": [],
   "execution_count": null
  },
  {
   "metadata": {},
   "cell_type": "markdown",
   "source": "### Scraping content from urls",
   "id": "2a8be4e592232d2"
  },
  {
   "metadata": {
    "ExecuteTime": {
     "end_time": "2024-10-26T10:21:17.163660Z",
     "start_time": "2024-10-26T02:22:47.925154Z"
    }
   },
   "cell_type": "code",
   "source": [
    "from src.utils.process_urls import process_urls\n",
    "\n",
    "input_path = f\"{current_path}/../data/moneypl_urls_3.csv\"\n",
    "output_path = f\"{current_path}/../data/moneypl_content.csv\"\n",
    "\n",
    "process_urls(input_path, output_path, get_content, driver)"
   ],
   "id": "f979f40940a604ea",
   "outputs": [
    {
     "name": "stdout",
     "output_type": "stream",
     "text": [
      "Row:   9472\r"
     ]
    }
   ],
   "execution_count": 6
  },
  {
   "metadata": {},
   "cell_type": "code",
   "source": "",
   "id": "eafb76a8614c0769",
   "outputs": [],
   "execution_count": null
  }
 ],
 "metadata": {
  "kernelspec": {
   "display_name": "Python 3",
   "language": "python",
   "name": "python3"
  },
  "language_info": {
   "codemirror_mode": {
    "name": "ipython",
    "version": 2
   },
   "file_extension": ".py",
   "mimetype": "text/x-python",
   "name": "python",
   "nbconvert_exporter": "python",
   "pygments_lexer": "ipython2",
   "version": "2.7.6"
  }
 },
 "nbformat": 4,
 "nbformat_minor": 5
}
