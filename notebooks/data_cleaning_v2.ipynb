{
 "cells": [
  {
   "cell_type": "code",
   "id": "initial_id",
   "metadata": {
    "collapsed": true,
    "ExecuteTime": {
     "end_time": "2024-12-18T04:42:15.385217Z",
     "start_time": "2024-12-18T04:42:14.820718Z"
    }
   },
   "source": "import pandas as pd",
   "outputs": [],
   "execution_count": 1
  },
  {
   "metadata": {
    "ExecuteTime": {
     "end_time": "2024-12-18T04:42:15.855218Z",
     "start_time": "2024-12-18T04:42:15.660217Z"
    }
   },
   "cell_type": "code",
   "source": "df = pd.read_csv('../data/all_data.csv')",
   "id": "fcd3b5035ef4fc30",
   "outputs": [],
   "execution_count": 2
  },
  {
   "metadata": {
    "ExecuteTime": {
     "end_time": "2024-12-18T04:42:25.896050Z",
     "start_time": "2024-12-18T04:42:16.742033Z"
    }
   },
   "cell_type": "code",
   "source": [
    "from src.data_processing.data_cleaning import clean_data\n",
    "\n",
    "df = clean_data(df)"
   ],
   "id": "366f036e7a74f344",
   "outputs": [
    {
     "name": "stderr",
     "output_type": "stream",
     "text": [
      "[nltk_data] Downloading package wordnet to\n",
      "[nltk_data]     C:\\Users\\kanio\\AppData\\Roaming\\nltk_data...\n",
      "[nltk_data]   Package wordnet is already up-to-date!\n"
     ]
    },
    {
     "name": "stdout",
     "output_type": "stream",
     "text": [
      "{'m', 'to', 'po pod', 'niego', 'ktore', 'fe', 'dziś', 'nim', 'nic', 'tam', 'wasz', 'nie', 'aj', 'wtedy', 'po', 'ach', 'tobą', 'dzisiaj', 'mną', 'przed', 'jeżeli', 'dość', 'wam', 'ktora', 'każdy', 'przez', 'mu', 'tez', 'daleko', 'jego', 'nimi', 'aby', 'juz', 'nasz', 'dobrze', 'obok', 'nami', 'z', 'nasza', 'gdyby', 'bez', 'ponieważ', 'jakby', 'inny', 'się', 'jaki', 'twoje', 'ktory', 'więc', 'moje', 'dwaj', 'dwie', 'niż', 'jemu', 'albo', 'niej', 'ona', 'twój', 'moze', 'około', 'tutaj', 'dwoje', 'zawsze', 'ile', 'kto', 'kiedy', 'moi', 'tobie', 'jeśli', '`', 'gdzie', 'ja', 'im', 'mam', 'do', 'ze', 'oni', 'je', 'co', 'skąd', 'sie', \"'\", 'go', 'ci', 'taki', 'ale', 'ma', 'nasi', 'mnie', 'cię', 'sam', 'żaden', 'one', 'tu', 'f', 'o', 'dlaczego', 'mi', 'jedno', 'ku', 'sa', 'owszem', 'ty', 'może', 'wasi', 'i', 'jeden', 'w', 'za', 's', 'natychmiast', 'we', 'że', 'mój', 'nich', 'dla', 'jedna', 'jak', 'od', 'was', 'wy', 'jest', 'jej', 'tym', 'mają', 'my', 'bardzo', 'niemu', 'nas', 'wasza', 'ono', 'już', 'dokąd', 'ciebie', 'dużo', 'dlatego', 'jestem', 'tak', 'na', 'twoja', 'dwa', 'być', 'sama', 'są', 'przedtem', 'ten', 'nigdy', 'czy', 'nasze', 'wami', 'moja', 'oraz', 'lub', 'nią', 'kierunku', 'nam', 'twoi', 'bo', 'wasze', 'ją', 'on', 'a', 'wszystko', 'ich'}\n"
     ]
    }
   ],
   "execution_count": 3
  },
  {
   "metadata": {
    "ExecuteTime": {
     "end_time": "2024-12-18T03:57:52.740931Z",
     "start_time": "2024-12-18T03:57:52.721937Z"
    }
   },
   "cell_type": "code",
   "source": "df",
   "id": "dd29e043250c1526",
   "outputs": [
    {
     "data": {
      "text/plain": [
       "                                                headline  \\\n",
       "0      polska armia coraz silniejsza jest umowa na no...   \n",
       "1      mobywatel i modul mstluczka kiedy nowa funkcja...   \n",
       "2      jedziesz winda i jest awaria co robic gdy zacz...   \n",
       "3      tak moga wygladac najnowsze czolgi abrams dla ...   \n",
       "4      kto rosomak w akcji polska bron daje popalic r...   \n",
       "...                                                  ...   \n",
       "24182  aplikacje krolem cyfryzacji kto jednak powinie...   \n",
       "24183  zakupy w metaverse nie przekonuja polakow niew...   \n",
       "24184  ultraszybki internet g do gier i zaawansowanyc...   \n",
       "24185      oto nowa bron amerykanow niemal niewykrywalna   \n",
       "24186  wiecej oszczednosci w firmie dzieki robotyzacj...   \n",
       "\n",
       "                                                 content  \\\n",
       "0      [agencja, uzbrojenia, podpisala, umowe, konsor...   \n",
       "1      [mobywatel, rzadowa, aplikacja, ktora, roku, r...   \n",
       "2      [kanale, ratownika, medycznego, marcina, borko...   \n",
       "3      [serwisach, spolecznosciowych, pojawily, pierw...   \n",
       "4      [sieci, trafilo, widowiskowe, nagranie, ostrze...   \n",
       "...                                                  ...   \n",
       "24182  [tomasz, witt, prezes, zarzadu, norbsoft, podk...   \n",
       "24183  [az, proc, polakow, zainteresowanych, mozliwos...   \n",
       "24184  [rozwoj, internetu, rozpowszechnienie, nowych,...   \n",
       "24185  [koncern, zbrojeniowy, northrop, grumman, zapr...   \n",
       "24186  [najnowsze, systemy, erp, takie, sap, hana, cl...   \n",
       "\n",
       "                                                     url     category  \n",
       "0      https://geekweek.interia.pl/militaria/news-pol...    militaria  \n",
       "1      https://geekweek.interia.pl/technologia/news-m...  technologia  \n",
       "2      https://geekweek.interia.pl/technologia/news-j...  technologia  \n",
       "3      https://geekweek.interia.pl/militaria/news-tak...    militaria  \n",
       "4      https://geekweek.interia.pl/militaria/news-kto...    militaria  \n",
       "...                                                  ...          ...  \n",
       "24182  https://businessinsider.com.pl/technologie/now...  technologia  \n",
       "24183  https://businessinsider.com.pl/technologie/now...  technologia  \n",
       "24184  https://businessinsider.com.pl/technologie/now...  technologia  \n",
       "24185  https://businessinsider.com.pl/technologie/now...  technologia  \n",
       "24186  https://businessinsider.com.pl/technologie/now...  technologia  \n",
       "\n",
       "[16824 rows x 4 columns]"
      ],
      "text/html": [
       "<div>\n",
       "<style scoped>\n",
       "    .dataframe tbody tr th:only-of-type {\n",
       "        vertical-align: middle;\n",
       "    }\n",
       "\n",
       "    .dataframe tbody tr th {\n",
       "        vertical-align: top;\n",
       "    }\n",
       "\n",
       "    .dataframe thead th {\n",
       "        text-align: right;\n",
       "    }\n",
       "</style>\n",
       "<table border=\"1\" class=\"dataframe\">\n",
       "  <thead>\n",
       "    <tr style=\"text-align: right;\">\n",
       "      <th></th>\n",
       "      <th>headline</th>\n",
       "      <th>content</th>\n",
       "      <th>url</th>\n",
       "      <th>category</th>\n",
       "    </tr>\n",
       "  </thead>\n",
       "  <tbody>\n",
       "    <tr>\n",
       "      <th>0</th>\n",
       "      <td>polska armia coraz silniejsza jest umowa na no...</td>\n",
       "      <td>[agencja, uzbrojenia, podpisala, umowe, konsor...</td>\n",
       "      <td>https://geekweek.interia.pl/militaria/news-pol...</td>\n",
       "      <td>militaria</td>\n",
       "    </tr>\n",
       "    <tr>\n",
       "      <th>1</th>\n",
       "      <td>mobywatel i modul mstluczka kiedy nowa funkcja...</td>\n",
       "      <td>[mobywatel, rzadowa, aplikacja, ktora, roku, r...</td>\n",
       "      <td>https://geekweek.interia.pl/technologia/news-m...</td>\n",
       "      <td>technologia</td>\n",
       "    </tr>\n",
       "    <tr>\n",
       "      <th>2</th>\n",
       "      <td>jedziesz winda i jest awaria co robic gdy zacz...</td>\n",
       "      <td>[kanale, ratownika, medycznego, marcina, borko...</td>\n",
       "      <td>https://geekweek.interia.pl/technologia/news-j...</td>\n",
       "      <td>technologia</td>\n",
       "    </tr>\n",
       "    <tr>\n",
       "      <th>3</th>\n",
       "      <td>tak moga wygladac najnowsze czolgi abrams dla ...</td>\n",
       "      <td>[serwisach, spolecznosciowych, pojawily, pierw...</td>\n",
       "      <td>https://geekweek.interia.pl/militaria/news-tak...</td>\n",
       "      <td>militaria</td>\n",
       "    </tr>\n",
       "    <tr>\n",
       "      <th>4</th>\n",
       "      <td>kto rosomak w akcji polska bron daje popalic r...</td>\n",
       "      <td>[sieci, trafilo, widowiskowe, nagranie, ostrze...</td>\n",
       "      <td>https://geekweek.interia.pl/militaria/news-kto...</td>\n",
       "      <td>militaria</td>\n",
       "    </tr>\n",
       "    <tr>\n",
       "      <th>...</th>\n",
       "      <td>...</td>\n",
       "      <td>...</td>\n",
       "      <td>...</td>\n",
       "      <td>...</td>\n",
       "    </tr>\n",
       "    <tr>\n",
       "      <th>24182</th>\n",
       "      <td>aplikacje krolem cyfryzacji kto jednak powinie...</td>\n",
       "      <td>[tomasz, witt, prezes, zarzadu, norbsoft, podk...</td>\n",
       "      <td>https://businessinsider.com.pl/technologie/now...</td>\n",
       "      <td>technologia</td>\n",
       "    </tr>\n",
       "    <tr>\n",
       "      <th>24183</th>\n",
       "      <td>zakupy w metaverse nie przekonuja polakow niew...</td>\n",
       "      <td>[az, proc, polakow, zainteresowanych, mozliwos...</td>\n",
       "      <td>https://businessinsider.com.pl/technologie/now...</td>\n",
       "      <td>technologia</td>\n",
       "    </tr>\n",
       "    <tr>\n",
       "      <th>24184</th>\n",
       "      <td>ultraszybki internet g do gier i zaawansowanyc...</td>\n",
       "      <td>[rozwoj, internetu, rozpowszechnienie, nowych,...</td>\n",
       "      <td>https://businessinsider.com.pl/technologie/now...</td>\n",
       "      <td>technologia</td>\n",
       "    </tr>\n",
       "    <tr>\n",
       "      <th>24185</th>\n",
       "      <td>oto nowa bron amerykanow niemal niewykrywalna</td>\n",
       "      <td>[koncern, zbrojeniowy, northrop, grumman, zapr...</td>\n",
       "      <td>https://businessinsider.com.pl/technologie/now...</td>\n",
       "      <td>technologia</td>\n",
       "    </tr>\n",
       "    <tr>\n",
       "      <th>24186</th>\n",
       "      <td>wiecej oszczednosci w firmie dzieki robotyzacj...</td>\n",
       "      <td>[najnowsze, systemy, erp, takie, sap, hana, cl...</td>\n",
       "      <td>https://businessinsider.com.pl/technologie/now...</td>\n",
       "      <td>technologia</td>\n",
       "    </tr>\n",
       "  </tbody>\n",
       "</table>\n",
       "<p>16824 rows × 4 columns</p>\n",
       "</div>"
      ]
     },
     "execution_count": 4,
     "metadata": {},
     "output_type": "execute_result"
    }
   ],
   "execution_count": 4
  },
  {
   "metadata": {
    "ExecuteTime": {
     "end_time": "2024-12-18T04:42:25.912554Z",
     "start_time": "2024-12-18T04:42:25.902550Z"
    }
   },
   "cell_type": "code",
   "source": "df['category'].value_counts()",
   "id": "84215c728150afdd",
   "outputs": [
    {
     "data": {
      "text/plain": [
       "category\n",
       "wiadomosci     5418\n",
       "yapping        4996\n",
       "militaria      2852\n",
       "technologia    2296\n",
       "zdrowie         818\n",
       "sport           442\n",
       "Name: count, dtype: int64"
      ]
     },
     "execution_count": 4,
     "metadata": {},
     "output_type": "execute_result"
    }
   ],
   "execution_count": 4
  },
  {
   "metadata": {
    "ExecuteTime": {
     "end_time": "2024-12-11T00:19:29.862783Z",
     "start_time": "2024-12-11T00:19:29.853286Z"
    }
   },
   "cell_type": "code",
   "source": "df = df.groupby('category').filter(lambda x: len(x) > 1000)",
   "id": "d116e98b50c588fe",
   "outputs": [],
   "execution_count": 6
  },
  {
   "metadata": {
    "ExecuteTime": {
     "end_time": "2024-12-18T03:33:42.723698Z",
     "start_time": "2024-12-18T03:33:42.712698Z"
    }
   },
   "cell_type": "code",
   "source": "df['category'].value_counts()",
   "id": "d92f326f00900ffc",
   "outputs": [
    {
     "data": {
      "text/plain": [
       "category\n",
       "sport          7615\n",
       "wiadomosci     5574\n",
       "yapping        4997\n",
       "militaria      2857\n",
       "technologia    2305\n",
       "zdrowie         839\n",
       "Name: count, dtype: int64"
      ]
     },
     "execution_count": 4,
     "metadata": {},
     "output_type": "execute_result"
    }
   ],
   "execution_count": 4
  },
  {
   "metadata": {
    "ExecuteTime": {
     "end_time": "2024-12-11T00:19:30.120851Z",
     "start_time": "2024-12-11T00:19:30.117785Z"
    }
   },
   "cell_type": "code",
   "source": "# df = df.drop(df[df['category'] == 'polityka i prawo'].sample(2000).index)",
   "id": "872097557a9ef84f",
   "outputs": [],
   "execution_count": 8
  },
  {
   "metadata": {
    "ExecuteTime": {
     "end_time": "2024-12-11T00:19:30.254784Z",
     "start_time": "2024-12-11T00:19:30.251785Z"
    }
   },
   "cell_type": "code",
   "source": "# df['category'].value_counts()",
   "id": "30740d82ebdebd08",
   "outputs": [],
   "execution_count": 9
  },
  {
   "metadata": {
    "ExecuteTime": {
     "end_time": "2024-12-18T04:42:26.281550Z",
     "start_time": "2024-12-18T04:42:25.968051Z"
    }
   },
   "cell_type": "code",
   "source": "df.to_csv('../data/cleaned_data_v2.csv', index=False)",
   "id": "176cdf1bf4179d08",
   "outputs": [],
   "execution_count": 5
  },
  {
   "metadata": {
    "ExecuteTime": {
     "end_time": "2024-12-18T03:47:37.316199Z",
     "start_time": "2024-12-18T03:47:37.302694Z"
    }
   },
   "cell_type": "code",
   "source": [
    "import ast\n",
    "df['content'] = df['content'].apply(lambda x: ast.literal_eval(x) if isinstance(x, str) else x)\n",
    "df['content'][0]"
   ],
   "id": "501be2339ab4af13",
   "outputs": [
    {
     "data": {
      "text/plain": [
       "['agencja',\n",
       " 'uzbrojenia',\n",
       " 'podpisala',\n",
       " 'umowe',\n",
       " 'konsorcjum',\n",
       " 'sklad',\n",
       " 'ktorego',\n",
       " 'wchodzi',\n",
       " 'huta',\n",
       " 'stalowa',\n",
       " 'wola',\n",
       " 'sa',\n",
       " 'oraz',\n",
       " 'rosomak',\n",
       " 'sa',\n",
       " 'dostawe',\n",
       " 'wozow',\n",
       " 'rosomakl',\n",
       " 'najnowsza',\n",
       " 'wersja',\n",
       " 'slawnego',\n",
       " 'polskiego',\n",
       " 'transportera']"
      ]
     },
     "execution_count": 6,
     "metadata": {},
     "output_type": "execute_result"
    }
   ],
   "execution_count": 6
  }
 ],
 "metadata": {
  "kernelspec": {
   "display_name": "Python 3",
   "language": "python",
   "name": "python3"
  },
  "language_info": {
   "codemirror_mode": {
    "name": "ipython",
    "version": 2
   },
   "file_extension": ".py",
   "mimetype": "text/x-python",
   "name": "python",
   "nbconvert_exporter": "python",
   "pygments_lexer": "ipython2",
   "version": "2.7.6"
  }
 },
 "nbformat": 4,
 "nbformat_minor": 5
}
