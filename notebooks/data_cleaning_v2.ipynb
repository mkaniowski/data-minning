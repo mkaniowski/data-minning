{
 "cells": [
  {
   "cell_type": "code",
   "id": "initial_id",
   "metadata": {
    "collapsed": true,
    "ExecuteTime": {
     "end_time": "2025-01-04T16:31:16.062714Z",
     "start_time": "2025-01-04T16:31:15.431715Z"
    }
   },
   "source": "import pandas as pd",
   "outputs": [],
   "execution_count": 1
  },
  {
   "metadata": {
    "ExecuteTime": {
     "end_time": "2025-01-04T16:31:16.445713Z",
     "start_time": "2025-01-04T16:31:16.086216Z"
    }
   },
   "cell_type": "code",
   "source": [
    "df = pd.read_csv('../data/all_data.csv')\n",
    "# df = pd.read_csv('../data/sampled_data.csv')"
   ],
   "id": "fcd3b5035ef4fc30",
   "outputs": [],
   "execution_count": 2
  },
  {
   "metadata": {
    "ExecuteTime": {
     "end_time": "2025-01-04T16:31:17.953964Z",
     "start_time": "2025-01-04T16:31:17.944512Z"
    }
   },
   "cell_type": "code",
   "source": "df['category'].value_counts()",
   "id": "60eabe9a514ebbc5",
   "outputs": [
    {
     "data": {
      "text/plain": [
       "category\n",
       "wiadomosci     5574\n",
       "sport          5455\n",
       "yapping        4997\n",
       "militaria      2857\n",
       "technologia    2305\n",
       "zdrowie         839\n",
       "Name: count, dtype: int64"
      ]
     },
     "execution_count": 3,
     "metadata": {},
     "output_type": "execute_result"
    }
   ],
   "execution_count": 3
  },
  {
   "metadata": {
    "ExecuteTime": {
     "end_time": "2025-01-04T16:34:06.108690Z",
     "start_time": "2025-01-04T16:31:19.486683Z"
    }
   },
   "cell_type": "code",
   "source": [
    "from src.data_processing.data_cleaning import clean_data\n",
    "\n",
    "df = clean_data(df)"
   ],
   "id": "366f036e7a74f344",
   "outputs": [
    {
     "name": "stderr",
     "output_type": "stream",
     "text": [
      "[nltk_data] Downloading package wordnet to\n",
      "[nltk_data]     C:\\Users\\kanio\\AppData\\Roaming\\nltk_data...\n",
      "[nltk_data]   Package wordnet is already up-to-date!\n"
     ]
    },
    {
     "name": "stdout",
     "output_type": "stream",
     "text": [
      "{'bardzo', 'więc', 'ach', 'nasz', 'jakby', 'na', 'jemu', 'nasza', 'dziś', 'sie', 'aj', 'rok', 'on', 'cię', 'daleko', 'jedna', 'przed', 'każdy', 'wam', 'nasi', 'dlaczego', 'nigdy', 'mu', 'sa', 'bez', 'ona', 'tez', 'przez', 'kiedy', 'dwaj', 'bo', 'co', 'ja', 'jeśli', 'nią', 'ktora', 'dlatego', 'ci', 'ma', 'wtedy', 'moze', 'około', 'owszem', 'one', 'wasze', 'albo', 'kierunku', 'jak', 'a', 'mój', 'nas', 'to', 'gdzie', 'nich', 'ty', 'dobrze', 'nami', 'wami', 'być', 'moje', 'inny', 'już', 'dwie', 'twój', 'ją', 'wasi', 'oraz', 'dużo', 'która', 'mi', 'jeden', 'gdyby', 'wszystko', 'je', 'we', \"'\", 'f', 'o', '`', 'po', 's', 'się', 'nimi', 'lub', 'ich', 'wasza', 'ktory', 'tym', 'kto', 'mają', 'was', 'dwa', 'ze', 'byc', 'wasz', 'ktore', 'niż', 'my', 'tu', 'ale', 'są', 'i', 'jego', 'że', 'ciebie', 'jej', 'ku', 'im', 'taki', 'niemu', 'skąd', 'nam', 'go', 'tak', 'dzisiaj', 'jest', 'czy', 'tobą', 'ponieważ', 'wy', 'sam', 'm', 'dokąd', 'żaden', 'niego', 'ile', 'tobie', 'które', 'tutaj', 'z', 'nie', 'jedno', 'po pod', 'mam', 'miec', 'przedtem', 'dla', 'jaki', 'aby', 'mieć', 'twoi', 'tam', 'od', 'do', 'obok', 'sama', 'jestem', 'nim', 'nic', 'zawsze', 'jeżeli', 'moi', 'mnie', 'oni', 'ono', 'ten', 'dość', 'natychmiast', 'juz', 'moja', 'mną', 'twoja', 'może', 'który', 'twoje', 'fe', 'nasze', 'za', 'dwoje', 'w', 'niej'}\n"
     ]
    },
    {
     "name": "stderr",
     "output_type": "stream",
     "text": [
      "100%|██████████| 21860/21860 [00:00<00:00, 753767.18it/s]\n",
      "100%|██████████| 21860/21860 [00:00<00:00, 376885.14it/s]\n"
     ]
    }
   ],
   "execution_count": 4
  },
  {
   "metadata": {
    "ExecuteTime": {
     "end_time": "2025-01-04T16:34:07.868338Z",
     "start_time": "2025-01-04T16:34:07.857334Z"
    }
   },
   "cell_type": "code",
   "source": "df",
   "id": "dd29e043250c1526",
   "outputs": [
    {
     "data": {
      "text/plain": [
       "                                                headline  \\\n",
       "0      Polska armia coraz silniejsza Jest umowa na no...   \n",
       "1      mObywatel i modul mStluczka Kiedy nowa funkcja...   \n",
       "2      Jedziesz winda i jest awaria Co robic gdy zacz...   \n",
       "3      Tak moga wygladac najnowsze czolgi Abrams dla ...   \n",
       "4      KTO Rosomak w akcji Polska bron daje popalic R...   \n",
       "...                                                  ...   \n",
       "22022  Aplikacje krolem cyfryzacji Kto jednak powinie...   \n",
       "22023  Zakupy w metaverse nie przekonuja Polakow Niew...   \n",
       "22024  Ultraszybki Internet 5G do gier i zaawansowany...   \n",
       "22025      Oto nowa bron Amerykanow Niemal niewykrywalna   \n",
       "22026  Wiecej oszczednosci w firmie dzieki robotyzacj...   \n",
       "\n",
       "                                                 content  \\\n",
       "0      agencja uzbrojenia podpisac umowa konsorcjum s...   \n",
       "1      mobywatel rzadowy aplikacja wzbogacac coraz wi...   \n",
       "2      kanal ratownik medyczny marcin borkosi borkows...   \n",
       "3      serwisa spolecznosciowy pojawic pierwszy zdjec...   \n",
       "4      siec trafic widowiskowy nagranie ostrzelania r...   \n",
       "...                                                  ...   \n",
       "22022  tomasz wittc prezes zarzad norbsoft podkreslac...   \n",
       "22023  az 83 procent polak zainteresowac mozliwosc ro...   \n",
       "22024  rozwoj internet rozpowszechniec nowy standard ...   \n",
       "22025  koncern zbrojeniowy northrop grumman zaprezent...   \n",
       "22026  najnowsze system erp sap s4 hana cloud stan pr...   \n",
       "\n",
       "                                                     url     category  \n",
       "0      https://geekweek.interia.pl/militaria/news-pol...    militaria  \n",
       "1      https://geekweek.interia.pl/technologia/news-m...  technologia  \n",
       "2      https://geekweek.interia.pl/technologia/news-j...  technologia  \n",
       "3      https://geekweek.interia.pl/militaria/news-tak...    militaria  \n",
       "4      https://geekweek.interia.pl/militaria/news-kto...    militaria  \n",
       "...                                                  ...          ...  \n",
       "22022  https://businessinsider.com.pl/technologie/now...  technologia  \n",
       "22023  https://businessinsider.com.pl/technologie/now...  technologia  \n",
       "22024  https://businessinsider.com.pl/technologie/now...  technologia  \n",
       "22025  https://businessinsider.com.pl/technologie/now...  technologia  \n",
       "22026  https://businessinsider.com.pl/technologie/now...  technologia  \n",
       "\n",
       "[21859 rows x 4 columns]"
      ],
      "text/html": [
       "<div>\n",
       "<style scoped>\n",
       "    .dataframe tbody tr th:only-of-type {\n",
       "        vertical-align: middle;\n",
       "    }\n",
       "\n",
       "    .dataframe tbody tr th {\n",
       "        vertical-align: top;\n",
       "    }\n",
       "\n",
       "    .dataframe thead th {\n",
       "        text-align: right;\n",
       "    }\n",
       "</style>\n",
       "<table border=\"1\" class=\"dataframe\">\n",
       "  <thead>\n",
       "    <tr style=\"text-align: right;\">\n",
       "      <th></th>\n",
       "      <th>headline</th>\n",
       "      <th>content</th>\n",
       "      <th>url</th>\n",
       "      <th>category</th>\n",
       "    </tr>\n",
       "  </thead>\n",
       "  <tbody>\n",
       "    <tr>\n",
       "      <th>0</th>\n",
       "      <td>Polska armia coraz silniejsza Jest umowa na no...</td>\n",
       "      <td>agencja uzbrojenia podpisac umowa konsorcjum s...</td>\n",
       "      <td>https://geekweek.interia.pl/militaria/news-pol...</td>\n",
       "      <td>militaria</td>\n",
       "    </tr>\n",
       "    <tr>\n",
       "      <th>1</th>\n",
       "      <td>mObywatel i modul mStluczka Kiedy nowa funkcja...</td>\n",
       "      <td>mobywatel rzadowy aplikacja wzbogacac coraz wi...</td>\n",
       "      <td>https://geekweek.interia.pl/technologia/news-m...</td>\n",
       "      <td>technologia</td>\n",
       "    </tr>\n",
       "    <tr>\n",
       "      <th>2</th>\n",
       "      <td>Jedziesz winda i jest awaria Co robic gdy zacz...</td>\n",
       "      <td>kanal ratownik medyczny marcin borkosi borkows...</td>\n",
       "      <td>https://geekweek.interia.pl/technologia/news-j...</td>\n",
       "      <td>technologia</td>\n",
       "    </tr>\n",
       "    <tr>\n",
       "      <th>3</th>\n",
       "      <td>Tak moga wygladac najnowsze czolgi Abrams dla ...</td>\n",
       "      <td>serwisa spolecznosciowy pojawic pierwszy zdjec...</td>\n",
       "      <td>https://geekweek.interia.pl/militaria/news-tak...</td>\n",
       "      <td>militaria</td>\n",
       "    </tr>\n",
       "    <tr>\n",
       "      <th>4</th>\n",
       "      <td>KTO Rosomak w akcji Polska bron daje popalic R...</td>\n",
       "      <td>siec trafic widowiskowy nagranie ostrzelania r...</td>\n",
       "      <td>https://geekweek.interia.pl/militaria/news-kto...</td>\n",
       "      <td>militaria</td>\n",
       "    </tr>\n",
       "    <tr>\n",
       "      <th>...</th>\n",
       "      <td>...</td>\n",
       "      <td>...</td>\n",
       "      <td>...</td>\n",
       "      <td>...</td>\n",
       "    </tr>\n",
       "    <tr>\n",
       "      <th>22022</th>\n",
       "      <td>Aplikacje krolem cyfryzacji Kto jednak powinie...</td>\n",
       "      <td>tomasz wittc prezes zarzad norbsoft podkreslac...</td>\n",
       "      <td>https://businessinsider.com.pl/technologie/now...</td>\n",
       "      <td>technologia</td>\n",
       "    </tr>\n",
       "    <tr>\n",
       "      <th>22023</th>\n",
       "      <td>Zakupy w metaverse nie przekonuja Polakow Niew...</td>\n",
       "      <td>az 83 procent polak zainteresowac mozliwosc ro...</td>\n",
       "      <td>https://businessinsider.com.pl/technologie/now...</td>\n",
       "      <td>technologia</td>\n",
       "    </tr>\n",
       "    <tr>\n",
       "      <th>22024</th>\n",
       "      <td>Ultraszybki Internet 5G do gier i zaawansowany...</td>\n",
       "      <td>rozwoj internet rozpowszechniec nowy standard ...</td>\n",
       "      <td>https://businessinsider.com.pl/technologie/now...</td>\n",
       "      <td>technologia</td>\n",
       "    </tr>\n",
       "    <tr>\n",
       "      <th>22025</th>\n",
       "      <td>Oto nowa bron Amerykanow Niemal niewykrywalna</td>\n",
       "      <td>koncern zbrojeniowy northrop grumman zaprezent...</td>\n",
       "      <td>https://businessinsider.com.pl/technologie/now...</td>\n",
       "      <td>technologia</td>\n",
       "    </tr>\n",
       "    <tr>\n",
       "      <th>22026</th>\n",
       "      <td>Wiecej oszczednosci w firmie dzieki robotyzacj...</td>\n",
       "      <td>najnowsze system erp sap s4 hana cloud stan pr...</td>\n",
       "      <td>https://businessinsider.com.pl/technologie/now...</td>\n",
       "      <td>technologia</td>\n",
       "    </tr>\n",
       "  </tbody>\n",
       "</table>\n",
       "<p>21859 rows × 4 columns</p>\n",
       "</div>"
      ]
     },
     "execution_count": 5,
     "metadata": {},
     "output_type": "execute_result"
    }
   ],
   "execution_count": 5
  },
  {
   "metadata": {
    "ExecuteTime": {
     "end_time": "2025-01-04T16:34:09.475835Z",
     "start_time": "2025-01-04T16:34:09.466839Z"
    }
   },
   "cell_type": "code",
   "source": "df['category'].value_counts()",
   "id": "84215c728150afdd",
   "outputs": [
    {
     "data": {
      "text/plain": [
       "category\n",
       "sport          5454\n",
       "wiadomosci     5418\n",
       "yapping        4996\n",
       "militaria      2857\n",
       "technologia    2301\n",
       "zdrowie         833\n",
       "Name: count, dtype: int64"
      ]
     },
     "execution_count": 6,
     "metadata": {},
     "output_type": "execute_result"
    }
   ],
   "execution_count": 6
  },
  {
   "metadata": {
    "ExecuteTime": {
     "end_time": "2025-01-04T16:34:11.572713Z",
     "start_time": "2025-01-04T16:34:11.555712Z"
    }
   },
   "cell_type": "code",
   "source": "df = df.groupby('category').filter(lambda x: len(x) > 1000)",
   "id": "d116e98b50c588fe",
   "outputs": [],
   "execution_count": 7
  },
  {
   "metadata": {
    "ExecuteTime": {
     "end_time": "2025-01-04T16:34:13.551842Z",
     "start_time": "2025-01-04T16:34:13.542343Z"
    }
   },
   "cell_type": "code",
   "source": "df['category'].value_counts()",
   "id": "d92f326f00900ffc",
   "outputs": [
    {
     "data": {
      "text/plain": [
       "category\n",
       "sport          5454\n",
       "wiadomosci     5418\n",
       "yapping        4996\n",
       "militaria      2857\n",
       "technologia    2301\n",
       "Name: count, dtype: int64"
      ]
     },
     "execution_count": 8,
     "metadata": {},
     "output_type": "execute_result"
    }
   ],
   "execution_count": 8
  },
  {
   "metadata": {
    "ExecuteTime": {
     "end_time": "2025-01-04T16:34:16.279062Z",
     "start_time": "2025-01-04T16:34:16.261565Z"
    }
   },
   "cell_type": "code",
   "source": [
    "# sample all categories to 750\n",
    "df = df.groupby('category').apply(lambda x: x.sample(1000))"
   ],
   "id": "872097557a9ef84f",
   "outputs": [
    {
     "name": "stderr",
     "output_type": "stream",
     "text": [
      "C:\\Users\\kanio\\AppData\\Local\\Temp\\ipykernel_20072\\162031590.py:2: DeprecationWarning: DataFrameGroupBy.apply operated on the grouping columns. This behavior is deprecated, and in a future version of pandas the grouping columns will be excluded from the operation. Either pass `include_groups=False` to exclude the groupings or explicitly select the grouping columns after groupby to silence this warning.\n",
      "  df = df.groupby('category').apply(lambda x: x.sample(1000))\n"
     ]
    }
   ],
   "execution_count": 9
  },
  {
   "metadata": {
    "ExecuteTime": {
     "end_time": "2025-01-04T16:34:17.808811Z",
     "start_time": "2025-01-04T16:34:17.801317Z"
    }
   },
   "cell_type": "code",
   "source": "df['category'].value_counts()",
   "id": "30740d82ebdebd08",
   "outputs": [
    {
     "data": {
      "text/plain": [
       "category\n",
       "militaria      1000\n",
       "sport          1000\n",
       "technologia    1000\n",
       "wiadomosci     1000\n",
       "yapping        1000\n",
       "Name: count, dtype: int64"
      ]
     },
     "execution_count": 10,
     "metadata": {},
     "output_type": "execute_result"
    }
   ],
   "execution_count": 10
  },
  {
   "metadata": {},
   "cell_type": "code",
   "outputs": [],
   "execution_count": null,
   "source": [
    "# Limit all categories to 750\n",
    "df = df.groupby('category').apply(lambda x: x.sample(750))"
   ],
   "id": "4a2ea49ebeda563e"
  },
  {
   "metadata": {
    "ExecuteTime": {
     "end_time": "2025-01-04T16:34:19.724737Z",
     "start_time": "2025-01-04T16:34:19.665233Z"
    }
   },
   "cell_type": "code",
   "source": [
    "df.to_csv('../data/cleaned_data_v2.csv', index=False)\n",
    "# df.to_csv('../data/cleaned_data_sampled.csv', index=False)"
   ],
   "id": "176cdf1bf4179d08",
   "outputs": [],
   "execution_count": 11
  },
  {
   "metadata": {
    "ExecuteTime": {
     "end_time": "2024-12-28T02:29:02.999202Z",
     "start_time": "2024-12-28T02:29:02.988703Z"
    }
   },
   "cell_type": "code",
   "source": [
    "import ast\n",
    "df['content'] = df['content'].apply(lambda x: ast.literal_eval(x) if isinstance(x, str) else x)\n",
    "df['content'][0]"
   ],
   "id": "501be2339ab4af13",
   "outputs": [
    {
     "data": {
      "text/plain": [
       "nan"
      ]
     },
     "execution_count": 17,
     "metadata": {},
     "output_type": "execute_result"
    }
   ],
   "execution_count": 17
  }
 ],
 "metadata": {
  "kernelspec": {
   "display_name": "Python 3",
   "language": "python",
   "name": "python3"
  },
  "language_info": {
   "codemirror_mode": {
    "name": "ipython",
    "version": 2
   },
   "file_extension": ".py",
   "mimetype": "text/x-python",
   "name": "python",
   "nbconvert_exporter": "python",
   "pygments_lexer": "ipython2",
   "version": "2.7.6"
  }
 },
 "nbformat": 4,
 "nbformat_minor": 5
}
