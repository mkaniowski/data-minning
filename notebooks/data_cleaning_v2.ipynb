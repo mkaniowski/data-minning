{
 "cells": [
  {
   "cell_type": "code",
   "id": "initial_id",
   "metadata": {
    "collapsed": true,
    "ExecuteTime": {
     "end_time": "2024-12-19T09:47:07.506396Z",
     "start_time": "2024-12-19T09:47:06.922382Z"
    }
   },
   "source": "import pandas as pd",
   "outputs": [],
   "execution_count": 1
  },
  {
   "metadata": {
    "ExecuteTime": {
     "end_time": "2024-12-19T09:47:07.534825Z",
     "start_time": "2024-12-19T09:47:07.512067Z"
    }
   },
   "cell_type": "code",
   "source": [
    "# df = pd.read_csv('../data/all_data.csv')\n",
    "df = pd.read_csv('../data/sampled_data.csv')"
   ],
   "id": "fcd3b5035ef4fc30",
   "outputs": [],
   "execution_count": 2
  },
  {
   "metadata": {
    "ExecuteTime": {
     "end_time": "2024-12-19T09:47:51.590314Z",
     "start_time": "2024-12-19T09:47:07.771954Z"
    }
   },
   "cell_type": "code",
   "source": [
    "from src.data_processing.data_cleaning import clean_data\n",
    "\n",
    "df = clean_data(df)"
   ],
   "id": "366f036e7a74f344",
   "outputs": [
    {
     "name": "stderr",
     "output_type": "stream",
     "text": [
      "[nltk_data] Downloading package wordnet to\n",
      "[nltk_data]     C:\\Users\\kanio\\AppData\\Roaming\\nltk_data...\n",
      "[nltk_data]   Package wordnet is already up-to-date!\n"
     ]
    },
    {
     "name": "stdout",
     "output_type": "stream",
     "text": [
      "{'dzisiaj', 'jak', 'ono', 'jedno', 'nasze', 'ze', 'sie', 'juz', 'ktore', 'za', 'może', 'po', 'sama', 'o', \"'\", 'zawsze', 'nas', 'nasi', 'to', 'tobą', 'wasze', 'dla', 'nam', 'f', 'wasi', 'moze', 'do', 'jemu', 'ich', 'kto', 'dlatego', 'już', 'im', 'więc', 'że', 'na', 'oni', 'wasza', 'niego', 'moje', 'jeśli', 'ma', 'tu', 'i', 'twoje', 's', 'obok', 'sam', 'moi', 'ku', 'tak', '`', 'nią', 'w', 'mają', 'przed', 'nic', 'my', 'niej', 'około', 'bez', 'wy', 'mam', 'aj', 'tutaj', 'ten', 'fe', 'są', 'lub', 'nie', 'ona', 'we', 'wszystko', 'bo', 'co', 'daleko', 'moja', 'go', 'jedna', 'ciebie', 'wami', 'od', 'mi', 'taki', 'ale', 'bardzo', 'jaki', 'wasz', 'twoja', 'owszem', 'dość', 'dwoje', 'ponieważ', 'ją', 'a', 'ile', 'gdzie', 'niemu', 'nim', 'tez', 'się', 'mój', 'jest', 'nasza', 'skąd', 'mu', 'przedtem', 'mnie', 'niż', 'dziś', 'natychmiast', 'z', 'jeżeli', 'ktora', 'm', 'one', 'dwaj', 'ktory', 'dwa', 'was', 'nich', 'jeden', 'gdyby', 'jestem', 'dobrze', 'sa', 'dużo', 'jakby', 'ja', 'on', 'nasz', 'dwie', 'wam', 'je', 'mną', 'tobie', 'kiedy', 'wtedy', 'kierunku', 'oraz', 'jego', 'żaden', 'być', 'cię', 'czy', 'przez', 'jej', 'dlaczego', 'aby', 'tam', 'twój', 'ci', 'po pod', 'ach', 'ty', 'dokąd', 'nimi', 'inny', 'każdy', 'nigdy', 'albo', 'twoi', 'nami', 'tym'}\n"
     ]
    },
    {
     "name": "stderr",
     "output_type": "stream",
     "text": [
      "100%|██████████| 600/600 [00:39<00:00, 15.17it/s] \n",
      "100%|██████████| 600/600 [00:00<00:00, 72149.72it/s]\n",
      "100%|██████████| 600/600 [00:00<00:00, 447312.90it/s]\n",
      "100%|██████████| 497/497 [00:00<00:00, 349994.81it/s]\n"
     ]
    }
   ],
   "execution_count": 3
  },
  {
   "metadata": {
    "ExecuteTime": {
     "end_time": "2024-12-19T09:47:51.620725Z",
     "start_time": "2024-12-19T09:47:51.604774Z"
    }
   },
   "cell_type": "code",
   "source": "df",
   "id": "dd29e043250c1526",
   "outputs": [
    {
     "data": {
      "text/plain": [
       "                                              headline  content  \\\n",
       "0    to pierwszy taki statek komercyjny ma nietypow...      NaN   \n",
       "1    spacex chce obnizyc orbite satelitow starlink ...      NaN   \n",
       "2    najpotezniejszy samolot w historii ludzkosci u...      NaN   \n",
       "3    ministerstwo cyfryzacji zwraca sie do apple ch...      NaN   \n",
       "4    samsung galaxy s z exynosem fani zawiedzeni wy...      NaN   \n",
       "..                                                 ...      ...   \n",
       "595  kinga zawodnik wyznala ze mezczyzni sie jej ws...      NaN   \n",
       "596  manowska chwali sie wakacjami zamiescila zdjec...      NaN   \n",
       "597  pogrzeb tadeusza wozniaka zostal opozniony uja...      NaN   \n",
       "598  tomaszewska na polu ma pasek warty fortune dos...      NaN   \n",
       "599  chciala byc smoczyca usunela uszy i zeby wydal...      NaN   \n",
       "\n",
       "                                                   url     category  \n",
       "0    https://geekweek.interia.pl/technologia/news-t...  technologia  \n",
       "1    https://geekweek.interia.pl/technologia/news-s...  technologia  \n",
       "2    https://geekweek.interia.pl/technologia/news-n...  technologia  \n",
       "3    https://geekweek.interia.pl/technologia/news-m...  technologia  \n",
       "4    https://geekweek.interia.pl/technologia/news-s...  technologia  \n",
       "..                                                 ...          ...  \n",
       "595  https://www.plotek.pl/plotek/7,154063,31375788...      yapping  \n",
       "596  https://www.plotek.pl/plotek/7,154063,31216679...      yapping  \n",
       "597  https://www.plotek.pl/plotek/7,154063,31148807...      yapping  \n",
       "598  https://www.plotek.pl/plotek/7,154063,31155736...      yapping  \n",
       "599  https://www.plotek.pl/plotek/7,154063,31170368...      yapping  \n",
       "\n",
       "[497 rows x 4 columns]"
      ],
      "text/html": [
       "<div>\n",
       "<style scoped>\n",
       "    .dataframe tbody tr th:only-of-type {\n",
       "        vertical-align: middle;\n",
       "    }\n",
       "\n",
       "    .dataframe tbody tr th {\n",
       "        vertical-align: top;\n",
       "    }\n",
       "\n",
       "    .dataframe thead th {\n",
       "        text-align: right;\n",
       "    }\n",
       "</style>\n",
       "<table border=\"1\" class=\"dataframe\">\n",
       "  <thead>\n",
       "    <tr style=\"text-align: right;\">\n",
       "      <th></th>\n",
       "      <th>headline</th>\n",
       "      <th>content</th>\n",
       "      <th>url</th>\n",
       "      <th>category</th>\n",
       "    </tr>\n",
       "  </thead>\n",
       "  <tbody>\n",
       "    <tr>\n",
       "      <th>0</th>\n",
       "      <td>to pierwszy taki statek komercyjny ma nietypow...</td>\n",
       "      <td>NaN</td>\n",
       "      <td>https://geekweek.interia.pl/technologia/news-t...</td>\n",
       "      <td>technologia</td>\n",
       "    </tr>\n",
       "    <tr>\n",
       "      <th>1</th>\n",
       "      <td>spacex chce obnizyc orbite satelitow starlink ...</td>\n",
       "      <td>NaN</td>\n",
       "      <td>https://geekweek.interia.pl/technologia/news-s...</td>\n",
       "      <td>technologia</td>\n",
       "    </tr>\n",
       "    <tr>\n",
       "      <th>2</th>\n",
       "      <td>najpotezniejszy samolot w historii ludzkosci u...</td>\n",
       "      <td>NaN</td>\n",
       "      <td>https://geekweek.interia.pl/technologia/news-n...</td>\n",
       "      <td>technologia</td>\n",
       "    </tr>\n",
       "    <tr>\n",
       "      <th>3</th>\n",
       "      <td>ministerstwo cyfryzacji zwraca sie do apple ch...</td>\n",
       "      <td>NaN</td>\n",
       "      <td>https://geekweek.interia.pl/technologia/news-m...</td>\n",
       "      <td>technologia</td>\n",
       "    </tr>\n",
       "    <tr>\n",
       "      <th>4</th>\n",
       "      <td>samsung galaxy s z exynosem fani zawiedzeni wy...</td>\n",
       "      <td>NaN</td>\n",
       "      <td>https://geekweek.interia.pl/technologia/news-s...</td>\n",
       "      <td>technologia</td>\n",
       "    </tr>\n",
       "    <tr>\n",
       "      <th>...</th>\n",
       "      <td>...</td>\n",
       "      <td>...</td>\n",
       "      <td>...</td>\n",
       "      <td>...</td>\n",
       "    </tr>\n",
       "    <tr>\n",
       "      <th>595</th>\n",
       "      <td>kinga zawodnik wyznala ze mezczyzni sie jej ws...</td>\n",
       "      <td>NaN</td>\n",
       "      <td>https://www.plotek.pl/plotek/7,154063,31375788...</td>\n",
       "      <td>yapping</td>\n",
       "    </tr>\n",
       "    <tr>\n",
       "      <th>596</th>\n",
       "      <td>manowska chwali sie wakacjami zamiescila zdjec...</td>\n",
       "      <td>NaN</td>\n",
       "      <td>https://www.plotek.pl/plotek/7,154063,31216679...</td>\n",
       "      <td>yapping</td>\n",
       "    </tr>\n",
       "    <tr>\n",
       "      <th>597</th>\n",
       "      <td>pogrzeb tadeusza wozniaka zostal opozniony uja...</td>\n",
       "      <td>NaN</td>\n",
       "      <td>https://www.plotek.pl/plotek/7,154063,31148807...</td>\n",
       "      <td>yapping</td>\n",
       "    </tr>\n",
       "    <tr>\n",
       "      <th>598</th>\n",
       "      <td>tomaszewska na polu ma pasek warty fortune dos...</td>\n",
       "      <td>NaN</td>\n",
       "      <td>https://www.plotek.pl/plotek/7,154063,31155736...</td>\n",
       "      <td>yapping</td>\n",
       "    </tr>\n",
       "    <tr>\n",
       "      <th>599</th>\n",
       "      <td>chciala byc smoczyca usunela uszy i zeby wydal...</td>\n",
       "      <td>NaN</td>\n",
       "      <td>https://www.plotek.pl/plotek/7,154063,31170368...</td>\n",
       "      <td>yapping</td>\n",
       "    </tr>\n",
       "  </tbody>\n",
       "</table>\n",
       "<p>497 rows × 4 columns</p>\n",
       "</div>"
      ]
     },
     "execution_count": 4,
     "metadata": {},
     "output_type": "execute_result"
    }
   ],
   "execution_count": 4
  },
  {
   "metadata": {
    "ExecuteTime": {
     "end_time": "2024-12-18T04:42:25.912554Z",
     "start_time": "2024-12-18T04:42:25.902550Z"
    }
   },
   "cell_type": "code",
   "source": "df['category'].value_counts()",
   "id": "84215c728150afdd",
   "outputs": [
    {
     "data": {
      "text/plain": [
       "category\n",
       "wiadomosci     5418\n",
       "yapping        4996\n",
       "militaria      2852\n",
       "technologia    2296\n",
       "zdrowie         818\n",
       "sport           442\n",
       "Name: count, dtype: int64"
      ]
     },
     "execution_count": 4,
     "metadata": {},
     "output_type": "execute_result"
    }
   ],
   "execution_count": 4
  },
  {
   "metadata": {
    "ExecuteTime": {
     "end_time": "2024-12-11T00:19:29.862783Z",
     "start_time": "2024-12-11T00:19:29.853286Z"
    }
   },
   "cell_type": "code",
   "source": "df = df.groupby('category').filter(lambda x: len(x) > 1000)",
   "id": "d116e98b50c588fe",
   "outputs": [],
   "execution_count": 6
  },
  {
   "metadata": {
    "ExecuteTime": {
     "end_time": "2024-12-18T03:33:42.723698Z",
     "start_time": "2024-12-18T03:33:42.712698Z"
    }
   },
   "cell_type": "code",
   "source": "df['category'].value_counts()",
   "id": "d92f326f00900ffc",
   "outputs": [
    {
     "data": {
      "text/plain": [
       "category\n",
       "sport          7615\n",
       "wiadomosci     5574\n",
       "yapping        4997\n",
       "militaria      2857\n",
       "technologia    2305\n",
       "zdrowie         839\n",
       "Name: count, dtype: int64"
      ]
     },
     "execution_count": 4,
     "metadata": {},
     "output_type": "execute_result"
    }
   ],
   "execution_count": 4
  },
  {
   "metadata": {
    "ExecuteTime": {
     "end_time": "2024-12-11T00:19:30.120851Z",
     "start_time": "2024-12-11T00:19:30.117785Z"
    }
   },
   "cell_type": "code",
   "source": "# df = df.drop(df[df['category'] == 'polityka i prawo'].sample(2000).index)",
   "id": "872097557a9ef84f",
   "outputs": [],
   "execution_count": 8
  },
  {
   "metadata": {
    "ExecuteTime": {
     "end_time": "2024-12-11T00:19:30.254784Z",
     "start_time": "2024-12-11T00:19:30.251785Z"
    }
   },
   "cell_type": "code",
   "source": "# df['category'].value_counts()",
   "id": "30740d82ebdebd08",
   "outputs": [],
   "execution_count": 9
  },
  {
   "metadata": {
    "ExecuteTime": {
     "end_time": "2024-12-19T09:11:20.227360Z",
     "start_time": "2024-12-19T09:11:19.936199Z"
    }
   },
   "cell_type": "code",
   "source": [
    "# df.to_csv('../data/cleaned_data_v2.csv', index=False)\n",
    "df.to_csv('../data/cleaned_data_sampled.csv', index=False)"
   ],
   "id": "176cdf1bf4179d08",
   "outputs": [],
   "execution_count": 4
  },
  {
   "metadata": {
    "ExecuteTime": {
     "end_time": "2024-12-18T03:47:37.316199Z",
     "start_time": "2024-12-18T03:47:37.302694Z"
    }
   },
   "cell_type": "code",
   "source": [
    "import ast\n",
    "df['content'] = df['content'].apply(lambda x: ast.literal_eval(x) if isinstance(x, str) else x)\n",
    "df['content'][0]"
   ],
   "id": "501be2339ab4af13",
   "outputs": [
    {
     "data": {
      "text/plain": [
       "['agencja',\n",
       " 'uzbrojenia',\n",
       " 'podpisala',\n",
       " 'umowe',\n",
       " 'konsorcjum',\n",
       " 'sklad',\n",
       " 'ktorego',\n",
       " 'wchodzi',\n",
       " 'huta',\n",
       " 'stalowa',\n",
       " 'wola',\n",
       " 'sa',\n",
       " 'oraz',\n",
       " 'rosomak',\n",
       " 'sa',\n",
       " 'dostawe',\n",
       " 'wozow',\n",
       " 'rosomakl',\n",
       " 'najnowsza',\n",
       " 'wersja',\n",
       " 'slawnego',\n",
       " 'polskiego',\n",
       " 'transportera']"
      ]
     },
     "execution_count": 6,
     "metadata": {},
     "output_type": "execute_result"
    }
   ],
   "execution_count": 6
  }
 ],
 "metadata": {
  "kernelspec": {
   "display_name": "Python 3",
   "language": "python",
   "name": "python3"
  },
  "language_info": {
   "codemirror_mode": {
    "name": "ipython",
    "version": 2
   },
   "file_extension": ".py",
   "mimetype": "text/x-python",
   "name": "python",
   "nbconvert_exporter": "python",
   "pygments_lexer": "ipython2",
   "version": "2.7.6"
  }
 },
 "nbformat": 4,
 "nbformat_minor": 5
}
