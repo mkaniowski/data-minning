{
 "cells": [
  {
   "cell_type": "code",
   "id": "initial_id",
   "metadata": {
    "collapsed": true,
    "ExecuteTime": {
     "end_time": "2024-12-10T22:33:24.821680Z",
     "start_time": "2024-12-10T22:33:24.818680Z"
    }
   },
   "source": [
    "import nltk\n",
    "import pandas as pd"
   ],
   "outputs": [],
   "execution_count": 52
  },
  {
   "metadata": {
    "ExecuteTime": {
     "end_time": "2024-12-10T21:28:40.379639Z",
     "start_time": "2024-12-10T21:28:40.147638Z"
    }
   },
   "cell_type": "code",
   "source": "raw_data = pd.read_csv('../data/moneypl_content_2.csv')",
   "id": "8807e98e831a3355",
   "outputs": [],
   "execution_count": 17
  },
  {
   "metadata": {
    "ExecuteTime": {
     "end_time": "2024-12-10T21:28:40.402139Z",
     "start_time": "2024-12-10T21:28:40.393138Z"
    }
   },
   "cell_type": "code",
   "source": "raw_data.head()",
   "id": "31c0a7e1c8f46bde",
   "outputs": [
    {
     "data": {
      "text/plain": [
       "                                            headline    category  \\\n",
       "0  Mandat na raty. RPO chce zmian ws. wygaszania ...     Finanse   \n",
       "1  Domki dla powodzian od Buddy. Zamieszanie wokó...      Powódź   \n",
       "2  Hanna Gronkiewicz-Waltz objęła mandat europose...       Prawo   \n",
       "3  Kary dla Hindusa i Dunki. Złamali prawo na Lot...       Prawo   \n",
       "4  Powodzianie szykują pozew zbiorowy. \"Ma udowod...  Gospodarka   \n",
       "\n",
       "                                             content  \\\n",
       "0  Kierowcy, którzy spłacają mandat na raty, dłuż...   \n",
       "1  Poszkodowana przez powódź pani Ilona z okolic ...   \n",
       "2  Parlament Europejski w poniedziałek przyjął do...   \n",
       "3  Funkcjonariusze Straży Granicznej interweniowa...   \n",
       "4  W Lewinie Brzeskim trwa zbiórka podpisów pod p...   \n",
       "\n",
       "                                                 url  \n",
       "0  https://www.money.pl/gospodarka/mandat-na-raty...  \n",
       "1  https://www.money.pl/gospodarka/domki-dla-powo...  \n",
       "2  https://www.money.pl/gospodarka/hanna-gronkiew...  \n",
       "3  https://www.money.pl/gospodarka/kary-dla-hindu...  \n",
       "4  https://www.money.pl/gospodarka/powodzianie-sz...  "
      ],
      "text/html": [
       "<div>\n",
       "<style scoped>\n",
       "    .dataframe tbody tr th:only-of-type {\n",
       "        vertical-align: middle;\n",
       "    }\n",
       "\n",
       "    .dataframe tbody tr th {\n",
       "        vertical-align: top;\n",
       "    }\n",
       "\n",
       "    .dataframe thead th {\n",
       "        text-align: right;\n",
       "    }\n",
       "</style>\n",
       "<table border=\"1\" class=\"dataframe\">\n",
       "  <thead>\n",
       "    <tr style=\"text-align: right;\">\n",
       "      <th></th>\n",
       "      <th>headline</th>\n",
       "      <th>category</th>\n",
       "      <th>content</th>\n",
       "      <th>url</th>\n",
       "    </tr>\n",
       "  </thead>\n",
       "  <tbody>\n",
       "    <tr>\n",
       "      <th>0</th>\n",
       "      <td>Mandat na raty. RPO chce zmian ws. wygaszania ...</td>\n",
       "      <td>Finanse</td>\n",
       "      <td>Kierowcy, którzy spłacają mandat na raty, dłuż...</td>\n",
       "      <td>https://www.money.pl/gospodarka/mandat-na-raty...</td>\n",
       "    </tr>\n",
       "    <tr>\n",
       "      <th>1</th>\n",
       "      <td>Domki dla powodzian od Buddy. Zamieszanie wokó...</td>\n",
       "      <td>Powódź</td>\n",
       "      <td>Poszkodowana przez powódź pani Ilona z okolic ...</td>\n",
       "      <td>https://www.money.pl/gospodarka/domki-dla-powo...</td>\n",
       "    </tr>\n",
       "    <tr>\n",
       "      <th>2</th>\n",
       "      <td>Hanna Gronkiewicz-Waltz objęła mandat europose...</td>\n",
       "      <td>Prawo</td>\n",
       "      <td>Parlament Europejski w poniedziałek przyjął do...</td>\n",
       "      <td>https://www.money.pl/gospodarka/hanna-gronkiew...</td>\n",
       "    </tr>\n",
       "    <tr>\n",
       "      <th>3</th>\n",
       "      <td>Kary dla Hindusa i Dunki. Złamali prawo na Lot...</td>\n",
       "      <td>Prawo</td>\n",
       "      <td>Funkcjonariusze Straży Granicznej interweniowa...</td>\n",
       "      <td>https://www.money.pl/gospodarka/kary-dla-hindu...</td>\n",
       "    </tr>\n",
       "    <tr>\n",
       "      <th>4</th>\n",
       "      <td>Powodzianie szykują pozew zbiorowy. \"Ma udowod...</td>\n",
       "      <td>Gospodarka</td>\n",
       "      <td>W Lewinie Brzeskim trwa zbiórka podpisów pod p...</td>\n",
       "      <td>https://www.money.pl/gospodarka/powodzianie-sz...</td>\n",
       "    </tr>\n",
       "  </tbody>\n",
       "</table>\n",
       "</div>"
      ]
     },
     "execution_count": 18,
     "metadata": {},
     "output_type": "execute_result"
    }
   ],
   "execution_count": 18
  },
  {
   "metadata": {
    "ExecuteTime": {
     "end_time": "2024-12-10T21:28:40.470140Z",
     "start_time": "2024-12-10T21:28:40.460139Z"
    }
   },
   "cell_type": "code",
   "source": "raw_data.info()",
   "id": "7210537178915e33",
   "outputs": [
    {
     "name": "stdout",
     "output_type": "stream",
     "text": [
      "<class 'pandas.core.frame.DataFrame'>\n",
      "RangeIndex: 9473 entries, 0 to 9472\n",
      "Data columns (total 4 columns):\n",
      " #   Column    Non-Null Count  Dtype \n",
      "---  ------    --------------  ----- \n",
      " 0   headline  9473 non-null   object\n",
      " 1   category  9473 non-null   object\n",
      " 2   content   9471 non-null   object\n",
      " 3   url       9473 non-null   object\n",
      "dtypes: object(4)\n",
      "memory usage: 296.2+ KB\n"
     ]
    }
   ],
   "execution_count": 19
  },
  {
   "metadata": {
    "ExecuteTime": {
     "end_time": "2024-12-10T21:28:40.575140Z",
     "start_time": "2024-12-10T21:28:40.565140Z"
    }
   },
   "cell_type": "code",
   "source": "raw_data.isna().sum()",
   "id": "3832b274c124acb4",
   "outputs": [
    {
     "data": {
      "text/plain": [
       "headline    0\n",
       "category    0\n",
       "content     2\n",
       "url         0\n",
       "dtype: int64"
      ]
     },
     "execution_count": 20,
     "metadata": {},
     "output_type": "execute_result"
    }
   ],
   "execution_count": 20
  },
  {
   "metadata": {
    "ExecuteTime": {
     "end_time": "2024-12-10T21:28:40.685638Z",
     "start_time": "2024-12-10T21:28:40.676639Z"
    }
   },
   "cell_type": "code",
   "source": "raw_data.dropna(inplace=True)",
   "id": "25b077ac116ef151",
   "outputs": [],
   "execution_count": 21
  },
  {
   "metadata": {
    "ExecuteTime": {
     "end_time": "2024-12-10T21:28:40.798644Z",
     "start_time": "2024-12-10T21:28:40.788643Z"
    }
   },
   "cell_type": "code",
   "source": "raw_data",
   "id": "ab0dd7ae68432674",
   "outputs": [
    {
     "data": {
      "text/plain": [
       "                                               headline          category  \\\n",
       "0     Mandat na raty. RPO chce zmian ws. wygaszania ...           Finanse   \n",
       "1     Domki dla powodzian od Buddy. Zamieszanie wokó...            Powódź   \n",
       "2     Hanna Gronkiewicz-Waltz objęła mandat europose...             Prawo   \n",
       "3     Kary dla Hindusa i Dunki. Złamali prawo na Lot...             Prawo   \n",
       "4     Powodzianie szykują pozew zbiorowy. \"Ma udowod...        Gospodarka   \n",
       "...                                                 ...               ...   \n",
       "9468  Publikacja Politico. Kreml: To niestworzone bz...  Wojna w Ukrainie   \n",
       "9469  Rehabilitacji lecznicza. NIK: Coraz gorszy dostęp               Nfz   \n",
       "9470  Karta Dużej Rodziny. Zobacz gdzie i do czego u...             Prawo   \n",
       "9471  Referendum ws. likwidacji straży miejskiej nie...     Straż miejska   \n",
       "9472     Zwolennicy monarchii rosną w siłę w Portugalii        Portugalia   \n",
       "\n",
       "                                                content  \\\n",
       "0     Kierowcy, którzy spłacają mandat na raty, dłuż...   \n",
       "1     Poszkodowana przez powódź pani Ilona z okolic ...   \n",
       "2     Parlament Europejski w poniedziałek przyjął do...   \n",
       "3     Funkcjonariusze Straży Granicznej interweniowa...   \n",
       "4     W Lewinie Brzeskim trwa zbiórka podpisów pod p...   \n",
       "...                                                 ...   \n",
       "9468  - Przede wszystkim słabo znamy twórczość tego ...   \n",
       "9469  Na zabiegi czeka coraz więcej osób, kurczy zaś...   \n",
       "9470                                  Content not found   \n",
       "9471  Wniosek zawierał błędy - stwierdziła komisja w...   \n",
       "9472  Poszerzaniu ich grona towarzyszy tworzenie org...   \n",
       "\n",
       "                                                    url  \n",
       "0     https://www.money.pl/gospodarka/mandat-na-raty...  \n",
       "1     https://www.money.pl/gospodarka/domki-dla-powo...  \n",
       "2     https://www.money.pl/gospodarka/hanna-gronkiew...  \n",
       "3     https://www.money.pl/gospodarka/kary-dla-hindu...  \n",
       "4     https://www.money.pl/gospodarka/powodzianie-sz...  \n",
       "...                                                 ...  \n",
       "9468  https://prawo.money.pl/aktualnosci/wiadomosci/...  \n",
       "9469  https://prawo.money.pl/aktualnosci/wiadomosci/...  \n",
       "9470  http://e-prawnik.pl/wiadomosci/informacje/kart...  \n",
       "9471  https://prawo.money.pl/aktualnosci/wiadomosci/...  \n",
       "9472  https://prawo.money.pl/aktualnosci/wiadomosci/...  \n",
       "\n",
       "[9471 rows x 4 columns]"
      ],
      "text/html": [
       "<div>\n",
       "<style scoped>\n",
       "    .dataframe tbody tr th:only-of-type {\n",
       "        vertical-align: middle;\n",
       "    }\n",
       "\n",
       "    .dataframe tbody tr th {\n",
       "        vertical-align: top;\n",
       "    }\n",
       "\n",
       "    .dataframe thead th {\n",
       "        text-align: right;\n",
       "    }\n",
       "</style>\n",
       "<table border=\"1\" class=\"dataframe\">\n",
       "  <thead>\n",
       "    <tr style=\"text-align: right;\">\n",
       "      <th></th>\n",
       "      <th>headline</th>\n",
       "      <th>category</th>\n",
       "      <th>content</th>\n",
       "      <th>url</th>\n",
       "    </tr>\n",
       "  </thead>\n",
       "  <tbody>\n",
       "    <tr>\n",
       "      <th>0</th>\n",
       "      <td>Mandat na raty. RPO chce zmian ws. wygaszania ...</td>\n",
       "      <td>Finanse</td>\n",
       "      <td>Kierowcy, którzy spłacają mandat na raty, dłuż...</td>\n",
       "      <td>https://www.money.pl/gospodarka/mandat-na-raty...</td>\n",
       "    </tr>\n",
       "    <tr>\n",
       "      <th>1</th>\n",
       "      <td>Domki dla powodzian od Buddy. Zamieszanie wokó...</td>\n",
       "      <td>Powódź</td>\n",
       "      <td>Poszkodowana przez powódź pani Ilona z okolic ...</td>\n",
       "      <td>https://www.money.pl/gospodarka/domki-dla-powo...</td>\n",
       "    </tr>\n",
       "    <tr>\n",
       "      <th>2</th>\n",
       "      <td>Hanna Gronkiewicz-Waltz objęła mandat europose...</td>\n",
       "      <td>Prawo</td>\n",
       "      <td>Parlament Europejski w poniedziałek przyjął do...</td>\n",
       "      <td>https://www.money.pl/gospodarka/hanna-gronkiew...</td>\n",
       "    </tr>\n",
       "    <tr>\n",
       "      <th>3</th>\n",
       "      <td>Kary dla Hindusa i Dunki. Złamali prawo na Lot...</td>\n",
       "      <td>Prawo</td>\n",
       "      <td>Funkcjonariusze Straży Granicznej interweniowa...</td>\n",
       "      <td>https://www.money.pl/gospodarka/kary-dla-hindu...</td>\n",
       "    </tr>\n",
       "    <tr>\n",
       "      <th>4</th>\n",
       "      <td>Powodzianie szykują pozew zbiorowy. \"Ma udowod...</td>\n",
       "      <td>Gospodarka</td>\n",
       "      <td>W Lewinie Brzeskim trwa zbiórka podpisów pod p...</td>\n",
       "      <td>https://www.money.pl/gospodarka/powodzianie-sz...</td>\n",
       "    </tr>\n",
       "    <tr>\n",
       "      <th>...</th>\n",
       "      <td>...</td>\n",
       "      <td>...</td>\n",
       "      <td>...</td>\n",
       "      <td>...</td>\n",
       "    </tr>\n",
       "    <tr>\n",
       "      <th>9468</th>\n",
       "      <td>Publikacja Politico. Kreml: To niestworzone bz...</td>\n",
       "      <td>Wojna w Ukrainie</td>\n",
       "      <td>- Przede wszystkim słabo znamy twórczość tego ...</td>\n",
       "      <td>https://prawo.money.pl/aktualnosci/wiadomosci/...</td>\n",
       "    </tr>\n",
       "    <tr>\n",
       "      <th>9469</th>\n",
       "      <td>Rehabilitacji lecznicza. NIK: Coraz gorszy dostęp</td>\n",
       "      <td>Nfz</td>\n",
       "      <td>Na zabiegi czeka coraz więcej osób, kurczy zaś...</td>\n",
       "      <td>https://prawo.money.pl/aktualnosci/wiadomosci/...</td>\n",
       "    </tr>\n",
       "    <tr>\n",
       "      <th>9470</th>\n",
       "      <td>Karta Dużej Rodziny. Zobacz gdzie i do czego u...</td>\n",
       "      <td>Prawo</td>\n",
       "      <td>Content not found</td>\n",
       "      <td>http://e-prawnik.pl/wiadomosci/informacje/kart...</td>\n",
       "    </tr>\n",
       "    <tr>\n",
       "      <th>9471</th>\n",
       "      <td>Referendum ws. likwidacji straży miejskiej nie...</td>\n",
       "      <td>Straż miejska</td>\n",
       "      <td>Wniosek zawierał błędy - stwierdziła komisja w...</td>\n",
       "      <td>https://prawo.money.pl/aktualnosci/wiadomosci/...</td>\n",
       "    </tr>\n",
       "    <tr>\n",
       "      <th>9472</th>\n",
       "      <td>Zwolennicy monarchii rosną w siłę w Portugalii</td>\n",
       "      <td>Portugalia</td>\n",
       "      <td>Poszerzaniu ich grona towarzyszy tworzenie org...</td>\n",
       "      <td>https://prawo.money.pl/aktualnosci/wiadomosci/...</td>\n",
       "    </tr>\n",
       "  </tbody>\n",
       "</table>\n",
       "<p>9471 rows × 4 columns</p>\n",
       "</div>"
      ]
     },
     "execution_count": 22,
     "metadata": {},
     "output_type": "execute_result"
    }
   ],
   "execution_count": 22
  },
  {
   "metadata": {
    "ExecuteTime": {
     "end_time": "2024-12-10T21:28:40.910642Z",
     "start_time": "2024-12-10T21:28:40.901642Z"
    }
   },
   "cell_type": "code",
   "source": "raw_data['category'].value_counts()",
   "id": "3ed29a974fff950a",
   "outputs": [
    {
     "data": {
      "text/plain": [
       "category\n",
       "Prawo                            1511\n",
       "Wiadomości                        651\n",
       "Gospodarka                        320\n",
       "Wybory samorządowe 2014           235\n",
       "Kraj                              207\n",
       "                                 ... \n",
       "Imigracja w wielkiej brytanii       1\n",
       "Polska służba zdrowia               1\n",
       "Senat w polsce                      1\n",
       "Frog                                1\n",
       "Agh                                 1\n",
       "Name: count, Length: 2529, dtype: int64"
      ]
     },
     "execution_count": 23,
     "metadata": {},
     "output_type": "execute_result"
    }
   ],
   "execution_count": 23
  },
  {
   "metadata": {
    "ExecuteTime": {
     "end_time": "2024-12-10T21:28:41.020640Z",
     "start_time": "2024-12-10T21:28:41.014640Z"
    }
   },
   "cell_type": "code",
   "source": "raw_data['category'].nunique()",
   "id": "7d2916e2cd0f0a22",
   "outputs": [
    {
     "data": {
      "text/plain": [
       "2529"
      ]
     },
     "execution_count": 24,
     "metadata": {},
     "output_type": "execute_result"
    }
   ],
   "execution_count": 24
  },
  {
   "metadata": {
    "ExecuteTime": {
     "end_time": "2024-12-10T21:28:41.262640Z",
     "start_time": "2024-12-10T21:28:41.254139Z"
    }
   },
   "cell_type": "code",
   "source": "raw_data['category'].value_counts().loc[lambda x: x > 20]",
   "id": "4c515925decf9485",
   "outputs": [
    {
     "data": {
      "text/plain": [
       "category\n",
       "Prawo                       1511\n",
       "Wiadomości                   651\n",
       "Gospodarka                   320\n",
       "Wybory samorządowe 2014      235\n",
       "Kraj                         207\n",
       "Wojna w Ukrainie             115\n",
       "Praca                         84\n",
       "Prawo pracy                   83\n",
       "Podatki                       57\n",
       "Świat                         44\n",
       "Rosja                         42\n",
       "Wybory prezydenckie 2015      40\n",
       "Handel                        38\n",
       "Finanse                       37\n",
       "Usa                           35\n",
       "Państwo islamskie             35\n",
       "Amber Gold                    33\n",
       "Wybory samorządowe            31\n",
       "Policja                       30\n",
       "Ukraina                       28\n",
       "Biznes                        27\n",
       "Sąd                           27\n",
       "Francja                       25\n",
       "Nik                           24\n",
       "Cba                           24\n",
       "Uokik                         23\n",
       "Włochy                        23\n",
       "Nieruchomości                 22\n",
       "Sytuacja na ukrainie          22\n",
       "Porady                        22\n",
       "Izrael                        22\n",
       "Chiny                         22\n",
       "Konflikt na ukrainie          21\n",
       "Trybunał konstytucyjny        21\n",
       "Pkw                           21\n",
       "Niemcy                        21\n",
       "Firma                         21\n",
       "Zus                           21\n",
       "Name: count, dtype: int64"
      ]
     },
     "execution_count": 25,
     "metadata": {},
     "output_type": "execute_result"
    }
   ],
   "execution_count": 25
  },
  {
   "metadata": {
    "ExecuteTime": {
     "end_time": "2024-12-10T21:28:41.377638Z",
     "start_time": "2024-12-10T21:28:41.370139Z"
    }
   },
   "cell_type": "code",
   "source": "raw_data['category'].value_counts().loc[lambda x: x > 20].count()",
   "id": "b167b7bde7d3bf9",
   "outputs": [
    {
     "data": {
      "text/plain": [
       "np.int64(38)"
      ]
     },
     "execution_count": 26,
     "metadata": {},
     "output_type": "execute_result"
    }
   ],
   "execution_count": 26
  },
  {
   "metadata": {
    "ExecuteTime": {
     "end_time": "2024-12-10T21:28:41.552140Z",
     "start_time": "2024-12-10T21:28:41.546640Z"
    }
   },
   "cell_type": "code",
   "source": "trimmed_categories = raw_data['category'].value_counts().loc[lambda x: x > 10].index.tolist()",
   "id": "c850c030fcb17ec0",
   "outputs": [],
   "execution_count": 27
  },
  {
   "metadata": {
    "ExecuteTime": {
     "end_time": "2024-12-10T21:28:41.662140Z",
     "start_time": "2024-12-10T21:28:41.656642Z"
    }
   },
   "cell_type": "code",
   "source": "trimmed_categories",
   "id": "37d214db0c6b0d08",
   "outputs": [
    {
     "data": {
      "text/plain": [
       "['Prawo',\n",
       " 'Wiadomości',\n",
       " 'Gospodarka',\n",
       " 'Wybory samorządowe 2014',\n",
       " 'Kraj',\n",
       " 'Wojna w Ukrainie',\n",
       " 'Praca',\n",
       " 'Prawo pracy',\n",
       " 'Podatki',\n",
       " 'Świat',\n",
       " 'Rosja',\n",
       " 'Wybory prezydenckie 2015',\n",
       " 'Handel',\n",
       " 'Finanse',\n",
       " 'Usa',\n",
       " 'Państwo islamskie',\n",
       " 'Amber Gold',\n",
       " 'Wybory samorządowe',\n",
       " 'Policja',\n",
       " 'Ukraina',\n",
       " 'Biznes',\n",
       " 'Sąd',\n",
       " 'Francja',\n",
       " 'Nik',\n",
       " 'Cba',\n",
       " 'Uokik',\n",
       " 'Włochy',\n",
       " 'Nieruchomości',\n",
       " 'Sytuacja na ukrainie',\n",
       " 'Porady',\n",
       " 'Izrael',\n",
       " 'Chiny',\n",
       " 'Konflikt na ukrainie',\n",
       " 'Trybunał konstytucyjny',\n",
       " 'Pkw',\n",
       " 'Niemcy',\n",
       " 'Firma',\n",
       " 'Zus',\n",
       " 'Porady prawne',\n",
       " 'Wybory na ukrainie',\n",
       " 'Polityka',\n",
       " 'Media',\n",
       " 'Kodeks pracy',\n",
       " 'Korea Północna',\n",
       " 'Sejm',\n",
       " 'Mobility',\n",
       " 'Barack Obama',\n",
       " 'Koronawirus',\n",
       " 'Władimir putin',\n",
       " 'Atak na charlie hebdo',\n",
       " 'Skok',\n",
       " 'Baza wiedzy',\n",
       " 'Unia europejska',\n",
       " 'Energetyka',\n",
       " 'Walka z terroryzmem',\n",
       " 'Giełda',\n",
       " 'Wyniki wyborów samorządowych 2014',\n",
       " 'Afganistan',\n",
       " 'Charlie hebdo',\n",
       " 'Białoruś',\n",
       " 'Donald tusk',\n",
       " 'Sądy',\n",
       " 'Jarosław Kaczyński',\n",
       " 'Wybory',\n",
       " 'Roman polański',\n",
       " 'Wojna z państwem islamskim',\n",
       " 'Rodo',\n",
       " 'Pomoc dla ukrainy',\n",
       " 'Zdrowie',\n",
       " 'Bronisław komorowski',\n",
       " 'Kredyty',\n",
       " 'Nfz',\n",
       " 'Przepisy',\n",
       " 'Knf',\n",
       " 'Nato',\n",
       " 'Czechy',\n",
       " 'Korupcja w polsce',\n",
       " 'Prawo spadkowe',\n",
       " 'Walka z dżihadystami',\n",
       " 'Abw',\n",
       " 'Korupcja',\n",
       " 'Wybory na ukrainie 2014',\n",
       " 'Wojna z terroryzmem',\n",
       " 'Prawo jazdy',\n",
       " 'Papież franciszek',\n",
       " 'Orlen',\n",
       " 'Pieniądze',\n",
       " 'Wojna w syrii',\n",
       " 'Hiszpania',\n",
       " 'Prokuratura',\n",
       " 'Andrzej Duda']"
      ]
     },
     "execution_count": 28,
     "metadata": {},
     "output_type": "execute_result"
    }
   ],
   "execution_count": 28
  },
  {
   "metadata": {
    "ExecuteTime": {
     "end_time": "2024-12-10T21:28:41.747142Z",
     "start_time": "2024-12-10T21:28:41.741140Z"
    }
   },
   "cell_type": "code",
   "source": "trimmed_data = raw_data[raw_data['category'].isin(trimmed_categories)]",
   "id": "a590d07bdbf3d8fe",
   "outputs": [],
   "execution_count": 29
  },
  {
   "metadata": {
    "ExecuteTime": {
     "end_time": "2024-12-10T21:28:41.894141Z",
     "start_time": "2024-12-10T21:28:41.884141Z"
    }
   },
   "cell_type": "code",
   "source": [
    "# Mapowanie kategorii\n",
    "category_mapping = {\n",
    "    'Polityka i Rząd': [\n",
    "        'Wybory samorządowe 2014', 'Wybory prezydenckie 2015', 'Wybory',\n",
    "        'Wyniki wyborów samorządowych 2014', 'Pkw', 'Sejm', 'Trybunał konstytucyjny',\n",
    "        'Polityka', 'Donald tusk', 'Bronisław komorowski', 'Jarosław Kaczyński',\n",
    "        'Andrzej Duda', 'Unia europejska', 'Nato', 'Cba', 'Nik', 'Zus',\n",
    "        'Knf', 'Uokik', 'Prawo spadkowe'\n",
    "    ],\n",
    "    'Wojny i Konflikty': [\n",
    "        'Wojna w Ukrainie', 'Konflikt na Ukrainie', 'Sytuacja na Ukrainie',\n",
    "        'Pomoc dla Ukrainy', 'Wybory na Ukrainie', 'Wojna w Syrii',\n",
    "        'Wojna z terroryzmem', 'Walka z terroryzmem', 'Wojna z państwem islamskim',\n",
    "        'Państwo islamskie', 'Walka z dżihadystami', 'Afganistan', 'Rosja',\n",
    "        'Hiszpania', 'Białoruś', 'Izrael', 'Chiny', 'Francja', 'Korea Północna',\n",
    "        'Niemcy', 'Włochy', 'Czechy'\n",
    "    ],\n",
    "    'Ekonomia i Biznes': [\n",
    "        'Gospodarka', 'Biznes', 'Firma', 'Finanse', 'Kredyty', 'Podatki',\n",
    "        'Giełda', 'Amber Gold', 'Handel', 'Nieruchomości', 'Energetyka', 'Orlen'\n",
    "    ],\n",
    "    'Prawo i Sprawiedliwość': [\n",
    "        'Prawo', 'Prawo pracy', 'Kodeks pracy', 'Porady prawne', 'Porady',\n",
    "        'Sąd', 'Sądy', 'Prokuratura', 'Abw', 'Korupcja', 'Korupcja w Polsce'\n",
    "    ],\n",
    "    'Zdrowie i Społeczeństwo': [\n",
    "        'Zdrowie', 'Koronawirus', 'Nfz', 'Praca', 'Mobility', 'Prawo jazdy', 'Skok'\n",
    "    ],\n",
    "    'Świat i Media': [\n",
    "        'Wiadomości', 'Świat', 'Media', 'Barack Obama', 'Władimir Putin',\n",
    "        'Atak na Charlie Hebdo', 'Charlie Hebdo', 'Roman Polański',\n",
    "        'Papież Franciszek', 'Baza wiedzy'\n",
    "    ]\n",
    "}\n",
    "\n",
    "# Odwrócenie mapowania do użycia w .map()\n",
    "reverse_mapping = {category: key for key, values in category_mapping.items() for category in values}\n",
    "\n",
    "# Przypisanie nowych kategorii\n",
    "trimmed_data['general_category'] = trimmed_data['category'].map(reverse_mapping)\n"
   ],
   "id": "455a32daee1710b3",
   "outputs": [
    {
     "name": "stderr",
     "output_type": "stream",
     "text": [
      "C:\\Users\\kanio\\AppData\\Local\\Temp\\ipykernel_26732\\842398672.py:40: SettingWithCopyWarning: \n",
      "A value is trying to be set on a copy of a slice from a DataFrame.\n",
      "Try using .loc[row_indexer,col_indexer] = value instead\n",
      "\n",
      "See the caveats in the documentation: https://pandas.pydata.org/pandas-docs/stable/user_guide/indexing.html#returning-a-view-versus-a-copy\n",
      "  trimmed_data['general_category'] = trimmed_data['category'].map(reverse_mapping)\n"
     ]
    }
   ],
   "execution_count": 30
  },
  {
   "metadata": {
    "ExecuteTime": {
     "end_time": "2024-12-10T21:28:41.949639Z",
     "start_time": "2024-12-10T21:28:41.939638Z"
    }
   },
   "cell_type": "code",
   "source": "trimmed_data",
   "id": "300aecd46b5b9ff2",
   "outputs": [
    {
     "data": {
      "text/plain": [
       "                                               headline  \\\n",
       "0     Mandat na raty. RPO chce zmian ws. wygaszania ...   \n",
       "2     Hanna Gronkiewicz-Waltz objęła mandat europose...   \n",
       "3     Kary dla Hindusa i Dunki. Złamali prawo na Lot...   \n",
       "4     Powodzianie szykują pozew zbiorowy. \"Ma udowod...   \n",
       "5      Tak Rosja szpiegowała Gruzję. Są nowe informacje   \n",
       "...                                                 ...   \n",
       "9462  Wybory samorządowe. 61 proc. Polaków dobrze oc...   \n",
       "9466  \"Polskie obozy koncentracyjne\". Wpadka włoskie...   \n",
       "9468  Publikacja Politico. Kreml: To niestworzone bz...   \n",
       "9469  Rehabilitacji lecznicza. NIK: Coraz gorszy dostęp   \n",
       "9470  Karta Dużej Rodziny. Zobacz gdzie i do czego u...   \n",
       "\n",
       "                     category  \\\n",
       "0                     Finanse   \n",
       "2                       Prawo   \n",
       "3                       Prawo   \n",
       "4                  Gospodarka   \n",
       "5                  Gospodarka   \n",
       "...                       ...   \n",
       "9462  Wybory samorządowe 2014   \n",
       "9466               Wiadomości   \n",
       "9468         Wojna w Ukrainie   \n",
       "9469                      Nfz   \n",
       "9470                    Prawo   \n",
       "\n",
       "                                                content  \\\n",
       "0     Kierowcy, którzy spłacają mandat na raty, dłuż...   \n",
       "2     Parlament Europejski w poniedziałek przyjął do...   \n",
       "3     Funkcjonariusze Straży Granicznej interweniowa...   \n",
       "4     W Lewinie Brzeskim trwa zbiórka podpisów pod p...   \n",
       "5     Rosja przez kilka lat prowadziła szeroko zakro...   \n",
       "...                                                 ...   \n",
       "9462  Na miesiąc przed wyborami pracę samorządowców ...   \n",
       "9466  To kolejny taki błąd we włoskich mediach mimo ...   \n",
       "9468  - Przede wszystkim słabo znamy twórczość tego ...   \n",
       "9469  Na zabiegi czeka coraz więcej osób, kurczy zaś...   \n",
       "9470                                  Content not found   \n",
       "\n",
       "                                                    url  \\\n",
       "0     https://www.money.pl/gospodarka/mandat-na-raty...   \n",
       "2     https://www.money.pl/gospodarka/hanna-gronkiew...   \n",
       "3     https://www.money.pl/gospodarka/kary-dla-hindu...   \n",
       "4     https://www.money.pl/gospodarka/powodzianie-sz...   \n",
       "5     https://www.money.pl/gospodarka/tak-rosja-szpi...   \n",
       "...                                                 ...   \n",
       "9462  https://prawo.money.pl/aktualnosci/wiadomosci/...   \n",
       "9466  https://prawo.money.pl/aktualnosci/wiadomosci/...   \n",
       "9468  https://prawo.money.pl/aktualnosci/wiadomosci/...   \n",
       "9469  https://prawo.money.pl/aktualnosci/wiadomosci/...   \n",
       "9470  http://e-prawnik.pl/wiadomosci/informacje/kart...   \n",
       "\n",
       "             general_category  \n",
       "0           Ekonomia i Biznes  \n",
       "2      Prawo i Sprawiedliwość  \n",
       "3      Prawo i Sprawiedliwość  \n",
       "4           Ekonomia i Biznes  \n",
       "5           Ekonomia i Biznes  \n",
       "...                       ...  \n",
       "9462          Polityka i Rząd  \n",
       "9466            Świat i Media  \n",
       "9468        Wojny i Konflikty  \n",
       "9469  Zdrowie i Społeczeństwo  \n",
       "9470   Prawo i Sprawiedliwość  \n",
       "\n",
       "[4825 rows x 5 columns]"
      ],
      "text/html": [
       "<div>\n",
       "<style scoped>\n",
       "    .dataframe tbody tr th:only-of-type {\n",
       "        vertical-align: middle;\n",
       "    }\n",
       "\n",
       "    .dataframe tbody tr th {\n",
       "        vertical-align: top;\n",
       "    }\n",
       "\n",
       "    .dataframe thead th {\n",
       "        text-align: right;\n",
       "    }\n",
       "</style>\n",
       "<table border=\"1\" class=\"dataframe\">\n",
       "  <thead>\n",
       "    <tr style=\"text-align: right;\">\n",
       "      <th></th>\n",
       "      <th>headline</th>\n",
       "      <th>category</th>\n",
       "      <th>content</th>\n",
       "      <th>url</th>\n",
       "      <th>general_category</th>\n",
       "    </tr>\n",
       "  </thead>\n",
       "  <tbody>\n",
       "    <tr>\n",
       "      <th>0</th>\n",
       "      <td>Mandat na raty. RPO chce zmian ws. wygaszania ...</td>\n",
       "      <td>Finanse</td>\n",
       "      <td>Kierowcy, którzy spłacają mandat na raty, dłuż...</td>\n",
       "      <td>https://www.money.pl/gospodarka/mandat-na-raty...</td>\n",
       "      <td>Ekonomia i Biznes</td>\n",
       "    </tr>\n",
       "    <tr>\n",
       "      <th>2</th>\n",
       "      <td>Hanna Gronkiewicz-Waltz objęła mandat europose...</td>\n",
       "      <td>Prawo</td>\n",
       "      <td>Parlament Europejski w poniedziałek przyjął do...</td>\n",
       "      <td>https://www.money.pl/gospodarka/hanna-gronkiew...</td>\n",
       "      <td>Prawo i Sprawiedliwość</td>\n",
       "    </tr>\n",
       "    <tr>\n",
       "      <th>3</th>\n",
       "      <td>Kary dla Hindusa i Dunki. Złamali prawo na Lot...</td>\n",
       "      <td>Prawo</td>\n",
       "      <td>Funkcjonariusze Straży Granicznej interweniowa...</td>\n",
       "      <td>https://www.money.pl/gospodarka/kary-dla-hindu...</td>\n",
       "      <td>Prawo i Sprawiedliwość</td>\n",
       "    </tr>\n",
       "    <tr>\n",
       "      <th>4</th>\n",
       "      <td>Powodzianie szykują pozew zbiorowy. \"Ma udowod...</td>\n",
       "      <td>Gospodarka</td>\n",
       "      <td>W Lewinie Brzeskim trwa zbiórka podpisów pod p...</td>\n",
       "      <td>https://www.money.pl/gospodarka/powodzianie-sz...</td>\n",
       "      <td>Ekonomia i Biznes</td>\n",
       "    </tr>\n",
       "    <tr>\n",
       "      <th>5</th>\n",
       "      <td>Tak Rosja szpiegowała Gruzję. Są nowe informacje</td>\n",
       "      <td>Gospodarka</td>\n",
       "      <td>Rosja przez kilka lat prowadziła szeroko zakro...</td>\n",
       "      <td>https://www.money.pl/gospodarka/tak-rosja-szpi...</td>\n",
       "      <td>Ekonomia i Biznes</td>\n",
       "    </tr>\n",
       "    <tr>\n",
       "      <th>...</th>\n",
       "      <td>...</td>\n",
       "      <td>...</td>\n",
       "      <td>...</td>\n",
       "      <td>...</td>\n",
       "      <td>...</td>\n",
       "    </tr>\n",
       "    <tr>\n",
       "      <th>9462</th>\n",
       "      <td>Wybory samorządowe. 61 proc. Polaków dobrze oc...</td>\n",
       "      <td>Wybory samorządowe 2014</td>\n",
       "      <td>Na miesiąc przed wyborami pracę samorządowców ...</td>\n",
       "      <td>https://prawo.money.pl/aktualnosci/wiadomosci/...</td>\n",
       "      <td>Polityka i Rząd</td>\n",
       "    </tr>\n",
       "    <tr>\n",
       "      <th>9466</th>\n",
       "      <td>\"Polskie obozy koncentracyjne\". Wpadka włoskie...</td>\n",
       "      <td>Wiadomości</td>\n",
       "      <td>To kolejny taki błąd we włoskich mediach mimo ...</td>\n",
       "      <td>https://prawo.money.pl/aktualnosci/wiadomosci/...</td>\n",
       "      <td>Świat i Media</td>\n",
       "    </tr>\n",
       "    <tr>\n",
       "      <th>9468</th>\n",
       "      <td>Publikacja Politico. Kreml: To niestworzone bz...</td>\n",
       "      <td>Wojna w Ukrainie</td>\n",
       "      <td>- Przede wszystkim słabo znamy twórczość tego ...</td>\n",
       "      <td>https://prawo.money.pl/aktualnosci/wiadomosci/...</td>\n",
       "      <td>Wojny i Konflikty</td>\n",
       "    </tr>\n",
       "    <tr>\n",
       "      <th>9469</th>\n",
       "      <td>Rehabilitacji lecznicza. NIK: Coraz gorszy dostęp</td>\n",
       "      <td>Nfz</td>\n",
       "      <td>Na zabiegi czeka coraz więcej osób, kurczy zaś...</td>\n",
       "      <td>https://prawo.money.pl/aktualnosci/wiadomosci/...</td>\n",
       "      <td>Zdrowie i Społeczeństwo</td>\n",
       "    </tr>\n",
       "    <tr>\n",
       "      <th>9470</th>\n",
       "      <td>Karta Dużej Rodziny. Zobacz gdzie i do czego u...</td>\n",
       "      <td>Prawo</td>\n",
       "      <td>Content not found</td>\n",
       "      <td>http://e-prawnik.pl/wiadomosci/informacje/kart...</td>\n",
       "      <td>Prawo i Sprawiedliwość</td>\n",
       "    </tr>\n",
       "  </tbody>\n",
       "</table>\n",
       "<p>4825 rows × 5 columns</p>\n",
       "</div>"
      ]
     },
     "execution_count": 31,
     "metadata": {},
     "output_type": "execute_result"
    }
   ],
   "execution_count": 31
  },
  {
   "metadata": {
    "ExecuteTime": {
     "end_time": "2024-12-10T21:28:42.063140Z",
     "start_time": "2024-12-10T21:28:42.057140Z"
    }
   },
   "cell_type": "code",
   "source": "trimmed_data['general_category'].value_counts()",
   "id": "5ff201836901074c",
   "outputs": [
    {
     "data": {
      "text/plain": [
       "general_category\n",
       "Prawo i Sprawiedliwość     1729\n",
       "Świat i Media               750\n",
       "Ekonomia i Biznes           609\n",
       "Polityka i Rząd             583\n",
       "Wojny i Konflikty           429\n",
       "Zdrowie i Społeczeństwo     174\n",
       "Name: count, dtype: int64"
      ]
     },
     "execution_count": 32,
     "metadata": {},
     "output_type": "execute_result"
    }
   ],
   "execution_count": 32
  },
  {
   "metadata": {
    "ExecuteTime": {
     "end_time": "2024-12-10T21:28:42.204140Z",
     "start_time": "2024-12-10T21:28:42.200140Z"
    }
   },
   "cell_type": "code",
   "source": "print(len(raw_data))",
   "id": "1bb9b3ab4deb3658",
   "outputs": [
    {
     "name": "stdout",
     "output_type": "stream",
     "text": [
      "9471\n"
     ]
    }
   ],
   "execution_count": 33
  },
  {
   "metadata": {
    "ExecuteTime": {
     "end_time": "2024-12-10T21:28:42.417151Z",
     "start_time": "2024-12-10T21:28:42.413150Z"
    }
   },
   "cell_type": "code",
   "source": "print(len(trimmed_data))",
   "id": "98e267480cd1ff7b",
   "outputs": [
    {
     "name": "stdout",
     "output_type": "stream",
     "text": [
      "4825\n"
     ]
    }
   ],
   "execution_count": 34
  },
  {
   "metadata": {
    "ExecuteTime": {
     "end_time": "2024-12-10T21:28:42.634149Z",
     "start_time": "2024-12-10T21:28:42.627653Z"
    }
   },
   "cell_type": "code",
   "source": "categories = raw_data['category'].value_counts().loc[lambda x: x > 100].index.tolist()",
   "id": "fe3fe8b3d67434a9",
   "outputs": [],
   "execution_count": 35
  },
  {
   "metadata": {
    "ExecuteTime": {
     "end_time": "2024-12-10T21:28:42.740152Z",
     "start_time": "2024-12-10T21:28:42.735151Z"
    }
   },
   "cell_type": "code",
   "source": "selected_data = raw_data[raw_data['category'].isin(categories)]",
   "id": "b6ae692d4e2e24dc",
   "outputs": [],
   "execution_count": 36
  },
  {
   "metadata": {
    "ExecuteTime": {
     "end_time": "2024-12-10T21:28:42.936651Z",
     "start_time": "2024-12-10T21:28:42.783154Z"
    }
   },
   "cell_type": "code",
   "source": "selected_data.to_csv('../data/selected_data.csv', index=False)",
   "id": "7024a17d8893899c",
   "outputs": [],
   "execution_count": 37
  },
  {
   "metadata": {},
   "cell_type": "markdown",
   "source": "## Reduce number of categories by mapping them to general categories",
   "id": "c495e6c9af6ed42a"
  },
  {
   "metadata": {
    "ExecuteTime": {
     "end_time": "2024-12-10T21:30:55.974650Z",
     "start_time": "2024-12-10T21:30:55.967152Z"
    }
   },
   "cell_type": "code",
   "source": "category_map = pd.read_csv('../data/reduced_categories.csv', header=None)",
   "id": "cb30a3610d83d8b0",
   "outputs": [],
   "execution_count": 40
  },
  {
   "metadata": {
    "ExecuteTime": {
     "end_time": "2024-12-10T21:30:57.381634Z",
     "start_time": "2024-12-10T21:30:57.373132Z"
    }
   },
   "cell_type": "code",
   "source": "category_map",
   "id": "fb9e7ed733a112bd",
   "outputs": [
    {
     "data": {
      "text/plain": [
       "                                  0                                        1\n",
       "0                             Prawo                         Polityka i Prawo\n",
       "1                        Wiadomości    Kultura Media i Komunikacja Społeczna\n",
       "2                        Gospodarka                     Gospodarka i Finanse\n",
       "3           Wybory samorządowe 2014                         Polityka i Prawo\n",
       "4                              Kraj                         Polityka i Prawo\n",
       "...                             ...                                      ...\n",
       "2524  Imigracja w Wielkiej Brytanii  Relacje Międzynarodowe i Bezpieczeństwo\n",
       "2525          Polska służba zdrowia          Społeczeństwo i Sprawy Socjalne\n",
       "2526                 Senat w Polsce                         Polityka i Prawo\n",
       "2527                           Frog                                     Inne\n",
       "2528                            Agh                                     Inne\n",
       "\n",
       "[2529 rows x 2 columns]"
      ],
      "text/html": [
       "<div>\n",
       "<style scoped>\n",
       "    .dataframe tbody tr th:only-of-type {\n",
       "        vertical-align: middle;\n",
       "    }\n",
       "\n",
       "    .dataframe tbody tr th {\n",
       "        vertical-align: top;\n",
       "    }\n",
       "\n",
       "    .dataframe thead th {\n",
       "        text-align: right;\n",
       "    }\n",
       "</style>\n",
       "<table border=\"1\" class=\"dataframe\">\n",
       "  <thead>\n",
       "    <tr style=\"text-align: right;\">\n",
       "      <th></th>\n",
       "      <th>0</th>\n",
       "      <th>1</th>\n",
       "    </tr>\n",
       "  </thead>\n",
       "  <tbody>\n",
       "    <tr>\n",
       "      <th>0</th>\n",
       "      <td>Prawo</td>\n",
       "      <td>Polityka i Prawo</td>\n",
       "    </tr>\n",
       "    <tr>\n",
       "      <th>1</th>\n",
       "      <td>Wiadomości</td>\n",
       "      <td>Kultura Media i Komunikacja Społeczna</td>\n",
       "    </tr>\n",
       "    <tr>\n",
       "      <th>2</th>\n",
       "      <td>Gospodarka</td>\n",
       "      <td>Gospodarka i Finanse</td>\n",
       "    </tr>\n",
       "    <tr>\n",
       "      <th>3</th>\n",
       "      <td>Wybory samorządowe 2014</td>\n",
       "      <td>Polityka i Prawo</td>\n",
       "    </tr>\n",
       "    <tr>\n",
       "      <th>4</th>\n",
       "      <td>Kraj</td>\n",
       "      <td>Polityka i Prawo</td>\n",
       "    </tr>\n",
       "    <tr>\n",
       "      <th>...</th>\n",
       "      <td>...</td>\n",
       "      <td>...</td>\n",
       "    </tr>\n",
       "    <tr>\n",
       "      <th>2524</th>\n",
       "      <td>Imigracja w Wielkiej Brytanii</td>\n",
       "      <td>Relacje Międzynarodowe i Bezpieczeństwo</td>\n",
       "    </tr>\n",
       "    <tr>\n",
       "      <th>2525</th>\n",
       "      <td>Polska służba zdrowia</td>\n",
       "      <td>Społeczeństwo i Sprawy Socjalne</td>\n",
       "    </tr>\n",
       "    <tr>\n",
       "      <th>2526</th>\n",
       "      <td>Senat w Polsce</td>\n",
       "      <td>Polityka i Prawo</td>\n",
       "    </tr>\n",
       "    <tr>\n",
       "      <th>2527</th>\n",
       "      <td>Frog</td>\n",
       "      <td>Inne</td>\n",
       "    </tr>\n",
       "    <tr>\n",
       "      <th>2528</th>\n",
       "      <td>Agh</td>\n",
       "      <td>Inne</td>\n",
       "    </tr>\n",
       "  </tbody>\n",
       "</table>\n",
       "<p>2529 rows × 2 columns</p>\n",
       "</div>"
      ]
     },
     "execution_count": 41,
     "metadata": {},
     "output_type": "execute_result"
    }
   ],
   "execution_count": 41
  },
  {
   "metadata": {
    "ExecuteTime": {
     "end_time": "2024-12-10T21:31:12.041160Z",
     "start_time": "2024-12-10T21:31:12.037158Z"
    }
   },
   "cell_type": "code",
   "source": "print(len(category_map))",
   "id": "25b680d236efe324",
   "outputs": [
    {
     "name": "stdout",
     "output_type": "stream",
     "text": [
      "2529\n"
     ]
    }
   ],
   "execution_count": 42
  },
  {
   "metadata": {
    "ExecuteTime": {
     "end_time": "2024-12-10T21:34:15.107803Z",
     "start_time": "2024-12-10T21:34:15.100801Z"
    }
   },
   "cell_type": "code",
   "source": "reduced_categories = raw_data.copy()",
   "id": "e65b60a0636353f",
   "outputs": [],
   "execution_count": 47
  },
  {
   "metadata": {
    "ExecuteTime": {
     "end_time": "2024-12-10T21:34:16.021155Z",
     "start_time": "2024-12-10T21:34:16.011657Z"
    }
   },
   "cell_type": "code",
   "source": [
    "# Map categories to general categories based on category_map\n",
    "reduced_categories['category'] = raw_data['category'].map(dict(category_map.values))"
   ],
   "id": "462ab1d30f4a2130",
   "outputs": [],
   "execution_count": 48
  },
  {
   "metadata": {
    "ExecuteTime": {
     "end_time": "2024-12-10T21:34:17.360840Z",
     "start_time": "2024-12-10T21:34:17.348341Z"
    }
   },
   "cell_type": "code",
   "source": "reduced_categories",
   "id": "e77df4bc629d2484",
   "outputs": [
    {
     "data": {
      "text/plain": [
       "                                               headline  \\\n",
       "0     Mandat na raty. RPO chce zmian ws. wygaszania ...   \n",
       "1     Domki dla powodzian od Buddy. Zamieszanie wokó...   \n",
       "2     Hanna Gronkiewicz-Waltz objęła mandat europose...   \n",
       "3     Kary dla Hindusa i Dunki. Złamali prawo na Lot...   \n",
       "4     Powodzianie szykują pozew zbiorowy. \"Ma udowod...   \n",
       "...                                                 ...   \n",
       "9468  Publikacja Politico. Kreml: To niestworzone bz...   \n",
       "9469  Rehabilitacji lecznicza. NIK: Coraz gorszy dostęp   \n",
       "9470  Karta Dużej Rodziny. Zobacz gdzie i do czego u...   \n",
       "9471  Referendum ws. likwidacji straży miejskiej nie...   \n",
       "9472     Zwolennicy monarchii rosną w siłę w Portugalii   \n",
       "\n",
       "                                     category  \\\n",
       "0                        Gospodarka i Finanse   \n",
       "1                        Środowisko i Energia   \n",
       "2                            Polityka i Prawo   \n",
       "3                            Polityka i Prawo   \n",
       "4                        Gospodarka i Finanse   \n",
       "...                                       ...   \n",
       "9468  Relacje Międzynarodowe i Bezpieczeństwo   \n",
       "9469          Społeczeństwo i Sprawy Socjalne   \n",
       "9470                         Polityka i Prawo   \n",
       "9471                         Polityka i Prawo   \n",
       "9472  Relacje Międzynarodowe i Bezpieczeństwo   \n",
       "\n",
       "                                                content  \\\n",
       "0     Kierowcy, którzy spłacają mandat na raty, dłuż...   \n",
       "1     Poszkodowana przez powódź pani Ilona z okolic ...   \n",
       "2     Parlament Europejski w poniedziałek przyjął do...   \n",
       "3     Funkcjonariusze Straży Granicznej interweniowa...   \n",
       "4     W Lewinie Brzeskim trwa zbiórka podpisów pod p...   \n",
       "...                                                 ...   \n",
       "9468  - Przede wszystkim słabo znamy twórczość tego ...   \n",
       "9469  Na zabiegi czeka coraz więcej osób, kurczy zaś...   \n",
       "9470                                  Content not found   \n",
       "9471  Wniosek zawierał błędy - stwierdziła komisja w...   \n",
       "9472  Poszerzaniu ich grona towarzyszy tworzenie org...   \n",
       "\n",
       "                                                    url  \n",
       "0     https://www.money.pl/gospodarka/mandat-na-raty...  \n",
       "1     https://www.money.pl/gospodarka/domki-dla-powo...  \n",
       "2     https://www.money.pl/gospodarka/hanna-gronkiew...  \n",
       "3     https://www.money.pl/gospodarka/kary-dla-hindu...  \n",
       "4     https://www.money.pl/gospodarka/powodzianie-sz...  \n",
       "...                                                 ...  \n",
       "9468  https://prawo.money.pl/aktualnosci/wiadomosci/...  \n",
       "9469  https://prawo.money.pl/aktualnosci/wiadomosci/...  \n",
       "9470  http://e-prawnik.pl/wiadomosci/informacje/kart...  \n",
       "9471  https://prawo.money.pl/aktualnosci/wiadomosci/...  \n",
       "9472  https://prawo.money.pl/aktualnosci/wiadomosci/...  \n",
       "\n",
       "[9471 rows x 4 columns]"
      ],
      "text/html": [
       "<div>\n",
       "<style scoped>\n",
       "    .dataframe tbody tr th:only-of-type {\n",
       "        vertical-align: middle;\n",
       "    }\n",
       "\n",
       "    .dataframe tbody tr th {\n",
       "        vertical-align: top;\n",
       "    }\n",
       "\n",
       "    .dataframe thead th {\n",
       "        text-align: right;\n",
       "    }\n",
       "</style>\n",
       "<table border=\"1\" class=\"dataframe\">\n",
       "  <thead>\n",
       "    <tr style=\"text-align: right;\">\n",
       "      <th></th>\n",
       "      <th>headline</th>\n",
       "      <th>category</th>\n",
       "      <th>content</th>\n",
       "      <th>url</th>\n",
       "    </tr>\n",
       "  </thead>\n",
       "  <tbody>\n",
       "    <tr>\n",
       "      <th>0</th>\n",
       "      <td>Mandat na raty. RPO chce zmian ws. wygaszania ...</td>\n",
       "      <td>Gospodarka i Finanse</td>\n",
       "      <td>Kierowcy, którzy spłacają mandat na raty, dłuż...</td>\n",
       "      <td>https://www.money.pl/gospodarka/mandat-na-raty...</td>\n",
       "    </tr>\n",
       "    <tr>\n",
       "      <th>1</th>\n",
       "      <td>Domki dla powodzian od Buddy. Zamieszanie wokó...</td>\n",
       "      <td>Środowisko i Energia</td>\n",
       "      <td>Poszkodowana przez powódź pani Ilona z okolic ...</td>\n",
       "      <td>https://www.money.pl/gospodarka/domki-dla-powo...</td>\n",
       "    </tr>\n",
       "    <tr>\n",
       "      <th>2</th>\n",
       "      <td>Hanna Gronkiewicz-Waltz objęła mandat europose...</td>\n",
       "      <td>Polityka i Prawo</td>\n",
       "      <td>Parlament Europejski w poniedziałek przyjął do...</td>\n",
       "      <td>https://www.money.pl/gospodarka/hanna-gronkiew...</td>\n",
       "    </tr>\n",
       "    <tr>\n",
       "      <th>3</th>\n",
       "      <td>Kary dla Hindusa i Dunki. Złamali prawo na Lot...</td>\n",
       "      <td>Polityka i Prawo</td>\n",
       "      <td>Funkcjonariusze Straży Granicznej interweniowa...</td>\n",
       "      <td>https://www.money.pl/gospodarka/kary-dla-hindu...</td>\n",
       "    </tr>\n",
       "    <tr>\n",
       "      <th>4</th>\n",
       "      <td>Powodzianie szykują pozew zbiorowy. \"Ma udowod...</td>\n",
       "      <td>Gospodarka i Finanse</td>\n",
       "      <td>W Lewinie Brzeskim trwa zbiórka podpisów pod p...</td>\n",
       "      <td>https://www.money.pl/gospodarka/powodzianie-sz...</td>\n",
       "    </tr>\n",
       "    <tr>\n",
       "      <th>...</th>\n",
       "      <td>...</td>\n",
       "      <td>...</td>\n",
       "      <td>...</td>\n",
       "      <td>...</td>\n",
       "    </tr>\n",
       "    <tr>\n",
       "      <th>9468</th>\n",
       "      <td>Publikacja Politico. Kreml: To niestworzone bz...</td>\n",
       "      <td>Relacje Międzynarodowe i Bezpieczeństwo</td>\n",
       "      <td>- Przede wszystkim słabo znamy twórczość tego ...</td>\n",
       "      <td>https://prawo.money.pl/aktualnosci/wiadomosci/...</td>\n",
       "    </tr>\n",
       "    <tr>\n",
       "      <th>9469</th>\n",
       "      <td>Rehabilitacji lecznicza. NIK: Coraz gorszy dostęp</td>\n",
       "      <td>Społeczeństwo i Sprawy Socjalne</td>\n",
       "      <td>Na zabiegi czeka coraz więcej osób, kurczy zaś...</td>\n",
       "      <td>https://prawo.money.pl/aktualnosci/wiadomosci/...</td>\n",
       "    </tr>\n",
       "    <tr>\n",
       "      <th>9470</th>\n",
       "      <td>Karta Dużej Rodziny. Zobacz gdzie i do czego u...</td>\n",
       "      <td>Polityka i Prawo</td>\n",
       "      <td>Content not found</td>\n",
       "      <td>http://e-prawnik.pl/wiadomosci/informacje/kart...</td>\n",
       "    </tr>\n",
       "    <tr>\n",
       "      <th>9471</th>\n",
       "      <td>Referendum ws. likwidacji straży miejskiej nie...</td>\n",
       "      <td>Polityka i Prawo</td>\n",
       "      <td>Wniosek zawierał błędy - stwierdziła komisja w...</td>\n",
       "      <td>https://prawo.money.pl/aktualnosci/wiadomosci/...</td>\n",
       "    </tr>\n",
       "    <tr>\n",
       "      <th>9472</th>\n",
       "      <td>Zwolennicy monarchii rosną w siłę w Portugalii</td>\n",
       "      <td>Relacje Międzynarodowe i Bezpieczeństwo</td>\n",
       "      <td>Poszerzaniu ich grona towarzyszy tworzenie org...</td>\n",
       "      <td>https://prawo.money.pl/aktualnosci/wiadomosci/...</td>\n",
       "    </tr>\n",
       "  </tbody>\n",
       "</table>\n",
       "<p>9471 rows × 4 columns</p>\n",
       "</div>"
      ]
     },
     "execution_count": 49,
     "metadata": {},
     "output_type": "execute_result"
    }
   ],
   "execution_count": 49
  },
  {
   "metadata": {
    "ExecuteTime": {
     "end_time": "2024-12-10T21:35:14.370360Z",
     "start_time": "2024-12-10T21:35:14.362859Z"
    }
   },
   "cell_type": "code",
   "source": "reduced_categories['category'].value_counts()",
   "id": "c7deec6989891160",
   "outputs": [
    {
     "data": {
      "text/plain": [
       "category\n",
       "Polityka i Prawo                           3834\n",
       "Relacje Międzynarodowe i Bezpieczeństwo    1826\n",
       "Gospodarka i Finanse                       1567\n",
       "Społeczeństwo i Sprawy Socjalne             855\n",
       "Kultura Media i Komunikacja Społeczna       820\n",
       "Inne                                        197\n",
       "Środowisko i Energia                        158\n",
       "Technologia i Innowacje                      93\n",
       "Name: count, dtype: int64"
      ]
     },
     "execution_count": 51,
     "metadata": {},
     "output_type": "execute_result"
    }
   ],
   "execution_count": 51
  },
  {
   "metadata": {
    "ExecuteTime": {
     "end_time": "2024-12-10T21:34:45.105481Z",
     "start_time": "2024-12-10T21:34:44.646980Z"
    }
   },
   "cell_type": "code",
   "source": "reduced_categories.to_csv('../data/reduced_categories_data.csv', index=False)",
   "id": "9177937195406366",
   "outputs": [],
   "execution_count": 50
  },
  {
   "metadata": {
    "ExecuteTime": {
     "end_time": "2024-12-10T22:33:52.700132Z",
     "start_time": "2024-12-10T22:33:52.682637Z"
    }
   },
   "cell_type": "code",
   "source": "wrongly_classified = pd.read_csv('../data/wrong_classified_logistic_regression.csv')",
   "id": "be963bfefecd3b1d",
   "outputs": [],
   "execution_count": 53
  },
  {
   "metadata": {
    "ExecuteTime": {
     "end_time": "2024-12-10T22:33:55.242850Z",
     "start_time": "2024-12-10T22:33:55.230346Z"
    }
   },
   "cell_type": "code",
   "source": "wrongly_classified",
   "id": "3accb16370bf6ccf",
   "outputs": [
    {
     "data": {
      "text/plain": [
       "                                              headline  \\\n",
       "0    mandat na raty rpo chce zmian ws wygaszania pu...   \n",
       "1    powodzianie szykuja pozew zbiorowy ma udowodni...   \n",
       "2      tak rosja szpiegowala gruzje sa nowe informacje   \n",
       "3    spor o polityke migracyjna lewica nie zgodzi s...   \n",
       "4    jak cinkciarz poszedl do nbp po pieniadze i li...   \n",
       "..                                                 ...   \n",
       "703  koniec z bieganiem od urzedu do urzedu ruszaja...   \n",
       "704  sad najwyzszy zdecydowal zgodzil sie z rpo cho...   \n",
       "705  kupili dom ale sprzedawca sie rozmyslil jest c...   \n",
       "706  od dzis nowy bat na dluznikow zajma ci konto w...   \n",
       "707  uwazajcie wracajac z wakacji przywozicie preze...   \n",
       "\n",
       "                                               content  \\\n",
       "0    kierowcy ktorzy splacaja mandat na raty dluzej...   \n",
       "1    w lewinie brzeskim trwa zbiorka podpisow pod p...   \n",
       "2    rosja przez kilka lat prowadzila szeroko zakro...   \n",
       "3    nie zgodzimy sie na pomysl tymczasowego zawies...   \n",
       "4    grupa conotoxia do ktorej nalezy kantor waluto...   \n",
       "..                                                 ...   \n",
       "703  trwa pierwszy etap budowy cusow na temat rozwo...   \n",
       "704  zakaz zgromadzen powinien zostac wprowadzany w...   \n",
       "705   byla umowa przedwstepna wplacilismy  tys zl z...   \n",
       "706                                  content not found   \n",
       "707  kiedy konieczne jest oplacenie cla jakie owoce...   \n",
       "\n",
       "                            category  true_label  predicted_label  \n",
       "0               gospodarka i finanse           0                3  \n",
       "1               gospodarka i finanse           2                4  \n",
       "2               gospodarka i finanse           4                2  \n",
       "3                   polityka i prawo           4                2  \n",
       "4               gospodarka i finanse           0                3  \n",
       "..                               ...         ...              ...  \n",
       "703             gospodarka i finanse           1                2  \n",
       "704                 polityka i prawo           0                2  \n",
       "705             gospodarka i finanse           4                2  \n",
       "706                 polityka i prawo           1                2  \n",
       "707  spoleczenstwo i sprawy socjalne           0                1  \n",
       "\n",
       "[708 rows x 5 columns]"
      ],
      "text/html": [
       "<div>\n",
       "<style scoped>\n",
       "    .dataframe tbody tr th:only-of-type {\n",
       "        vertical-align: middle;\n",
       "    }\n",
       "\n",
       "    .dataframe tbody tr th {\n",
       "        vertical-align: top;\n",
       "    }\n",
       "\n",
       "    .dataframe thead th {\n",
       "        text-align: right;\n",
       "    }\n",
       "</style>\n",
       "<table border=\"1\" class=\"dataframe\">\n",
       "  <thead>\n",
       "    <tr style=\"text-align: right;\">\n",
       "      <th></th>\n",
       "      <th>headline</th>\n",
       "      <th>content</th>\n",
       "      <th>category</th>\n",
       "      <th>true_label</th>\n",
       "      <th>predicted_label</th>\n",
       "    </tr>\n",
       "  </thead>\n",
       "  <tbody>\n",
       "    <tr>\n",
       "      <th>0</th>\n",
       "      <td>mandat na raty rpo chce zmian ws wygaszania pu...</td>\n",
       "      <td>kierowcy ktorzy splacaja mandat na raty dluzej...</td>\n",
       "      <td>gospodarka i finanse</td>\n",
       "      <td>0</td>\n",
       "      <td>3</td>\n",
       "    </tr>\n",
       "    <tr>\n",
       "      <th>1</th>\n",
       "      <td>powodzianie szykuja pozew zbiorowy ma udowodni...</td>\n",
       "      <td>w lewinie brzeskim trwa zbiorka podpisow pod p...</td>\n",
       "      <td>gospodarka i finanse</td>\n",
       "      <td>2</td>\n",
       "      <td>4</td>\n",
       "    </tr>\n",
       "    <tr>\n",
       "      <th>2</th>\n",
       "      <td>tak rosja szpiegowala gruzje sa nowe informacje</td>\n",
       "      <td>rosja przez kilka lat prowadzila szeroko zakro...</td>\n",
       "      <td>gospodarka i finanse</td>\n",
       "      <td>4</td>\n",
       "      <td>2</td>\n",
       "    </tr>\n",
       "    <tr>\n",
       "      <th>3</th>\n",
       "      <td>spor o polityke migracyjna lewica nie zgodzi s...</td>\n",
       "      <td>nie zgodzimy sie na pomysl tymczasowego zawies...</td>\n",
       "      <td>polityka i prawo</td>\n",
       "      <td>4</td>\n",
       "      <td>2</td>\n",
       "    </tr>\n",
       "    <tr>\n",
       "      <th>4</th>\n",
       "      <td>jak cinkciarz poszedl do nbp po pieniadze i li...</td>\n",
       "      <td>grupa conotoxia do ktorej nalezy kantor waluto...</td>\n",
       "      <td>gospodarka i finanse</td>\n",
       "      <td>0</td>\n",
       "      <td>3</td>\n",
       "    </tr>\n",
       "    <tr>\n",
       "      <th>...</th>\n",
       "      <td>...</td>\n",
       "      <td>...</td>\n",
       "      <td>...</td>\n",
       "      <td>...</td>\n",
       "      <td>...</td>\n",
       "    </tr>\n",
       "    <tr>\n",
       "      <th>703</th>\n",
       "      <td>koniec z bieganiem od urzedu do urzedu ruszaja...</td>\n",
       "      <td>trwa pierwszy etap budowy cusow na temat rozwo...</td>\n",
       "      <td>gospodarka i finanse</td>\n",
       "      <td>1</td>\n",
       "      <td>2</td>\n",
       "    </tr>\n",
       "    <tr>\n",
       "      <th>704</th>\n",
       "      <td>sad najwyzszy zdecydowal zgodzil sie z rpo cho...</td>\n",
       "      <td>zakaz zgromadzen powinien zostac wprowadzany w...</td>\n",
       "      <td>polityka i prawo</td>\n",
       "      <td>0</td>\n",
       "      <td>2</td>\n",
       "    </tr>\n",
       "    <tr>\n",
       "      <th>705</th>\n",
       "      <td>kupili dom ale sprzedawca sie rozmyslil jest c...</td>\n",
       "      <td>byla umowa przedwstepna wplacilismy  tys zl z...</td>\n",
       "      <td>gospodarka i finanse</td>\n",
       "      <td>4</td>\n",
       "      <td>2</td>\n",
       "    </tr>\n",
       "    <tr>\n",
       "      <th>706</th>\n",
       "      <td>od dzis nowy bat na dluznikow zajma ci konto w...</td>\n",
       "      <td>content not found</td>\n",
       "      <td>polityka i prawo</td>\n",
       "      <td>1</td>\n",
       "      <td>2</td>\n",
       "    </tr>\n",
       "    <tr>\n",
       "      <th>707</th>\n",
       "      <td>uwazajcie wracajac z wakacji przywozicie preze...</td>\n",
       "      <td>kiedy konieczne jest oplacenie cla jakie owoce...</td>\n",
       "      <td>spoleczenstwo i sprawy socjalne</td>\n",
       "      <td>0</td>\n",
       "      <td>1</td>\n",
       "    </tr>\n",
       "  </tbody>\n",
       "</table>\n",
       "<p>708 rows × 5 columns</p>\n",
       "</div>"
      ]
     },
     "execution_count": 54,
     "metadata": {},
     "output_type": "execute_result"
    }
   ],
   "execution_count": 54
  },
  {
   "metadata": {
    "ExecuteTime": {
     "end_time": "2024-12-10T23:30:27.524175Z",
     "start_time": "2024-12-10T23:30:27.436176Z"
    }
   },
   "cell_type": "code",
   "source": "cleaned_data = pd.read_csv('../data/cleaned_data.csv')",
   "id": "205e3ef365712c9c",
   "outputs": [],
   "execution_count": 65
  },
  {
   "metadata": {
    "ExecuteTime": {
     "end_time": "2024-12-10T23:30:27.531677Z",
     "start_time": "2024-12-10T23:30:27.528176Z"
    }
   },
   "cell_type": "code",
   "source": [
    "import nltk\n",
    "import ast\n",
    "import matplotlib.pyplot as plt"
   ],
   "id": "8c3f8401071eafa9",
   "outputs": [],
   "execution_count": 66
  },
  {
   "metadata": {
    "ExecuteTime": {
     "end_time": "2024-12-10T23:30:29.924176Z",
     "start_time": "2024-12-10T23:30:27.594677Z"
    }
   },
   "cell_type": "code",
   "source": "cleaned_data['content'] = cleaned_data['content'].apply(lambda x: ast.literal_eval(x) if isinstance(x, str) else x)",
   "id": "d768a417b63bd958",
   "outputs": [],
   "execution_count": 67
  },
  {
   "metadata": {
    "ExecuteTime": {
     "end_time": "2024-12-10T23:30:30.698676Z",
     "start_time": "2024-12-10T23:30:30.025677Z"
    }
   },
   "cell_type": "code",
   "source": [
    "cat1FD = nltk.FreqDist(word for text in cleaned_data[cleaned_data['category'] == 'gospodarka i finanse']['content'] for word in text)\n",
    "\n",
    "cat2FD = nltk.FreqDist(word for text in cleaned_data[cleaned_data['category'] == 'polityka i prawo']['content'] for word in text)\n",
    "\n",
    "cat3FD = nltk.FreqDist(word for text in cleaned_data[cleaned_data['category'] == 'relacje miedzynarodowe i bezpieczenstwo']['content'] for word in text)"
   ],
   "id": "f4bf67f000ba6ccf",
   "outputs": [],
   "execution_count": 68
  },
  {
   "metadata": {
    "ExecuteTime": {
     "end_time": "2024-12-10T23:30:31.127176Z",
     "start_time": "2024-12-10T23:30:30.789676Z"
    }
   },
   "cell_type": "code",
   "source": [
    "plt.subplots(figsize=(8,6))\n",
    "plt.title(\"gospodarka i finanse\")\n",
    "cat1FD.plot(50)\n",
    "plt.show()"
   ],
   "id": "e36fa6f9c854af58",
   "outputs": [
    {
     "data": {
      "text/plain": [
       "<Figure size 800x600 with 1 Axes>"
      ],
      "image/png": "[encoded data removed]"
     },
     "metadata": {},
     "output_type": "display_data"
    }
   ],
   "execution_count": 69
  },
  {
   "metadata": {
    "ExecuteTime": {
     "end_time": "2024-12-10T23:30:31.536180Z",
     "start_time": "2024-12-10T23:30:31.223676Z"
    }
   },
   "cell_type": "code",
   "source": [
    "plt.subplots(figsize=(8,6))\n",
    "plt.title(\"polityka i prawo\")\n",
    "cat2FD.plot(50)\n",
    "plt.show()"
   ],
   "id": "d0c0e7b3112588aa",
   "outputs": [
    {
     "data": {
      "text/plain": [
       "<Figure size 800x600 with 1 Axes>"
      ],
      "image/png": "[encoded data removed]"
     },
     "metadata": {},
     "output_type": "display_data"
    }
   ],
   "execution_count": 70
  },
  {
   "metadata": {
    "ExecuteTime": {
     "end_time": "2024-12-10T23:30:32.037176Z",
     "start_time": "2024-12-10T23:30:31.589677Z"
    }
   },
   "cell_type": "code",
   "source": [
    "plt.subplots(figsize=(8,6))\n",
    "plt.title(\"relacje miedzynarodowe i bezpieczenstwo\")\n",
    "cat3FD.plot(50)\n",
    "plt.show()"
   ],
   "id": "e6f11ea492c6e075",
   "outputs": [
    {
     "data": {
      "text/plain": [
       "<Figure size 800x600 with 1 Axes>"
      ],
      "image/png": "[encoded data removed]"
     },
     "metadata": {},
     "output_type": "display_data"
    }
   ],
   "execution_count": 71
  }
 ],
 "metadata": {
  "kernelspec": {
   "display_name": "Python 3",
   "language": "python",
   "name": "python3"
  },
  "language_info": {
   "codemirror_mode": {
    "name": "ipython",
    "version": 2
   },
   "file_extension": ".py",
   "mimetype": "text/x-python",
   "name": "python",
   "nbconvert_exporter": "python",
   "pygments_lexer": "ipython2",
   "version": "2.7.6"
  }
 },
 "nbformat": 4,
 "nbformat_minor": 5
}
