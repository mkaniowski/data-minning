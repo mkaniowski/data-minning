{
 "cells": [
  {
   "cell_type": "code",
   "id": "initial_id",
   "metadata": {
    "collapsed": true,
    "ExecuteTime": {
     "end_time": "2024-11-05T22:40:10.955129Z",
     "start_time": "2024-11-05T22:40:10.300126Z"
    }
   },
   "source": "import pandas as pd",
   "outputs": [],
   "execution_count": 1
  },
  {
   "metadata": {
    "ExecuteTime": {
     "end_time": "2024-11-05T22:40:50.425275Z",
     "start_time": "2024-11-05T22:40:50.172776Z"
    }
   },
   "cell_type": "code",
   "source": "raw_data = pd.read_csv('../data/moneypl_content_2.csv')",
   "id": "8807e98e831a3355",
   "outputs": [],
   "execution_count": 2
  },
  {
   "metadata": {
    "ExecuteTime": {
     "end_time": "2024-11-05T22:40:59.332464Z",
     "start_time": "2024-11-05T22:40:59.319461Z"
    }
   },
   "cell_type": "code",
   "source": "raw_data.head()",
   "id": "31c0a7e1c8f46bde",
   "outputs": [
    {
     "data": {
      "text/plain": [
       "                                            headline    category  \\\n",
       "0  Mandat na raty. RPO chce zmian ws. wygaszania ...     Finanse   \n",
       "1  Domki dla powodzian od Buddy. Zamieszanie wokó...      Powódź   \n",
       "2  Hanna Gronkiewicz-Waltz objęła mandat europose...       Prawo   \n",
       "3  Kary dla Hindusa i Dunki. Złamali prawo na Lot...       Prawo   \n",
       "4  Powodzianie szykują pozew zbiorowy. \"Ma udowod...  Gospodarka   \n",
       "\n",
       "                                             content  \\\n",
       "0  Kierowcy, którzy spłacają mandat na raty, dłuż...   \n",
       "1  Poszkodowana przez powódź pani Ilona z okolic ...   \n",
       "2  Parlament Europejski w poniedziałek przyjął do...   \n",
       "3  Funkcjonariusze Straży Granicznej interweniowa...   \n",
       "4  W Lewinie Brzeskim trwa zbiórka podpisów pod p...   \n",
       "\n",
       "                                                 url  \n",
       "0  https://www.money.pl/gospodarka/mandat-na-raty...  \n",
       "1  https://www.money.pl/gospodarka/domki-dla-powo...  \n",
       "2  https://www.money.pl/gospodarka/hanna-gronkiew...  \n",
       "3  https://www.money.pl/gospodarka/kary-dla-hindu...  \n",
       "4  https://www.money.pl/gospodarka/powodzianie-sz...  "
      ],
      "text/html": [
       "<div>\n",
       "<style scoped>\n",
       "    .dataframe tbody tr th:only-of-type {\n",
       "        vertical-align: middle;\n",
       "    }\n",
       "\n",
       "    .dataframe tbody tr th {\n",
       "        vertical-align: top;\n",
       "    }\n",
       "\n",
       "    .dataframe thead th {\n",
       "        text-align: right;\n",
       "    }\n",
       "</style>\n",
       "<table border=\"1\" class=\"dataframe\">\n",
       "  <thead>\n",
       "    <tr style=\"text-align: right;\">\n",
       "      <th></th>\n",
       "      <th>headline</th>\n",
       "      <th>category</th>\n",
       "      <th>content</th>\n",
       "      <th>url</th>\n",
       "    </tr>\n",
       "  </thead>\n",
       "  <tbody>\n",
       "    <tr>\n",
       "      <th>0</th>\n",
       "      <td>Mandat na raty. RPO chce zmian ws. wygaszania ...</td>\n",
       "      <td>Finanse</td>\n",
       "      <td>Kierowcy, którzy spłacają mandat na raty, dłuż...</td>\n",
       "      <td>https://www.money.pl/gospodarka/mandat-na-raty...</td>\n",
       "    </tr>\n",
       "    <tr>\n",
       "      <th>1</th>\n",
       "      <td>Domki dla powodzian od Buddy. Zamieszanie wokó...</td>\n",
       "      <td>Powódź</td>\n",
       "      <td>Poszkodowana przez powódź pani Ilona z okolic ...</td>\n",
       "      <td>https://www.money.pl/gospodarka/domki-dla-powo...</td>\n",
       "    </tr>\n",
       "    <tr>\n",
       "      <th>2</th>\n",
       "      <td>Hanna Gronkiewicz-Waltz objęła mandat europose...</td>\n",
       "      <td>Prawo</td>\n",
       "      <td>Parlament Europejski w poniedziałek przyjął do...</td>\n",
       "      <td>https://www.money.pl/gospodarka/hanna-gronkiew...</td>\n",
       "    </tr>\n",
       "    <tr>\n",
       "      <th>3</th>\n",
       "      <td>Kary dla Hindusa i Dunki. Złamali prawo na Lot...</td>\n",
       "      <td>Prawo</td>\n",
       "      <td>Funkcjonariusze Straży Granicznej interweniowa...</td>\n",
       "      <td>https://www.money.pl/gospodarka/kary-dla-hindu...</td>\n",
       "    </tr>\n",
       "    <tr>\n",
       "      <th>4</th>\n",
       "      <td>Powodzianie szykują pozew zbiorowy. \"Ma udowod...</td>\n",
       "      <td>Gospodarka</td>\n",
       "      <td>W Lewinie Brzeskim trwa zbiórka podpisów pod p...</td>\n",
       "      <td>https://www.money.pl/gospodarka/powodzianie-sz...</td>\n",
       "    </tr>\n",
       "  </tbody>\n",
       "</table>\n",
       "</div>"
      ]
     },
     "execution_count": 3,
     "metadata": {},
     "output_type": "execute_result"
    }
   ],
   "execution_count": 3
  },
  {
   "metadata": {
    "ExecuteTime": {
     "end_time": "2024-11-05T22:41:14.789459Z",
     "start_time": "2024-11-05T22:41:14.777461Z"
    }
   },
   "cell_type": "code",
   "source": "raw_data.info()",
   "id": "7210537178915e33",
   "outputs": [
    {
     "name": "stdout",
     "output_type": "stream",
     "text": [
      "<class 'pandas.core.frame.DataFrame'>\n",
      "RangeIndex: 9473 entries, 0 to 9472\n",
      "Data columns (total 4 columns):\n",
      " #   Column    Non-Null Count  Dtype \n",
      "---  ------    --------------  ----- \n",
      " 0   headline  9473 non-null   object\n",
      " 1   category  9473 non-null   object\n",
      " 2   content   9471 non-null   object\n",
      " 3   url       9473 non-null   object\n",
      "dtypes: object(4)\n",
      "memory usage: 296.2+ KB\n"
     ]
    }
   ],
   "execution_count": 4
  },
  {
   "metadata": {
    "ExecuteTime": {
     "end_time": "2024-11-05T22:41:36.399458Z",
     "start_time": "2024-11-05T22:41:36.390458Z"
    }
   },
   "cell_type": "code",
   "source": "raw_data.isna().sum()",
   "id": "3832b274c124acb4",
   "outputs": [
    {
     "data": {
      "text/plain": [
       "headline    0\n",
       "category    0\n",
       "content     2\n",
       "url         0\n",
       "dtype: int64"
      ]
     },
     "execution_count": 5,
     "metadata": {},
     "output_type": "execute_result"
    }
   ],
   "execution_count": 5
  },
  {
   "metadata": {
    "ExecuteTime": {
     "end_time": "2024-11-05T22:42:39.340445Z",
     "start_time": "2024-11-05T22:42:39.332443Z"
    }
   },
   "cell_type": "code",
   "source": "raw_data.dropna(inplace=True)",
   "id": "25b077ac116ef151",
   "outputs": [],
   "execution_count": 6
  },
  {
   "metadata": {
    "ExecuteTime": {
     "end_time": "2024-11-05T22:43:02.589308Z",
     "start_time": "2024-11-05T22:43:02.578305Z"
    }
   },
   "cell_type": "code",
   "source": "raw_data",
   "id": "921e3db1c95bc0b9",
   "outputs": [
    {
     "data": {
      "text/plain": [
       "                                               headline          category  \\\n",
       "0     Mandat na raty. RPO chce zmian ws. wygaszania ...           Finanse   \n",
       "1     Domki dla powodzian od Buddy. Zamieszanie wokó...            Powódź   \n",
       "2     Hanna Gronkiewicz-Waltz objęła mandat europose...             Prawo   \n",
       "3     Kary dla Hindusa i Dunki. Złamali prawo na Lot...             Prawo   \n",
       "4     Powodzianie szykują pozew zbiorowy. \"Ma udowod...        Gospodarka   \n",
       "...                                                 ...               ...   \n",
       "9468  Publikacja Politico. Kreml: To niestworzone bz...  Wojna w Ukrainie   \n",
       "9469  Rehabilitacji lecznicza. NIK: Coraz gorszy dostęp               Nfz   \n",
       "9470  Karta Dużej Rodziny. Zobacz gdzie i do czego u...             Prawo   \n",
       "9471  Referendum ws. likwidacji straży miejskiej nie...     Straż miejska   \n",
       "9472     Zwolennicy monarchii rosną w siłę w Portugalii        Portugalia   \n",
       "\n",
       "                                                content  \\\n",
       "0     Kierowcy, którzy spłacają mandat na raty, dłuż...   \n",
       "1     Poszkodowana przez powódź pani Ilona z okolic ...   \n",
       "2     Parlament Europejski w poniedziałek przyjął do...   \n",
       "3     Funkcjonariusze Straży Granicznej interweniowa...   \n",
       "4     W Lewinie Brzeskim trwa zbiórka podpisów pod p...   \n",
       "...                                                 ...   \n",
       "9468  - Przede wszystkim słabo znamy twórczość tego ...   \n",
       "9469  Na zabiegi czeka coraz więcej osób, kurczy zaś...   \n",
       "9470                                  Content not found   \n",
       "9471  Wniosek zawierał błędy - stwierdziła komisja w...   \n",
       "9472  Poszerzaniu ich grona towarzyszy tworzenie org...   \n",
       "\n",
       "                                                    url  \n",
       "0     https://www.money.pl/gospodarka/mandat-na-raty...  \n",
       "1     https://www.money.pl/gospodarka/domki-dla-powo...  \n",
       "2     https://www.money.pl/gospodarka/hanna-gronkiew...  \n",
       "3     https://www.money.pl/gospodarka/kary-dla-hindu...  \n",
       "4     https://www.money.pl/gospodarka/powodzianie-sz...  \n",
       "...                                                 ...  \n",
       "9468  https://prawo.money.pl/aktualnosci/wiadomosci/...  \n",
       "9469  https://prawo.money.pl/aktualnosci/wiadomosci/...  \n",
       "9470  http://e-prawnik.pl/wiadomosci/informacje/kart...  \n",
       "9471  https://prawo.money.pl/aktualnosci/wiadomosci/...  \n",
       "9472  https://prawo.money.pl/aktualnosci/wiadomosci/...  \n",
       "\n",
       "[9471 rows x 4 columns]"
      ],
      "text/html": [
       "<div>\n",
       "<style scoped>\n",
       "    .dataframe tbody tr th:only-of-type {\n",
       "        vertical-align: middle;\n",
       "    }\n",
       "\n",
       "    .dataframe tbody tr th {\n",
       "        vertical-align: top;\n",
       "    }\n",
       "\n",
       "    .dataframe thead th {\n",
       "        text-align: right;\n",
       "    }\n",
       "</style>\n",
       "<table border=\"1\" class=\"dataframe\">\n",
       "  <thead>\n",
       "    <tr style=\"text-align: right;\">\n",
       "      <th></th>\n",
       "      <th>headline</th>\n",
       "      <th>category</th>\n",
       "      <th>content</th>\n",
       "      <th>url</th>\n",
       "    </tr>\n",
       "  </thead>\n",
       "  <tbody>\n",
       "    <tr>\n",
       "      <th>0</th>\n",
       "      <td>Mandat na raty. RPO chce zmian ws. wygaszania ...</td>\n",
       "      <td>Finanse</td>\n",
       "      <td>Kierowcy, którzy spłacają mandat na raty, dłuż...</td>\n",
       "      <td>https://www.money.pl/gospodarka/mandat-na-raty...</td>\n",
       "    </tr>\n",
       "    <tr>\n",
       "      <th>1</th>\n",
       "      <td>Domki dla powodzian od Buddy. Zamieszanie wokó...</td>\n",
       "      <td>Powódź</td>\n",
       "      <td>Poszkodowana przez powódź pani Ilona z okolic ...</td>\n",
       "      <td>https://www.money.pl/gospodarka/domki-dla-powo...</td>\n",
       "    </tr>\n",
       "    <tr>\n",
       "      <th>2</th>\n",
       "      <td>Hanna Gronkiewicz-Waltz objęła mandat europose...</td>\n",
       "      <td>Prawo</td>\n",
       "      <td>Parlament Europejski w poniedziałek przyjął do...</td>\n",
       "      <td>https://www.money.pl/gospodarka/hanna-gronkiew...</td>\n",
       "    </tr>\n",
       "    <tr>\n",
       "      <th>3</th>\n",
       "      <td>Kary dla Hindusa i Dunki. Złamali prawo na Lot...</td>\n",
       "      <td>Prawo</td>\n",
       "      <td>Funkcjonariusze Straży Granicznej interweniowa...</td>\n",
       "      <td>https://www.money.pl/gospodarka/kary-dla-hindu...</td>\n",
       "    </tr>\n",
       "    <tr>\n",
       "      <th>4</th>\n",
       "      <td>Powodzianie szykują pozew zbiorowy. \"Ma udowod...</td>\n",
       "      <td>Gospodarka</td>\n",
       "      <td>W Lewinie Brzeskim trwa zbiórka podpisów pod p...</td>\n",
       "      <td>https://www.money.pl/gospodarka/powodzianie-sz...</td>\n",
       "    </tr>\n",
       "    <tr>\n",
       "      <th>...</th>\n",
       "      <td>...</td>\n",
       "      <td>...</td>\n",
       "      <td>...</td>\n",
       "      <td>...</td>\n",
       "    </tr>\n",
       "    <tr>\n",
       "      <th>9468</th>\n",
       "      <td>Publikacja Politico. Kreml: To niestworzone bz...</td>\n",
       "      <td>Wojna w Ukrainie</td>\n",
       "      <td>- Przede wszystkim słabo znamy twórczość tego ...</td>\n",
       "      <td>https://prawo.money.pl/aktualnosci/wiadomosci/...</td>\n",
       "    </tr>\n",
       "    <tr>\n",
       "      <th>9469</th>\n",
       "      <td>Rehabilitacji lecznicza. NIK: Coraz gorszy dostęp</td>\n",
       "      <td>Nfz</td>\n",
       "      <td>Na zabiegi czeka coraz więcej osób, kurczy zaś...</td>\n",
       "      <td>https://prawo.money.pl/aktualnosci/wiadomosci/...</td>\n",
       "    </tr>\n",
       "    <tr>\n",
       "      <th>9470</th>\n",
       "      <td>Karta Dużej Rodziny. Zobacz gdzie i do czego u...</td>\n",
       "      <td>Prawo</td>\n",
       "      <td>Content not found</td>\n",
       "      <td>http://e-prawnik.pl/wiadomosci/informacje/kart...</td>\n",
       "    </tr>\n",
       "    <tr>\n",
       "      <th>9471</th>\n",
       "      <td>Referendum ws. likwidacji straży miejskiej nie...</td>\n",
       "      <td>Straż miejska</td>\n",
       "      <td>Wniosek zawierał błędy - stwierdziła komisja w...</td>\n",
       "      <td>https://prawo.money.pl/aktualnosci/wiadomosci/...</td>\n",
       "    </tr>\n",
       "    <tr>\n",
       "      <th>9472</th>\n",
       "      <td>Zwolennicy monarchii rosną w siłę w Portugalii</td>\n",
       "      <td>Portugalia</td>\n",
       "      <td>Poszerzaniu ich grona towarzyszy tworzenie org...</td>\n",
       "      <td>https://prawo.money.pl/aktualnosci/wiadomosci/...</td>\n",
       "    </tr>\n",
       "  </tbody>\n",
       "</table>\n",
       "<p>9471 rows × 4 columns</p>\n",
       "</div>"
      ]
     },
     "execution_count": 7,
     "metadata": {},
     "output_type": "execute_result"
    }
   ],
   "execution_count": 7
  },
  {
   "metadata": {
    "ExecuteTime": {
     "end_time": "2024-11-05T22:43:58.716959Z",
     "start_time": "2024-11-05T22:43:58.708958Z"
    }
   },
   "cell_type": "code",
   "source": "raw_data['category'].value_counts()",
   "id": "242d8b03156caf0a",
   "outputs": [
    {
     "data": {
      "text/plain": [
       "category\n",
       "Prawo                            1511\n",
       "Wiadomości                        651\n",
       "Gospodarka                        320\n",
       "Wybory samorządowe 2014           235\n",
       "Kraj                              207\n",
       "                                 ... \n",
       "Imigracja w wielkiej brytanii       1\n",
       "Polska służba zdrowia               1\n",
       "Senat w polsce                      1\n",
       "Frog                                1\n",
       "Agh                                 1\n",
       "Name: count, Length: 2529, dtype: int64"
      ]
     },
     "execution_count": 9,
     "metadata": {},
     "output_type": "execute_result"
    }
   ],
   "execution_count": 9
  },
  {
   "metadata": {
    "ExecuteTime": {
     "end_time": "2024-11-05T22:47:26.191433Z",
     "start_time": "2024-11-05T22:47:26.184930Z"
    }
   },
   "cell_type": "code",
   "source": "raw_data['category'].nunique()",
   "id": "2bc8a7560da68bde",
   "outputs": [
    {
     "data": {
      "text/plain": [
       "2529"
      ]
     },
     "execution_count": 13,
     "metadata": {},
     "output_type": "execute_result"
    }
   ],
   "execution_count": 13
  },
  {
   "metadata": {
    "ExecuteTime": {
     "end_time": "2024-11-05T22:49:26.360234Z",
     "start_time": "2024-11-05T22:49:26.352736Z"
    }
   },
   "cell_type": "code",
   "source": "raw_data['category'].value_counts().loc[lambda x: x > 100]",
   "id": "c15f7b7ab2401d8f",
   "outputs": [
    {
     "data": {
      "text/plain": [
       "category\n",
       "Prawo                      1511\n",
       "Wiadomości                  651\n",
       "Gospodarka                  320\n",
       "Wybory samorządowe 2014     235\n",
       "Kraj                        207\n",
       "Wojna w Ukrainie            115\n",
       "Name: count, dtype: int64"
      ]
     },
     "execution_count": 20,
     "metadata": {},
     "output_type": "execute_result"
    }
   ],
   "execution_count": 20
  },
  {
   "metadata": {
    "ExecuteTime": {
     "end_time": "2024-11-05T23:01:36.396948Z",
     "start_time": "2024-11-05T23:01:36.388947Z"
    }
   },
   "cell_type": "code",
   "source": "raw_data['category'].value_counts().loc[lambda x: x > 100].count()",
   "id": "9f53011f2d3a0205",
   "outputs": [
    {
     "data": {
      "text/plain": [
       "np.int64(6)"
      ]
     },
     "execution_count": 26,
     "metadata": {},
     "output_type": "execute_result"
    }
   ],
   "execution_count": 26
  },
  {
   "metadata": {
    "ExecuteTime": {
     "end_time": "2024-11-05T23:01:35.495948Z",
     "start_time": "2024-11-05T23:01:35.490448Z"
    }
   },
   "cell_type": "code",
   "source": "categories = raw_data['category'].value_counts().loc[lambda x: x > 100].index.tolist()",
   "id": "64e2d66c0d7a45ff",
   "outputs": [],
   "execution_count": 25
  },
  {
   "metadata": {
    "ExecuteTime": {
     "end_time": "2024-11-05T23:02:03.144932Z",
     "start_time": "2024-11-05T23:02:03.139923Z"
    }
   },
   "cell_type": "code",
   "source": "selected_data = raw_data[raw_data['category'].isin(categories)]",
   "id": "b6ae692d4e2e24dc",
   "outputs": [],
   "execution_count": 27
  },
  {
   "metadata": {
    "ExecuteTime": {
     "end_time": "2024-11-05T23:02:42.514962Z",
     "start_time": "2024-11-05T23:02:42.331957Z"
    }
   },
   "cell_type": "code",
   "source": "selected_data.to_csv('../data/selected_data.csv', index=False)",
   "id": "7024a17d8893899c",
   "outputs": [],
   "execution_count": 28
  }
 ],
 "metadata": {
  "kernelspec": {
   "display_name": "Python 3",
   "language": "python",
   "name": "python3"
  },
  "language_info": {
   "codemirror_mode": {
    "name": "ipython",
    "version": 2
   },
   "file_extension": ".py",
   "mimetype": "text/x-python",
   "name": "python",
   "nbconvert_exporter": "python",
   "pygments_lexer": "ipython2",
   "version": "2.7.6"
  }
 },
 "nbformat": 4,
 "nbformat_minor": 5
}
