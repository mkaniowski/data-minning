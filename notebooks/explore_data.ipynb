{
 "cells": [
  {
   "cell_type": "code",
   "id": "initial_id",
   "metadata": {
    "collapsed": true,
    "ExecuteTime": {
     "end_time": "2024-12-04T11:49:57.731951Z",
     "start_time": "2024-12-04T11:49:57.727062Z"
    }
   },
   "source": "import pandas as pd",
   "outputs": [],
   "execution_count": 27
  },
  {
   "metadata": {
    "ExecuteTime": {
     "end_time": "2024-12-04T11:49:58.034715Z",
     "start_time": "2024-12-04T11:49:57.772069Z"
    }
   },
   "cell_type": "code",
   "source": "raw_data = pd.read_csv('../data/moneypl_content_2.csv')",
   "id": "8807e98e831a3355",
   "outputs": [],
   "execution_count": 28
  },
  {
   "metadata": {
    "ExecuteTime": {
     "end_time": "2024-12-04T11:49:58.064061Z",
     "start_time": "2024-12-04T11:49:58.053365Z"
    }
   },
   "cell_type": "code",
   "source": "raw_data.head()",
   "id": "31c0a7e1c8f46bde",
   "outputs": [
    {
     "data": {
      "text/plain": [
       "                                            headline    category  \\\n",
       "0  Mandat na raty. RPO chce zmian ws. wygaszania ...     Finanse   \n",
       "1  Domki dla powodzian od Buddy. Zamieszanie wokó...      Powódź   \n",
       "2  Hanna Gronkiewicz-Waltz objęła mandat europose...       Prawo   \n",
       "3  Kary dla Hindusa i Dunki. Złamali prawo na Lot...       Prawo   \n",
       "4  Powodzianie szykują pozew zbiorowy. \"Ma udowod...  Gospodarka   \n",
       "\n",
       "                                             content  \\\n",
       "0  Kierowcy, którzy spłacają mandat na raty, dłuż...   \n",
       "1  Poszkodowana przez powódź pani Ilona z okolic ...   \n",
       "2  Parlament Europejski w poniedziałek przyjął do...   \n",
       "3  Funkcjonariusze Straży Granicznej interweniowa...   \n",
       "4  W Lewinie Brzeskim trwa zbiórka podpisów pod p...   \n",
       "\n",
       "                                                 url  \n",
       "0  https://www.money.pl/gospodarka/mandat-na-raty...  \n",
       "1  https://www.money.pl/gospodarka/domki-dla-powo...  \n",
       "2  https://www.money.pl/gospodarka/hanna-gronkiew...  \n",
       "3  https://www.money.pl/gospodarka/kary-dla-hindu...  \n",
       "4  https://www.money.pl/gospodarka/powodzianie-sz...  "
      ],
      "text/html": [
       "<div>\n",
       "<style scoped>\n",
       "    .dataframe tbody tr th:only-of-type {\n",
       "        vertical-align: middle;\n",
       "    }\n",
       "\n",
       "    .dataframe tbody tr th {\n",
       "        vertical-align: top;\n",
       "    }\n",
       "\n",
       "    .dataframe thead th {\n",
       "        text-align: right;\n",
       "    }\n",
       "</style>\n",
       "<table border=\"1\" class=\"dataframe\">\n",
       "  <thead>\n",
       "    <tr style=\"text-align: right;\">\n",
       "      <th></th>\n",
       "      <th>headline</th>\n",
       "      <th>category</th>\n",
       "      <th>content</th>\n",
       "      <th>url</th>\n",
       "    </tr>\n",
       "  </thead>\n",
       "  <tbody>\n",
       "    <tr>\n",
       "      <th>0</th>\n",
       "      <td>Mandat na raty. RPO chce zmian ws. wygaszania ...</td>\n",
       "      <td>Finanse</td>\n",
       "      <td>Kierowcy, którzy spłacają mandat na raty, dłuż...</td>\n",
       "      <td>https://www.money.pl/gospodarka/mandat-na-raty...</td>\n",
       "    </tr>\n",
       "    <tr>\n",
       "      <th>1</th>\n",
       "      <td>Domki dla powodzian od Buddy. Zamieszanie wokó...</td>\n",
       "      <td>Powódź</td>\n",
       "      <td>Poszkodowana przez powódź pani Ilona z okolic ...</td>\n",
       "      <td>https://www.money.pl/gospodarka/domki-dla-powo...</td>\n",
       "    </tr>\n",
       "    <tr>\n",
       "      <th>2</th>\n",
       "      <td>Hanna Gronkiewicz-Waltz objęła mandat europose...</td>\n",
       "      <td>Prawo</td>\n",
       "      <td>Parlament Europejski w poniedziałek przyjął do...</td>\n",
       "      <td>https://www.money.pl/gospodarka/hanna-gronkiew...</td>\n",
       "    </tr>\n",
       "    <tr>\n",
       "      <th>3</th>\n",
       "      <td>Kary dla Hindusa i Dunki. Złamali prawo na Lot...</td>\n",
       "      <td>Prawo</td>\n",
       "      <td>Funkcjonariusze Straży Granicznej interweniowa...</td>\n",
       "      <td>https://www.money.pl/gospodarka/kary-dla-hindu...</td>\n",
       "    </tr>\n",
       "    <tr>\n",
       "      <th>4</th>\n",
       "      <td>Powodzianie szykują pozew zbiorowy. \"Ma udowod...</td>\n",
       "      <td>Gospodarka</td>\n",
       "      <td>W Lewinie Brzeskim trwa zbiórka podpisów pod p...</td>\n",
       "      <td>https://www.money.pl/gospodarka/powodzianie-sz...</td>\n",
       "    </tr>\n",
       "  </tbody>\n",
       "</table>\n",
       "</div>"
      ]
     },
     "execution_count": 29,
     "metadata": {},
     "output_type": "execute_result"
    }
   ],
   "execution_count": 29
  },
  {
   "metadata": {
    "ExecuteTime": {
     "end_time": "2024-12-04T11:49:58.148712Z",
     "start_time": "2024-12-04T11:49:58.132129Z"
    }
   },
   "cell_type": "code",
   "source": "raw_data.info()",
   "id": "7210537178915e33",
   "outputs": [
    {
     "name": "stdout",
     "output_type": "stream",
     "text": [
      "<class 'pandas.core.frame.DataFrame'>\n",
      "RangeIndex: 9473 entries, 0 to 9472\n",
      "Data columns (total 4 columns):\n",
      " #   Column    Non-Null Count  Dtype \n",
      "---  ------    --------------  ----- \n",
      " 0   headline  9473 non-null   object\n",
      " 1   category  9473 non-null   object\n",
      " 2   content   9471 non-null   object\n",
      " 3   url       9473 non-null   object\n",
      "dtypes: object(4)\n",
      "memory usage: 296.2+ KB\n"
     ]
    }
   ],
   "execution_count": 30
  },
  {
   "metadata": {
    "ExecuteTime": {
     "end_time": "2024-12-04T11:49:58.292274Z",
     "start_time": "2024-12-04T11:49:58.278730Z"
    }
   },
   "cell_type": "code",
   "source": "raw_data.isna().sum()",
   "id": "3832b274c124acb4",
   "outputs": [
    {
     "data": {
      "text/plain": [
       "headline    0\n",
       "category    0\n",
       "content     2\n",
       "url         0\n",
       "dtype: int64"
      ]
     },
     "execution_count": 31,
     "metadata": {},
     "output_type": "execute_result"
    }
   ],
   "execution_count": 31
  },
  {
   "metadata": {
    "ExecuteTime": {
     "end_time": "2024-12-04T11:49:58.409466Z",
     "start_time": "2024-12-04T11:49:58.396994Z"
    }
   },
   "cell_type": "code",
   "source": "raw_data.dropna(inplace=True)",
   "id": "25b077ac116ef151",
   "outputs": [],
   "execution_count": 32
  },
  {
   "metadata": {
    "ExecuteTime": {
     "end_time": "2024-12-04T11:49:58.534230Z",
     "start_time": "2024-12-04T11:49:58.522534Z"
    }
   },
   "cell_type": "code",
   "source": "raw_data",
   "id": "ab0dd7ae68432674",
   "outputs": [
    {
     "data": {
      "text/plain": [
       "                                               headline          category  \\\n",
       "0     Mandat na raty. RPO chce zmian ws. wygaszania ...           Finanse   \n",
       "1     Domki dla powodzian od Buddy. Zamieszanie wokó...            Powódź   \n",
       "2     Hanna Gronkiewicz-Waltz objęła mandat europose...             Prawo   \n",
       "3     Kary dla Hindusa i Dunki. Złamali prawo na Lot...             Prawo   \n",
       "4     Powodzianie szykują pozew zbiorowy. \"Ma udowod...        Gospodarka   \n",
       "...                                                 ...               ...   \n",
       "9468  Publikacja Politico. Kreml: To niestworzone bz...  Wojna w Ukrainie   \n",
       "9469  Rehabilitacji lecznicza. NIK: Coraz gorszy dostęp               Nfz   \n",
       "9470  Karta Dużej Rodziny. Zobacz gdzie i do czego u...             Prawo   \n",
       "9471  Referendum ws. likwidacji straży miejskiej nie...     Straż miejska   \n",
       "9472     Zwolennicy monarchii rosną w siłę w Portugalii        Portugalia   \n",
       "\n",
       "                                                content  \\\n",
       "0     Kierowcy, którzy spłacają mandat na raty, dłuż...   \n",
       "1     Poszkodowana przez powódź pani Ilona z okolic ...   \n",
       "2     Parlament Europejski w poniedziałek przyjął do...   \n",
       "3     Funkcjonariusze Straży Granicznej interweniowa...   \n",
       "4     W Lewinie Brzeskim trwa zbiórka podpisów pod p...   \n",
       "...                                                 ...   \n",
       "9468  - Przede wszystkim słabo znamy twórczość tego ...   \n",
       "9469  Na zabiegi czeka coraz więcej osób, kurczy zaś...   \n",
       "9470                                  Content not found   \n",
       "9471  Wniosek zawierał błędy - stwierdziła komisja w...   \n",
       "9472  Poszerzaniu ich grona towarzyszy tworzenie org...   \n",
       "\n",
       "                                                    url  \n",
       "0     https://www.money.pl/gospodarka/mandat-na-raty...  \n",
       "1     https://www.money.pl/gospodarka/domki-dla-powo...  \n",
       "2     https://www.money.pl/gospodarka/hanna-gronkiew...  \n",
       "3     https://www.money.pl/gospodarka/kary-dla-hindu...  \n",
       "4     https://www.money.pl/gospodarka/powodzianie-sz...  \n",
       "...                                                 ...  \n",
       "9468  https://prawo.money.pl/aktualnosci/wiadomosci/...  \n",
       "9469  https://prawo.money.pl/aktualnosci/wiadomosci/...  \n",
       "9470  http://e-prawnik.pl/wiadomosci/informacje/kart...  \n",
       "9471  https://prawo.money.pl/aktualnosci/wiadomosci/...  \n",
       "9472  https://prawo.money.pl/aktualnosci/wiadomosci/...  \n",
       "\n",
       "[9471 rows x 4 columns]"
      ],
      "text/html": [
       "<div>\n",
       "<style scoped>\n",
       "    .dataframe tbody tr th:only-of-type {\n",
       "        vertical-align: middle;\n",
       "    }\n",
       "\n",
       "    .dataframe tbody tr th {\n",
       "        vertical-align: top;\n",
       "    }\n",
       "\n",
       "    .dataframe thead th {\n",
       "        text-align: right;\n",
       "    }\n",
       "</style>\n",
       "<table border=\"1\" class=\"dataframe\">\n",
       "  <thead>\n",
       "    <tr style=\"text-align: right;\">\n",
       "      <th></th>\n",
       "      <th>headline</th>\n",
       "      <th>category</th>\n",
       "      <th>content</th>\n",
       "      <th>url</th>\n",
       "    </tr>\n",
       "  </thead>\n",
       "  <tbody>\n",
       "    <tr>\n",
       "      <th>0</th>\n",
       "      <td>Mandat na raty. RPO chce zmian ws. wygaszania ...</td>\n",
       "      <td>Finanse</td>\n",
       "      <td>Kierowcy, którzy spłacają mandat na raty, dłuż...</td>\n",
       "      <td>https://www.money.pl/gospodarka/mandat-na-raty...</td>\n",
       "    </tr>\n",
       "    <tr>\n",
       "      <th>1</th>\n",
       "      <td>Domki dla powodzian od Buddy. Zamieszanie wokó...</td>\n",
       "      <td>Powódź</td>\n",
       "      <td>Poszkodowana przez powódź pani Ilona z okolic ...</td>\n",
       "      <td>https://www.money.pl/gospodarka/domki-dla-powo...</td>\n",
       "    </tr>\n",
       "    <tr>\n",
       "      <th>2</th>\n",
       "      <td>Hanna Gronkiewicz-Waltz objęła mandat europose...</td>\n",
       "      <td>Prawo</td>\n",
       "      <td>Parlament Europejski w poniedziałek przyjął do...</td>\n",
       "      <td>https://www.money.pl/gospodarka/hanna-gronkiew...</td>\n",
       "    </tr>\n",
       "    <tr>\n",
       "      <th>3</th>\n",
       "      <td>Kary dla Hindusa i Dunki. Złamali prawo na Lot...</td>\n",
       "      <td>Prawo</td>\n",
       "      <td>Funkcjonariusze Straży Granicznej interweniowa...</td>\n",
       "      <td>https://www.money.pl/gospodarka/kary-dla-hindu...</td>\n",
       "    </tr>\n",
       "    <tr>\n",
       "      <th>4</th>\n",
       "      <td>Powodzianie szykują pozew zbiorowy. \"Ma udowod...</td>\n",
       "      <td>Gospodarka</td>\n",
       "      <td>W Lewinie Brzeskim trwa zbiórka podpisów pod p...</td>\n",
       "      <td>https://www.money.pl/gospodarka/powodzianie-sz...</td>\n",
       "    </tr>\n",
       "    <tr>\n",
       "      <th>...</th>\n",
       "      <td>...</td>\n",
       "      <td>...</td>\n",
       "      <td>...</td>\n",
       "      <td>...</td>\n",
       "    </tr>\n",
       "    <tr>\n",
       "      <th>9468</th>\n",
       "      <td>Publikacja Politico. Kreml: To niestworzone bz...</td>\n",
       "      <td>Wojna w Ukrainie</td>\n",
       "      <td>- Przede wszystkim słabo znamy twórczość tego ...</td>\n",
       "      <td>https://prawo.money.pl/aktualnosci/wiadomosci/...</td>\n",
       "    </tr>\n",
       "    <tr>\n",
       "      <th>9469</th>\n",
       "      <td>Rehabilitacji lecznicza. NIK: Coraz gorszy dostęp</td>\n",
       "      <td>Nfz</td>\n",
       "      <td>Na zabiegi czeka coraz więcej osób, kurczy zaś...</td>\n",
       "      <td>https://prawo.money.pl/aktualnosci/wiadomosci/...</td>\n",
       "    </tr>\n",
       "    <tr>\n",
       "      <th>9470</th>\n",
       "      <td>Karta Dużej Rodziny. Zobacz gdzie i do czego u...</td>\n",
       "      <td>Prawo</td>\n",
       "      <td>Content not found</td>\n",
       "      <td>http://e-prawnik.pl/wiadomosci/informacje/kart...</td>\n",
       "    </tr>\n",
       "    <tr>\n",
       "      <th>9471</th>\n",
       "      <td>Referendum ws. likwidacji straży miejskiej nie...</td>\n",
       "      <td>Straż miejska</td>\n",
       "      <td>Wniosek zawierał błędy - stwierdziła komisja w...</td>\n",
       "      <td>https://prawo.money.pl/aktualnosci/wiadomosci/...</td>\n",
       "    </tr>\n",
       "    <tr>\n",
       "      <th>9472</th>\n",
       "      <td>Zwolennicy monarchii rosną w siłę w Portugalii</td>\n",
       "      <td>Portugalia</td>\n",
       "      <td>Poszerzaniu ich grona towarzyszy tworzenie org...</td>\n",
       "      <td>https://prawo.money.pl/aktualnosci/wiadomosci/...</td>\n",
       "    </tr>\n",
       "  </tbody>\n",
       "</table>\n",
       "<p>9471 rows × 4 columns</p>\n",
       "</div>"
      ]
     },
     "execution_count": 33,
     "metadata": {},
     "output_type": "execute_result"
    }
   ],
   "execution_count": 33
  },
  {
   "metadata": {
    "ExecuteTime": {
     "end_time": "2024-12-04T11:49:58.662123Z",
     "start_time": "2024-12-04T11:49:58.652132Z"
    }
   },
   "cell_type": "code",
   "source": "trimmed_categories = raw_data['category'].value_counts().loc[lambda x: x > 10].index.tolist()",
   "id": "c850c030fcb17ec0",
   "outputs": [],
   "execution_count": 34
  },
  {
   "metadata": {
    "ExecuteTime": {
     "end_time": "2024-12-04T11:49:58.805131Z",
     "start_time": "2024-12-04T11:49:58.798704Z"
    }
   },
   "cell_type": "code",
   "source": "trimmed_categories",
   "id": "37d214db0c6b0d08",
   "outputs": [
    {
     "data": {
      "text/plain": [
       "['Prawo',\n",
       " 'Wiadomości',\n",
       " 'Gospodarka',\n",
       " 'Wybory samorządowe 2014',\n",
       " 'Kraj',\n",
       " 'Wojna w Ukrainie',\n",
       " 'Praca',\n",
       " 'Prawo pracy',\n",
       " 'Podatki',\n",
       " 'Świat',\n",
       " 'Rosja',\n",
       " 'Wybory prezydenckie 2015',\n",
       " 'Handel',\n",
       " 'Finanse',\n",
       " 'Usa',\n",
       " 'Państwo islamskie',\n",
       " 'Amber Gold',\n",
       " 'Wybory samorządowe',\n",
       " 'Policja',\n",
       " 'Ukraina',\n",
       " 'Biznes',\n",
       " 'Sąd',\n",
       " 'Francja',\n",
       " 'Nik',\n",
       " 'Cba',\n",
       " 'Uokik',\n",
       " 'Włochy',\n",
       " 'Nieruchomości',\n",
       " 'Sytuacja na ukrainie',\n",
       " 'Porady',\n",
       " 'Izrael',\n",
       " 'Chiny',\n",
       " 'Konflikt na ukrainie',\n",
       " 'Trybunał konstytucyjny',\n",
       " 'Pkw',\n",
       " 'Niemcy',\n",
       " 'Firma',\n",
       " 'Zus',\n",
       " 'Porady prawne',\n",
       " 'Wybory na ukrainie',\n",
       " 'Polityka',\n",
       " 'Media',\n",
       " 'Kodeks pracy',\n",
       " 'Korea Północna',\n",
       " 'Sejm',\n",
       " 'Mobility',\n",
       " 'Barack Obama',\n",
       " 'Koronawirus',\n",
       " 'Władimir putin',\n",
       " 'Atak na charlie hebdo',\n",
       " 'Skok',\n",
       " 'Baza wiedzy',\n",
       " 'Unia europejska',\n",
       " 'Energetyka',\n",
       " 'Walka z terroryzmem',\n",
       " 'Giełda',\n",
       " 'Wyniki wyborów samorządowych 2014',\n",
       " 'Afganistan',\n",
       " 'Charlie hebdo',\n",
       " 'Białoruś',\n",
       " 'Donald tusk',\n",
       " 'Sądy',\n",
       " 'Jarosław Kaczyński',\n",
       " 'Wybory',\n",
       " 'Roman polański',\n",
       " 'Wojna z państwem islamskim',\n",
       " 'Rodo',\n",
       " 'Pomoc dla ukrainy',\n",
       " 'Zdrowie',\n",
       " 'Bronisław komorowski',\n",
       " 'Kredyty',\n",
       " 'Nfz',\n",
       " 'Przepisy',\n",
       " 'Knf',\n",
       " 'Nato',\n",
       " 'Czechy',\n",
       " 'Korupcja w polsce',\n",
       " 'Prawo spadkowe',\n",
       " 'Walka z dżihadystami',\n",
       " 'Abw',\n",
       " 'Korupcja',\n",
       " 'Wybory na ukrainie 2014',\n",
       " 'Wojna z terroryzmem',\n",
       " 'Prawo jazdy',\n",
       " 'Papież franciszek',\n",
       " 'Orlen',\n",
       " 'Pieniądze',\n",
       " 'Wojna w syrii',\n",
       " 'Hiszpania',\n",
       " 'Prokuratura',\n",
       " 'Andrzej Duda']"
      ]
     },
     "execution_count": 35,
     "metadata": {},
     "output_type": "execute_result"
    }
   ],
   "execution_count": 35
  },
  {
   "metadata": {
    "ExecuteTime": {
     "end_time": "2024-12-04T11:50:00.013930Z",
     "start_time": "2024-12-04T11:50:00.003370Z"
    }
   },
   "cell_type": "code",
   "source": "trimmed_data = raw_data[raw_data['category'].isin(trimmed_categories)]",
   "id": "a590d07bdbf3d8fe",
   "outputs": [],
   "execution_count": 36
  },
  {
   "metadata": {
    "ExecuteTime": {
     "end_time": "2024-12-04T11:50:31.302805Z",
     "start_time": "2024-12-04T11:50:31.290186Z"
    }
   },
   "cell_type": "code",
   "source": [
    "# Mapowanie kategorii\n",
    "category_mapping = {\n",
    "    'Polityka i Rząd': [\n",
    "        'Wybory samorządowe 2014', 'Wybory prezydenckie 2015', 'Wybory',\n",
    "        'Wyniki wyborów samorządowych 2014', 'Pkw', 'Sejm', 'Trybunał konstytucyjny',\n",
    "        'Polityka', 'Donald tusk', 'Bronisław komorowski', 'Jarosław Kaczyński',\n",
    "        'Andrzej Duda', 'Unia europejska', 'Nato', 'Cba', 'Nik', 'Zus',\n",
    "        'Knf', 'Uokik', 'Prawo spadkowe'\n",
    "    ],\n",
    "    'Wojny i Konflikty': [\n",
    "        'Wojna w Ukrainie', 'Konflikt na Ukrainie', 'Sytuacja na Ukrainie',\n",
    "        'Pomoc dla Ukrainy', 'Wybory na Ukrainie', 'Wojna w Syrii',\n",
    "        'Wojna z terroryzmem', 'Walka z terroryzmem', 'Wojna z państwem islamskim',\n",
    "        'Państwo islamskie', 'Walka z dżihadystami', 'Afganistan', 'Rosja',\n",
    "        'Hiszpania', 'Białoruś', 'Izrael', 'Chiny', 'Francja', 'Korea Północna',\n",
    "        'Niemcy', 'Włochy', 'Czechy'\n",
    "    ],\n",
    "    'Ekonomia i Biznes': [\n",
    "        'Gospodarka', 'Biznes', 'Firma', 'Finanse', 'Kredyty', 'Podatki',\n",
    "        'Giełda', 'Amber Gold', 'Handel', 'Nieruchomości', 'Energetyka', 'Orlen'\n",
    "    ],\n",
    "    'Prawo i Sprawiedliwość': [\n",
    "        'Prawo', 'Prawo pracy', 'Kodeks pracy', 'Porady prawne', 'Porady',\n",
    "        'Sąd', 'Sądy', 'Prokuratura', 'Abw', 'Korupcja', 'Korupcja w Polsce'\n",
    "    ],\n",
    "    'Zdrowie i Społeczeństwo': [\n",
    "        'Zdrowie', 'Koronawirus', 'Nfz', 'Praca', 'Mobility', 'Prawo jazdy', 'Skok'\n",
    "    ],\n",
    "    'Świat i Media': [\n",
    "        'Wiadomości', 'Świat', 'Media', 'Barack Obama', 'Władimir Putin',\n",
    "        'Atak na Charlie Hebdo', 'Charlie Hebdo', 'Roman Polański',\n",
    "        'Papież Franciszek', 'Baza wiedzy'\n",
    "    ]\n",
    "}\n",
    "\n",
    "# Odwrócenie mapowania do użycia w .map()\n",
    "reverse_mapping = {category: key for key, values in category_mapping.items() for category in values}\n",
    "\n",
    "# Przypisanie nowych kategorii\n",
    "trimmed_data['general_category'] = trimmed_data['category'].map(reverse_mapping)\n"
   ],
   "id": "455a32daee1710b3",
   "outputs": [
    {
     "name": "stderr",
     "output_type": "stream",
     "text": [
      "C:\\Users\\kanio\\AppData\\Local\\Temp\\ipykernel_21340\\842398672.py:40: SettingWithCopyWarning: \n",
      "A value is trying to be set on a copy of a slice from a DataFrame.\n",
      "Try using .loc[row_indexer,col_indexer] = value instead\n",
      "\n",
      "See the caveats in the documentation: https://pandas.pydata.org/pandas-docs/stable/user_guide/indexing.html#returning-a-view-versus-a-copy\n",
      "  trimmed_data['general_category'] = trimmed_data['category'].map(reverse_mapping)\n"
     ]
    }
   ],
   "execution_count": 38
  },
  {
   "metadata": {
    "ExecuteTime": {
     "end_time": "2024-12-04T11:50:39.013134Z",
     "start_time": "2024-12-04T11:50:39.000517Z"
    }
   },
   "cell_type": "code",
   "source": "trimmed_data",
   "id": "300aecd46b5b9ff2",
   "outputs": [
    {
     "data": {
      "text/plain": [
       "                                               headline  \\\n",
       "0     Mandat na raty. RPO chce zmian ws. wygaszania ...   \n",
       "2     Hanna Gronkiewicz-Waltz objęła mandat europose...   \n",
       "3     Kary dla Hindusa i Dunki. Złamali prawo na Lot...   \n",
       "4     Powodzianie szykują pozew zbiorowy. \"Ma udowod...   \n",
       "5      Tak Rosja szpiegowała Gruzję. Są nowe informacje   \n",
       "...                                                 ...   \n",
       "9462  Wybory samorządowe. 61 proc. Polaków dobrze oc...   \n",
       "9466  \"Polskie obozy koncentracyjne\". Wpadka włoskie...   \n",
       "9468  Publikacja Politico. Kreml: To niestworzone bz...   \n",
       "9469  Rehabilitacji lecznicza. NIK: Coraz gorszy dostęp   \n",
       "9470  Karta Dużej Rodziny. Zobacz gdzie i do czego u...   \n",
       "\n",
       "                     category  \\\n",
       "0                     Finanse   \n",
       "2                       Prawo   \n",
       "3                       Prawo   \n",
       "4                  Gospodarka   \n",
       "5                  Gospodarka   \n",
       "...                       ...   \n",
       "9462  Wybory samorządowe 2014   \n",
       "9466               Wiadomości   \n",
       "9468         Wojna w Ukrainie   \n",
       "9469                      Nfz   \n",
       "9470                    Prawo   \n",
       "\n",
       "                                                content  \\\n",
       "0     Kierowcy, którzy spłacają mandat na raty, dłuż...   \n",
       "2     Parlament Europejski w poniedziałek przyjął do...   \n",
       "3     Funkcjonariusze Straży Granicznej interweniowa...   \n",
       "4     W Lewinie Brzeskim trwa zbiórka podpisów pod p...   \n",
       "5     Rosja przez kilka lat prowadziła szeroko zakro...   \n",
       "...                                                 ...   \n",
       "9462  Na miesiąc przed wyborami pracę samorządowców ...   \n",
       "9466  To kolejny taki błąd we włoskich mediach mimo ...   \n",
       "9468  - Przede wszystkim słabo znamy twórczość tego ...   \n",
       "9469  Na zabiegi czeka coraz więcej osób, kurczy zaś...   \n",
       "9470                                  Content not found   \n",
       "\n",
       "                                                    url  \\\n",
       "0     https://www.money.pl/gospodarka/mandat-na-raty...   \n",
       "2     https://www.money.pl/gospodarka/hanna-gronkiew...   \n",
       "3     https://www.money.pl/gospodarka/kary-dla-hindu...   \n",
       "4     https://www.money.pl/gospodarka/powodzianie-sz...   \n",
       "5     https://www.money.pl/gospodarka/tak-rosja-szpi...   \n",
       "...                                                 ...   \n",
       "9462  https://prawo.money.pl/aktualnosci/wiadomosci/...   \n",
       "9466  https://prawo.money.pl/aktualnosci/wiadomosci/...   \n",
       "9468  https://prawo.money.pl/aktualnosci/wiadomosci/...   \n",
       "9469  https://prawo.money.pl/aktualnosci/wiadomosci/...   \n",
       "9470  http://e-prawnik.pl/wiadomosci/informacje/kart...   \n",
       "\n",
       "             general_category  \n",
       "0           Ekonomia i Biznes  \n",
       "2      Prawo i Sprawiedliwość  \n",
       "3      Prawo i Sprawiedliwość  \n",
       "4           Ekonomia i Biznes  \n",
       "5           Ekonomia i Biznes  \n",
       "...                       ...  \n",
       "9462          Polityka i Rząd  \n",
       "9466            Świat i Media  \n",
       "9468        Wojny i Konflikty  \n",
       "9469  Zdrowie i Społeczeństwo  \n",
       "9470   Prawo i Sprawiedliwość  \n",
       "\n",
       "[4825 rows x 5 columns]"
      ],
      "text/html": [
       "<div>\n",
       "<style scoped>\n",
       "    .dataframe tbody tr th:only-of-type {\n",
       "        vertical-align: middle;\n",
       "    }\n",
       "\n",
       "    .dataframe tbody tr th {\n",
       "        vertical-align: top;\n",
       "    }\n",
       "\n",
       "    .dataframe thead th {\n",
       "        text-align: right;\n",
       "    }\n",
       "</style>\n",
       "<table border=\"1\" class=\"dataframe\">\n",
       "  <thead>\n",
       "    <tr style=\"text-align: right;\">\n",
       "      <th></th>\n",
       "      <th>headline</th>\n",
       "      <th>category</th>\n",
       "      <th>content</th>\n",
       "      <th>url</th>\n",
       "      <th>general_category</th>\n",
       "    </tr>\n",
       "  </thead>\n",
       "  <tbody>\n",
       "    <tr>\n",
       "      <th>0</th>\n",
       "      <td>Mandat na raty. RPO chce zmian ws. wygaszania ...</td>\n",
       "      <td>Finanse</td>\n",
       "      <td>Kierowcy, którzy spłacają mandat na raty, dłuż...</td>\n",
       "      <td>https://www.money.pl/gospodarka/mandat-na-raty...</td>\n",
       "      <td>Ekonomia i Biznes</td>\n",
       "    </tr>\n",
       "    <tr>\n",
       "      <th>2</th>\n",
       "      <td>Hanna Gronkiewicz-Waltz objęła mandat europose...</td>\n",
       "      <td>Prawo</td>\n",
       "      <td>Parlament Europejski w poniedziałek przyjął do...</td>\n",
       "      <td>https://www.money.pl/gospodarka/hanna-gronkiew...</td>\n",
       "      <td>Prawo i Sprawiedliwość</td>\n",
       "    </tr>\n",
       "    <tr>\n",
       "      <th>3</th>\n",
       "      <td>Kary dla Hindusa i Dunki. Złamali prawo na Lot...</td>\n",
       "      <td>Prawo</td>\n",
       "      <td>Funkcjonariusze Straży Granicznej interweniowa...</td>\n",
       "      <td>https://www.money.pl/gospodarka/kary-dla-hindu...</td>\n",
       "      <td>Prawo i Sprawiedliwość</td>\n",
       "    </tr>\n",
       "    <tr>\n",
       "      <th>4</th>\n",
       "      <td>Powodzianie szykują pozew zbiorowy. \"Ma udowod...</td>\n",
       "      <td>Gospodarka</td>\n",
       "      <td>W Lewinie Brzeskim trwa zbiórka podpisów pod p...</td>\n",
       "      <td>https://www.money.pl/gospodarka/powodzianie-sz...</td>\n",
       "      <td>Ekonomia i Biznes</td>\n",
       "    </tr>\n",
       "    <tr>\n",
       "      <th>5</th>\n",
       "      <td>Tak Rosja szpiegowała Gruzję. Są nowe informacje</td>\n",
       "      <td>Gospodarka</td>\n",
       "      <td>Rosja przez kilka lat prowadziła szeroko zakro...</td>\n",
       "      <td>https://www.money.pl/gospodarka/tak-rosja-szpi...</td>\n",
       "      <td>Ekonomia i Biznes</td>\n",
       "    </tr>\n",
       "    <tr>\n",
       "      <th>...</th>\n",
       "      <td>...</td>\n",
       "      <td>...</td>\n",
       "      <td>...</td>\n",
       "      <td>...</td>\n",
       "      <td>...</td>\n",
       "    </tr>\n",
       "    <tr>\n",
       "      <th>9462</th>\n",
       "      <td>Wybory samorządowe. 61 proc. Polaków dobrze oc...</td>\n",
       "      <td>Wybory samorządowe 2014</td>\n",
       "      <td>Na miesiąc przed wyborami pracę samorządowców ...</td>\n",
       "      <td>https://prawo.money.pl/aktualnosci/wiadomosci/...</td>\n",
       "      <td>Polityka i Rząd</td>\n",
       "    </tr>\n",
       "    <tr>\n",
       "      <th>9466</th>\n",
       "      <td>\"Polskie obozy koncentracyjne\". Wpadka włoskie...</td>\n",
       "      <td>Wiadomości</td>\n",
       "      <td>To kolejny taki błąd we włoskich mediach mimo ...</td>\n",
       "      <td>https://prawo.money.pl/aktualnosci/wiadomosci/...</td>\n",
       "      <td>Świat i Media</td>\n",
       "    </tr>\n",
       "    <tr>\n",
       "      <th>9468</th>\n",
       "      <td>Publikacja Politico. Kreml: To niestworzone bz...</td>\n",
       "      <td>Wojna w Ukrainie</td>\n",
       "      <td>- Przede wszystkim słabo znamy twórczość tego ...</td>\n",
       "      <td>https://prawo.money.pl/aktualnosci/wiadomosci/...</td>\n",
       "      <td>Wojny i Konflikty</td>\n",
       "    </tr>\n",
       "    <tr>\n",
       "      <th>9469</th>\n",
       "      <td>Rehabilitacji lecznicza. NIK: Coraz gorszy dostęp</td>\n",
       "      <td>Nfz</td>\n",
       "      <td>Na zabiegi czeka coraz więcej osób, kurczy zaś...</td>\n",
       "      <td>https://prawo.money.pl/aktualnosci/wiadomosci/...</td>\n",
       "      <td>Zdrowie i Społeczeństwo</td>\n",
       "    </tr>\n",
       "    <tr>\n",
       "      <th>9470</th>\n",
       "      <td>Karta Dużej Rodziny. Zobacz gdzie i do czego u...</td>\n",
       "      <td>Prawo</td>\n",
       "      <td>Content not found</td>\n",
       "      <td>http://e-prawnik.pl/wiadomosci/informacje/kart...</td>\n",
       "      <td>Prawo i Sprawiedliwość</td>\n",
       "    </tr>\n",
       "  </tbody>\n",
       "</table>\n",
       "<p>4825 rows × 5 columns</p>\n",
       "</div>"
      ]
     },
     "execution_count": 39,
     "metadata": {},
     "output_type": "execute_result"
    }
   ],
   "execution_count": 39
  },
  {
   "metadata": {
    "ExecuteTime": {
     "end_time": "2024-12-04T11:50:48.958087Z",
     "start_time": "2024-12-04T11:50:48.949369Z"
    }
   },
   "cell_type": "code",
   "source": "trimmed_data['general_category'].value_counts()",
   "id": "5ff201836901074c",
   "outputs": [
    {
     "data": {
      "text/plain": [
       "general_category\n",
       "Prawo i Sprawiedliwość     1729\n",
       "Świat i Media               750\n",
       "Ekonomia i Biznes           609\n",
       "Polityka i Rząd             583\n",
       "Wojny i Konflikty           429\n",
       "Zdrowie i Społeczeństwo     174\n",
       "Name: count, dtype: int64"
      ]
     },
     "execution_count": 40,
     "metadata": {},
     "output_type": "execute_result"
    }
   ],
   "execution_count": 40
  },
  {
   "metadata": {
    "ExecuteTime": {
     "end_time": "2024-12-04T11:51:19.251833Z",
     "start_time": "2024-12-04T11:51:19.246898Z"
    }
   },
   "cell_type": "code",
   "source": "print(len(raw_data))",
   "id": "1bb9b3ab4deb3658",
   "outputs": [
    {
     "name": "stdout",
     "output_type": "stream",
     "text": [
      "9471\n"
     ]
    }
   ],
   "execution_count": 42
  },
  {
   "metadata": {
    "ExecuteTime": {
     "end_time": "2024-12-04T11:51:06.272996Z",
     "start_time": "2024-12-04T11:51:06.266987Z"
    }
   },
   "cell_type": "code",
   "source": "print(len(trimmed_data))",
   "id": "98e267480cd1ff7b",
   "outputs": [
    {
     "name": "stdout",
     "output_type": "stream",
     "text": [
      "4825\n"
     ]
    }
   ],
   "execution_count": 41
  },
  {
   "metadata": {},
   "cell_type": "code",
   "outputs": [],
   "execution_count": null,
   "source": "raw_data['category'].value_counts()",
   "id": "42f38b20f96452dd"
  },
  {
   "metadata": {
    "ExecuteTime": {
     "end_time": "2024-12-04T11:27:26.135082Z",
     "start_time": "2024-12-04T11:27:26.125340Z"
    }
   },
   "cell_type": "code",
   "source": "raw_data['category'].nunique()",
   "id": "d7737b234696321c",
   "outputs": [
    {
     "data": {
      "text/plain": [
       "2529"
      ]
     },
     "execution_count": 8,
     "metadata": {},
     "output_type": "execute_result"
    }
   ],
   "execution_count": 8
  },
  {
   "metadata": {
    "ExecuteTime": {
     "end_time": "2024-12-04T11:27:38.813041Z",
     "start_time": "2024-12-04T11:27:38.801205Z"
    }
   },
   "cell_type": "code",
   "source": "raw_data['category'].value_counts().loc[lambda x: x > 20]",
   "id": "af20876d8842addb",
   "outputs": [
    {
     "data": {
      "text/plain": [
       "category\n",
       "Prawo                       1511\n",
       "Wiadomości                   651\n",
       "Gospodarka                   320\n",
       "Wybory samorządowe 2014      235\n",
       "Kraj                         207\n",
       "Wojna w Ukrainie             115\n",
       "Praca                         84\n",
       "Prawo pracy                   83\n",
       "Podatki                       57\n",
       "Świat                         44\n",
       "Rosja                         42\n",
       "Wybory prezydenckie 2015      40\n",
       "Handel                        38\n",
       "Finanse                       37\n",
       "Usa                           35\n",
       "Państwo islamskie             35\n",
       "Amber Gold                    33\n",
       "Wybory samorządowe            31\n",
       "Policja                       30\n",
       "Ukraina                       28\n",
       "Biznes                        27\n",
       "Sąd                           27\n",
       "Francja                       25\n",
       "Nik                           24\n",
       "Cba                           24\n",
       "Uokik                         23\n",
       "Włochy                        23\n",
       "Nieruchomości                 22\n",
       "Sytuacja na ukrainie          22\n",
       "Porady                        22\n",
       "Izrael                        22\n",
       "Chiny                         22\n",
       "Konflikt na ukrainie          21\n",
       "Trybunał konstytucyjny        21\n",
       "Pkw                           21\n",
       "Niemcy                        21\n",
       "Firma                         21\n",
       "Zus                           21\n",
       "Name: count, dtype: int64"
      ]
     },
     "execution_count": 10,
     "metadata": {},
     "output_type": "execute_result"
    }
   ],
   "execution_count": 10
  },
  {
   "metadata": {
    "ExecuteTime": {
     "end_time": "2024-12-04T11:30:43.130283Z",
     "start_time": "2024-12-04T11:30:43.118725Z"
    }
   },
   "cell_type": "code",
   "source": "raw_data['category'].value_counts().loc[lambda x: x > 20].count()",
   "id": "569f527914296f76",
   "outputs": [
    {
     "data": {
      "text/plain": [
       "np.int64(38)"
      ]
     },
     "execution_count": 12,
     "metadata": {},
     "output_type": "execute_result"
    }
   ],
   "execution_count": 12
  },
  {
   "metadata": {
    "ExecuteTime": {
     "end_time": "2024-12-04T11:31:03.965896Z",
     "start_time": "2024-12-04T11:31:03.957563Z"
    }
   },
   "cell_type": "code",
   "source": "categories = raw_data['category'].value_counts().loc[lambda x: x > 100].index.tolist()",
   "id": "fe3fe8b3d67434a9",
   "outputs": [],
   "execution_count": 13
  },
  {
   "metadata": {
    "ExecuteTime": {
     "end_time": "2024-11-05T23:02:03.144932Z",
     "start_time": "2024-11-05T23:02:03.139923Z"
    }
   },
   "cell_type": "code",
   "source": "selected_data = raw_data[raw_data['category'].isin(categories)]",
   "id": "b6ae692d4e2e24dc",
   "outputs": [],
   "execution_count": 27
  },
  {
   "metadata": {
    "ExecuteTime": {
     "end_time": "2024-11-05T23:02:42.514962Z",
     "start_time": "2024-11-05T23:02:42.331957Z"
    }
   },
   "cell_type": "code",
   "source": "selected_data.to_csv('../data/selected_data.csv', index=False)",
   "id": "7024a17d8893899c",
   "outputs": [],
   "execution_count": 28
  }
 ],
 "metadata": {
  "kernelspec": {
   "display_name": "Python 3",
   "language": "python",
   "name": "python3"
  },
  "language_info": {
   "codemirror_mode": {
    "name": "ipython",
    "version": 2
   },
   "file_extension": ".py",
   "mimetype": "text/x-python",
   "name": "python",
   "nbconvert_exporter": "python",
   "pygments_lexer": "ipython2",
   "version": "2.7.6"
  }
 },
 "nbformat": 4,
 "nbformat_minor": 5
}
